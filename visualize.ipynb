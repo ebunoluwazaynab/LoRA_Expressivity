{
 "cells": [
  {
   "cell_type": "code",
   "execution_count": null,
   "id": "fb4c4510",
   "metadata": {},
   "outputs": [],
   "source": [
    "# === Code ===\n",
    "from pathlib import Path\n",
    "import re\n",
    "import pandas as pd\n",
    "import plotly.express as px\n",
    "from pathlib import Path\n",
    "import re\n",
    "import pandas as pd\n",
    "import plotly.graph_objects as go"
   ]
  },
  {
   "cell_type": "code",
   "execution_count": 7,
   "id": "92985297",
   "metadata": {},
   "outputs": [
    {
     "data": {
      "application/vnd.plotly.v1+json": {
       "config": {
        "plotlyServerURL": "https://plot.ly"
       },
       "data": [
        {
         "hovertext": [
          "full_finetuning_lr1e-05_best_accuracy",
          "full_finetuning_lr1e-05_best_accuracy",
          "full_finetuning_lr1e-05_best_accuracy",
          "full_finetuning_lr1e-05_best_accuracy",
          "full_finetuning_lr1e-05_best_accuracy"
         ],
         "mode": "lines+markers",
         "name": "full_finetuning",
         "type": "scatter",
         "visible": true,
         "x": {
          "bdata": "AAAAAAAA8D8AAAAAAAAAQAAAAAAAAAhAAAAAAAAAEEAAAAAAAAAUQA==",
          "dtype": "f8"
         },
         "y": {
          "bdata": "hXM3tIl/3j8hbB/mq67nPxmRl+wAw+k/FYWwfZiv6j8XCyS1TDnqPw==",
          "dtype": "f8"
         }
        },
        {
         "hovertext": [
          "lora_r1024_alpha1024_lr1.77827941e-05_best_accuracy",
          "lora_r1024_alpha1024_lr1.77827941e-05_best_accuracy",
          "lora_r1024_alpha1024_lr1.77827941e-05_best_accuracy",
          "lora_r1024_alpha1024_lr1.77827941e-05_best_accuracy",
          "lora_r1024_alpha1024_lr1.77827941e-05_best_accuracy"
         ],
         "mode": "lines+markers",
         "name": "lora_r1024",
         "type": "scatter",
         "visible": true,
         "x": {
          "bdata": "AAAAAAAA8D8AAAAAAAAAQAAAAAAAAAhAAAAAAAAAEEAAAAAAAAAUQA==",
          "dtype": "f8"
         },
         "y": {
          "bdata": "hXM3tIl/3j8z5ej020rjP61xsUBSy+Q/LVOOTr+t5D8leAZVFMLmPw==",
          "dtype": "f8"
         }
        },
        {
         "hovertext": [
          "rslora_r1024_alpha1024_lr0.0001_best_accuracy",
          "rslora_r1024_alpha1024_lr0.0001_best_accuracy",
          "rslora_r1024_alpha1024_lr0.0001_best_accuracy",
          "rslora_r1024_alpha1024_lr0.0001_best_accuracy",
          "rslora_r1024_alpha1024_lr0.0001_best_accuracy"
         ],
         "mode": "lines+markers",
         "name": "rslora_r1024",
         "type": "scatter",
         "visible": true,
         "x": {
          "bdata": "AAAAAAAA8D8AAAAAAAAAQAAAAAAAAAhAAAAAAAAAEEAAAAAAAAAUQA==",
          "dtype": "f8"
         },
         "y": {
          "bdata": "vWQHGM7d4D+HNvHPY0TeP71kBxjO3eA/hzbxz2NE3j+9ZAcYzt3gPw==",
          "dtype": "f8"
         }
        }
       ],
       "layout": {
        "legend": {
         "title": {
          "text": "method"
         }
        },
        "template": {
         "data": {
          "bar": [
           {
            "error_x": {
             "color": "#2a3f5f"
            },
            "error_y": {
             "color": "#2a3f5f"
            },
            "marker": {
             "line": {
              "color": "#E5ECF6",
              "width": 0.5
             },
             "pattern": {
              "fillmode": "overlay",
              "size": 10,
              "solidity": 0.2
             }
            },
            "type": "bar"
           }
          ],
          "barpolar": [
           {
            "marker": {
             "line": {
              "color": "#E5ECF6",
              "width": 0.5
             },
             "pattern": {
              "fillmode": "overlay",
              "size": 10,
              "solidity": 0.2
             }
            },
            "type": "barpolar"
           }
          ],
          "carpet": [
           {
            "aaxis": {
             "endlinecolor": "#2a3f5f",
             "gridcolor": "white",
             "linecolor": "white",
             "minorgridcolor": "white",
             "startlinecolor": "#2a3f5f"
            },
            "baxis": {
             "endlinecolor": "#2a3f5f",
             "gridcolor": "white",
             "linecolor": "white",
             "minorgridcolor": "white",
             "startlinecolor": "#2a3f5f"
            },
            "type": "carpet"
           }
          ],
          "choropleth": [
           {
            "colorbar": {
             "outlinewidth": 0,
             "ticks": ""
            },
            "type": "choropleth"
           }
          ],
          "contour": [
           {
            "colorbar": {
             "outlinewidth": 0,
             "ticks": ""
            },
            "colorscale": [
             [
              0,
              "#0d0887"
             ],
             [
              0.1111111111111111,
              "#46039f"
             ],
             [
              0.2222222222222222,
              "#7201a8"
             ],
             [
              0.3333333333333333,
              "#9c179e"
             ],
             [
              0.4444444444444444,
              "#bd3786"
             ],
             [
              0.5555555555555556,
              "#d8576b"
             ],
             [
              0.6666666666666666,
              "#ed7953"
             ],
             [
              0.7777777777777778,
              "#fb9f3a"
             ],
             [
              0.8888888888888888,
              "#fdca26"
             ],
             [
              1,
              "#f0f921"
             ]
            ],
            "type": "contour"
           }
          ],
          "contourcarpet": [
           {
            "colorbar": {
             "outlinewidth": 0,
             "ticks": ""
            },
            "type": "contourcarpet"
           }
          ],
          "heatmap": [
           {
            "colorbar": {
             "outlinewidth": 0,
             "ticks": ""
            },
            "colorscale": [
             [
              0,
              "#0d0887"
             ],
             [
              0.1111111111111111,
              "#46039f"
             ],
             [
              0.2222222222222222,
              "#7201a8"
             ],
             [
              0.3333333333333333,
              "#9c179e"
             ],
             [
              0.4444444444444444,
              "#bd3786"
             ],
             [
              0.5555555555555556,
              "#d8576b"
             ],
             [
              0.6666666666666666,
              "#ed7953"
             ],
             [
              0.7777777777777778,
              "#fb9f3a"
             ],
             [
              0.8888888888888888,
              "#fdca26"
             ],
             [
              1,
              "#f0f921"
             ]
            ],
            "type": "heatmap"
           }
          ],
          "histogram": [
           {
            "marker": {
             "pattern": {
              "fillmode": "overlay",
              "size": 10,
              "solidity": 0.2
             }
            },
            "type": "histogram"
           }
          ],
          "histogram2d": [
           {
            "colorbar": {
             "outlinewidth": 0,
             "ticks": ""
            },
            "colorscale": [
             [
              0,
              "#0d0887"
             ],
             [
              0.1111111111111111,
              "#46039f"
             ],
             [
              0.2222222222222222,
              "#7201a8"
             ],
             [
              0.3333333333333333,
              "#9c179e"
             ],
             [
              0.4444444444444444,
              "#bd3786"
             ],
             [
              0.5555555555555556,
              "#d8576b"
             ],
             [
              0.6666666666666666,
              "#ed7953"
             ],
             [
              0.7777777777777778,
              "#fb9f3a"
             ],
             [
              0.8888888888888888,
              "#fdca26"
             ],
             [
              1,
              "#f0f921"
             ]
            ],
            "type": "histogram2d"
           }
          ],
          "histogram2dcontour": [
           {
            "colorbar": {
             "outlinewidth": 0,
             "ticks": ""
            },
            "colorscale": [
             [
              0,
              "#0d0887"
             ],
             [
              0.1111111111111111,
              "#46039f"
             ],
             [
              0.2222222222222222,
              "#7201a8"
             ],
             [
              0.3333333333333333,
              "#9c179e"
             ],
             [
              0.4444444444444444,
              "#bd3786"
             ],
             [
              0.5555555555555556,
              "#d8576b"
             ],
             [
              0.6666666666666666,
              "#ed7953"
             ],
             [
              0.7777777777777778,
              "#fb9f3a"
             ],
             [
              0.8888888888888888,
              "#fdca26"
             ],
             [
              1,
              "#f0f921"
             ]
            ],
            "type": "histogram2dcontour"
           }
          ],
          "mesh3d": [
           {
            "colorbar": {
             "outlinewidth": 0,
             "ticks": ""
            },
            "type": "mesh3d"
           }
          ],
          "parcoords": [
           {
            "line": {
             "colorbar": {
              "outlinewidth": 0,
              "ticks": ""
             }
            },
            "type": "parcoords"
           }
          ],
          "pie": [
           {
            "automargin": true,
            "type": "pie"
           }
          ],
          "scatter": [
           {
            "fillpattern": {
             "fillmode": "overlay",
             "size": 10,
             "solidity": 0.2
            },
            "type": "scatter"
           }
          ],
          "scatter3d": [
           {
            "line": {
             "colorbar": {
              "outlinewidth": 0,
              "ticks": ""
             }
            },
            "marker": {
             "colorbar": {
              "outlinewidth": 0,
              "ticks": ""
             }
            },
            "type": "scatter3d"
           }
          ],
          "scattercarpet": [
           {
            "marker": {
             "colorbar": {
              "outlinewidth": 0,
              "ticks": ""
             }
            },
            "type": "scattercarpet"
           }
          ],
          "scattergeo": [
           {
            "marker": {
             "colorbar": {
              "outlinewidth": 0,
              "ticks": ""
             }
            },
            "type": "scattergeo"
           }
          ],
          "scattergl": [
           {
            "marker": {
             "colorbar": {
              "outlinewidth": 0,
              "ticks": ""
             }
            },
            "type": "scattergl"
           }
          ],
          "scattermap": [
           {
            "marker": {
             "colorbar": {
              "outlinewidth": 0,
              "ticks": ""
             }
            },
            "type": "scattermap"
           }
          ],
          "scattermapbox": [
           {
            "marker": {
             "colorbar": {
              "outlinewidth": 0,
              "ticks": ""
             }
            },
            "type": "scattermapbox"
           }
          ],
          "scatterpolar": [
           {
            "marker": {
             "colorbar": {
              "outlinewidth": 0,
              "ticks": ""
             }
            },
            "type": "scatterpolar"
           }
          ],
          "scatterpolargl": [
           {
            "marker": {
             "colorbar": {
              "outlinewidth": 0,
              "ticks": ""
             }
            },
            "type": "scatterpolargl"
           }
          ],
          "scatterternary": [
           {
            "marker": {
             "colorbar": {
              "outlinewidth": 0,
              "ticks": ""
             }
            },
            "type": "scatterternary"
           }
          ],
          "surface": [
           {
            "colorbar": {
             "outlinewidth": 0,
             "ticks": ""
            },
            "colorscale": [
             [
              0,
              "#0d0887"
             ],
             [
              0.1111111111111111,
              "#46039f"
             ],
             [
              0.2222222222222222,
              "#7201a8"
             ],
             [
              0.3333333333333333,
              "#9c179e"
             ],
             [
              0.4444444444444444,
              "#bd3786"
             ],
             [
              0.5555555555555556,
              "#d8576b"
             ],
             [
              0.6666666666666666,
              "#ed7953"
             ],
             [
              0.7777777777777778,
              "#fb9f3a"
             ],
             [
              0.8888888888888888,
              "#fdca26"
             ],
             [
              1,
              "#f0f921"
             ]
            ],
            "type": "surface"
           }
          ],
          "table": [
           {
            "cells": {
             "fill": {
              "color": "#EBF0F8"
             },
             "line": {
              "color": "white"
             }
            },
            "header": {
             "fill": {
              "color": "#C8D4E3"
             },
             "line": {
              "color": "white"
             }
            },
            "type": "table"
           }
          ]
         },
         "layout": {
          "annotationdefaults": {
           "arrowcolor": "#2a3f5f",
           "arrowhead": 0,
           "arrowwidth": 1
          },
          "autotypenumbers": "strict",
          "coloraxis": {
           "colorbar": {
            "outlinewidth": 0,
            "ticks": ""
           }
          },
          "colorscale": {
           "diverging": [
            [
             0,
             "#8e0152"
            ],
            [
             0.1,
             "#c51b7d"
            ],
            [
             0.2,
             "#de77ae"
            ],
            [
             0.3,
             "#f1b6da"
            ],
            [
             0.4,
             "#fde0ef"
            ],
            [
             0.5,
             "#f7f7f7"
            ],
            [
             0.6,
             "#e6f5d0"
            ],
            [
             0.7,
             "#b8e186"
            ],
            [
             0.8,
             "#7fbc41"
            ],
            [
             0.9,
             "#4d9221"
            ],
            [
             1,
             "#276419"
            ]
           ],
           "sequential": [
            [
             0,
             "#0d0887"
            ],
            [
             0.1111111111111111,
             "#46039f"
            ],
            [
             0.2222222222222222,
             "#7201a8"
            ],
            [
             0.3333333333333333,
             "#9c179e"
            ],
            [
             0.4444444444444444,
             "#bd3786"
            ],
            [
             0.5555555555555556,
             "#d8576b"
            ],
            [
             0.6666666666666666,
             "#ed7953"
            ],
            [
             0.7777777777777778,
             "#fb9f3a"
            ],
            [
             0.8888888888888888,
             "#fdca26"
            ],
            [
             1,
             "#f0f921"
            ]
           ],
           "sequentialminus": [
            [
             0,
             "#0d0887"
            ],
            [
             0.1111111111111111,
             "#46039f"
            ],
            [
             0.2222222222222222,
             "#7201a8"
            ],
            [
             0.3333333333333333,
             "#9c179e"
            ],
            [
             0.4444444444444444,
             "#bd3786"
            ],
            [
             0.5555555555555556,
             "#d8576b"
            ],
            [
             0.6666666666666666,
             "#ed7953"
            ],
            [
             0.7777777777777778,
             "#fb9f3a"
            ],
            [
             0.8888888888888888,
             "#fdca26"
            ],
            [
             1,
             "#f0f921"
            ]
           ]
          },
          "colorway": [
           "#636efa",
           "#EF553B",
           "#00cc96",
           "#ab63fa",
           "#FFA15A",
           "#19d3f3",
           "#FF6692",
           "#B6E880",
           "#FF97FF",
           "#FECB52"
          ],
          "font": {
           "color": "#2a3f5f"
          },
          "geo": {
           "bgcolor": "white",
           "lakecolor": "white",
           "landcolor": "#E5ECF6",
           "showlakes": true,
           "showland": true,
           "subunitcolor": "white"
          },
          "hoverlabel": {
           "align": "left"
          },
          "hovermode": "closest",
          "mapbox": {
           "style": "light"
          },
          "paper_bgcolor": "white",
          "plot_bgcolor": "#E5ECF6",
          "polar": {
           "angularaxis": {
            "gridcolor": "white",
            "linecolor": "white",
            "ticks": ""
           },
           "bgcolor": "#E5ECF6",
           "radialaxis": {
            "gridcolor": "white",
            "linecolor": "white",
            "ticks": ""
           }
          },
          "scene": {
           "xaxis": {
            "backgroundcolor": "#E5ECF6",
            "gridcolor": "white",
            "gridwidth": 2,
            "linecolor": "white",
            "showbackground": true,
            "ticks": "",
            "zerolinecolor": "white"
           },
           "yaxis": {
            "backgroundcolor": "#E5ECF6",
            "gridcolor": "white",
            "gridwidth": 2,
            "linecolor": "white",
            "showbackground": true,
            "ticks": "",
            "zerolinecolor": "white"
           },
           "zaxis": {
            "backgroundcolor": "#E5ECF6",
            "gridcolor": "white",
            "gridwidth": 2,
            "linecolor": "white",
            "showbackground": true,
            "ticks": "",
            "zerolinecolor": "white"
           }
          },
          "shapedefaults": {
           "line": {
            "color": "#2a3f5f"
           }
          },
          "ternary": {
           "aaxis": {
            "gridcolor": "white",
            "linecolor": "white",
            "ticks": ""
           },
           "baxis": {
            "gridcolor": "white",
            "linecolor": "white",
            "ticks": ""
           },
           "bgcolor": "#E5ECF6",
           "caxis": {
            "gridcolor": "white",
            "linecolor": "white",
            "ticks": ""
           }
          },
          "title": {
           "x": 0.05
          },
          "xaxis": {
           "automargin": true,
           "gridcolor": "white",
           "linecolor": "white",
           "ticks": "",
           "title": {
            "standoff": 15
           },
           "zerolinecolor": "white",
           "zerolinewidth": 2
          },
          "yaxis": {
           "automargin": true,
           "gridcolor": "white",
           "linecolor": "white",
           "ticks": "",
           "title": {
            "standoff": 15
           },
           "zerolinecolor": "white",
           "zerolinewidth": 2
          }
         }
        },
        "title": {
         "text": "rte · roberta-large · Accuracy vs Epoch (rank 1024)"
        },
        "updatemenus": [
         {
          "buttons": [
           {
            "args": [
             {
              "hovertext": [
               [
                "full_finetuning_lr1e-05_best_accuracy",
                "full_finetuning_lr1e-05_best_accuracy",
                "full_finetuning_lr1e-05_best_accuracy",
                "full_finetuning_lr1e-05_best_accuracy",
                "full_finetuning_lr1e-05_best_accuracy"
               ],
               [
                "lora_r1_alpha1_lr0.001_best_accuracy",
                "lora_r1_alpha1_lr0.001_best_accuracy",
                "lora_r1_alpha1_lr0.001_best_accuracy",
                "lora_r1_alpha1_lr0.001_best_accuracy",
                "lora_r1_alpha1_lr0.001_best_accuracy"
               ],
               [
                "rslora_r1_alpha1_lr0.001_best_accuracy",
                "rslora_r1_alpha1_lr0.001_best_accuracy",
                "rslora_r1_alpha1_lr0.001_best_accuracy",
                "rslora_r1_alpha1_lr0.001_best_accuracy",
                "rslora_r1_alpha1_lr0.001_best_accuracy"
               ]
              ],
              "name": [
               "full_finetuning",
               "lora_r1",
               "rslora_r1"
              ],
              "x": [
               [
                1,
                2,
                3,
                4,
                5
               ],
               [
                1,
                2,
                3,
                4,
                5
               ],
               [
                1,
                2,
                3,
                4,
                5
               ]
              ],
              "y": [
               [
                0.4765342960288808,
                0.740072202166065,
                0.8050541516245487,
                0.8339350180505415,
                0.8194945848375451
               ],
               [
                0.4729241877256318,
                0.7184115523465704,
                0.8122743682310469,
                0.8303249097472925,
                0.8303249097472925
               ],
               [
                0.4729241877256318,
                0.7184115523465704,
                0.8122743682310469,
                0.8303249097472925,
                0.8303249097472925
               ]
              ]
             },
             {
              "title": "rte · roberta-large · Accuracy vs Epoch (rank 1)"
             }
            ],
            "label": "rank 1",
            "method": "update"
           },
           {
            "args": [
             {
              "hovertext": [
               [
                "full_finetuning_lr1e-05_best_accuracy",
                "full_finetuning_lr1e-05_best_accuracy",
                "full_finetuning_lr1e-05_best_accuracy",
                "full_finetuning_lr1e-05_best_accuracy",
                "full_finetuning_lr1e-05_best_accuracy"
               ],
               [
                "lora_r4_alpha4_lr0.001_best_accuracy",
                "lora_r4_alpha4_lr0.001_best_accuracy",
                "lora_r4_alpha4_lr0.001_best_accuracy",
                "lora_r4_alpha4_lr0.001_best_accuracy",
                "lora_r4_alpha4_lr0.001_best_accuracy"
               ],
               [
                "rslora_r4_alpha4_lr0.001_best_accuracy",
                "rslora_r4_alpha4_lr0.001_best_accuracy",
                "rslora_r4_alpha4_lr0.001_best_accuracy",
                "rslora_r4_alpha4_lr0.001_best_accuracy",
                "rslora_r4_alpha4_lr0.001_best_accuracy"
               ]
              ],
              "name": [
               "full_finetuning",
               "lora_r4",
               "rslora_r4"
              ],
              "x": [
               [
                1,
                2,
                3,
                4,
                5
               ],
               [
                1,
                2,
                3,
                4,
                5
               ],
               [
                1,
                2,
                3,
                4,
                5
               ]
              ],
              "y": [
               [
                0.4765342960288808,
                0.740072202166065,
                0.8050541516245487,
                0.8339350180505415,
                0.8194945848375451
               ],
               [
                0.5270758122743683,
                0.8086642599277978,
                0.8267148014440433,
                0.8592057761732852,
                0.855595667870036
               ],
               [
                0.5270758122743683,
                0.7653429602888087,
                0.8447653429602888,
                0.8447653429602888,
                0.8411552346570397
               ]
              ]
             },
             {
              "title": "rte · roberta-large · Accuracy vs Epoch (rank 4)"
             }
            ],
            "label": "rank 4",
            "method": "update"
           },
           {
            "args": [
             {
              "hovertext": [
               [
                "full_finetuning_lr1e-05_best_accuracy",
                "full_finetuning_lr1e-05_best_accuracy",
                "full_finetuning_lr1e-05_best_accuracy",
                "full_finetuning_lr1e-05_best_accuracy",
                "full_finetuning_lr1e-05_best_accuracy"
               ],
               [
                "lora_r8_alpha8_lr0.00031622776601683794_best_accuracy",
                "lora_r8_alpha8_lr0.00031622776601683794_best_accuracy",
                "lora_r8_alpha8_lr0.00031622776601683794_best_accuracy",
                "lora_r8_alpha8_lr0.00031622776601683794_best_accuracy",
                "lora_r8_alpha8_lr0.00031622776601683794_best_accuracy"
               ],
               [
                "rslora_r8_alpha8_lr0.00031622776601683794_best_accuracy",
                "rslora_r8_alpha8_lr0.00031622776601683794_best_accuracy",
                "rslora_r8_alpha8_lr0.00031622776601683794_best_accuracy",
                "rslora_r8_alpha8_lr0.00031622776601683794_best_accuracy",
                "rslora_r8_alpha8_lr0.00031622776601683794_best_accuracy"
               ]
              ],
              "name": [
               "full_finetuning",
               "lora_r8",
               "rslora_r8"
              ],
              "x": [
               [
                1,
                2,
                3,
                4,
                5
               ],
               [
                1,
                2,
                3,
                4,
                5
               ],
               [
                1,
                2,
                3,
                4,
                5
               ]
              ],
              "y": [
               [
                0.4765342960288808,
                0.740072202166065,
                0.8050541516245487,
                0.8339350180505415,
                0.8194945848375451
               ],
               [
                0.4909747292418772,
                0.7472924187725631,
                0.8483754512635379,
                0.8339350180505415,
                0.8194945848375451
               ],
               [
                0.5270758122743683,
                0.8231046931407943,
                0.8122743682310469,
                0.8231046931407943,
                0.8339350180505415
               ]
              ]
             },
             {
              "title": "rte · roberta-large · Accuracy vs Epoch (rank 8)"
             }
            ],
            "label": "rank 8",
            "method": "update"
           },
           {
            "args": [
             {
              "hovertext": [
               [
                "full_finetuning_lr1e-05_best_accuracy",
                "full_finetuning_lr1e-05_best_accuracy",
                "full_finetuning_lr1e-05_best_accuracy",
                "full_finetuning_lr1e-05_best_accuracy",
                "full_finetuning_lr1e-05_best_accuracy"
               ],
               [
                "lora_r16_alpha16_lr0.00031622776601683794_best_accuracy",
                "lora_r16_alpha16_lr0.00031622776601683794_best_accuracy",
                "lora_r16_alpha16_lr0.00031622776601683794_best_accuracy",
                "lora_r16_alpha16_lr0.00031622776601683794_best_accuracy",
                "lora_r16_alpha16_lr0.00031622776601683794_best_accuracy"
               ],
               [
                "rslora_r16_alpha16_lr0.0001_best_accuracy",
                "rslora_r16_alpha16_lr0.0001_best_accuracy",
                "rslora_r16_alpha16_lr0.0001_best_accuracy",
                "rslora_r16_alpha16_lr0.0001_best_accuracy",
                "rslora_r16_alpha16_lr0.0001_best_accuracy"
               ]
              ],
              "name": [
               "full_finetuning",
               "lora_r16",
               "rslora_r16"
              ],
              "x": [
               [
                1,
                2,
                3,
                4,
                5
               ],
               [
                1,
                2,
                3,
                4,
                5
               ],
               [
                1,
                2,
                3,
                4,
                5
               ]
              ],
              "y": [
               [
                0.4765342960288808,
                0.740072202166065,
                0.8050541516245487,
                0.8339350180505415,
                0.8194945848375451
               ],
               [
                0.5306859205776173,
                0.7725631768953068,
                0.8447653429602888,
                0.8592057761732852,
                0.8483754512635379
               ],
               [
                0.4729241877256318,
                0.6823104693140795,
                0.7978339350180506,
                0.855595667870036,
                0.8375451263537906
               ]
              ]
             },
             {
              "title": "rte · roberta-large · Accuracy vs Epoch (rank 16)"
             }
            ],
            "label": "rank 16",
            "method": "update"
           },
           {
            "args": [
             {
              "hovertext": [
               [
                "full_finetuning_lr1e-05_best_accuracy",
                "full_finetuning_lr1e-05_best_accuracy",
                "full_finetuning_lr1e-05_best_accuracy",
                "full_finetuning_lr1e-05_best_accuracy",
                "full_finetuning_lr1e-05_best_accuracy"
               ],
               [
                "lora_r32_alpha32_lr0.0001_best_accuracy",
                "lora_r32_alpha32_lr0.0001_best_accuracy",
                "lora_r32_alpha32_lr0.0001_best_accuracy",
                "lora_r32_alpha32_lr0.0001_best_accuracy",
                "lora_r32_alpha32_lr0.0001_best_accuracy"
               ],
               [
                "rslora_r32_alpha32_lr0.0001_best_accuracy",
                "rslora_r32_alpha32_lr0.0001_best_accuracy",
                "rslora_r32_alpha32_lr0.0001_best_accuracy",
                "rslora_r32_alpha32_lr0.0001_best_accuracy",
                "rslora_r32_alpha32_lr0.0001_best_accuracy"
               ]
              ],
              "name": [
               "full_finetuning",
               "lora_r32",
               "rslora_r32"
              ],
              "x": [
               [
                1,
                2,
                3,
                4,
                5
               ],
               [
                1,
                2,
                3,
                4,
                5
               ],
               [
                1,
                2,
                3,
                4,
                5
               ]
              ],
              "y": [
               [
                0.4765342960288808,
                0.740072202166065,
                0.8050541516245487,
                0.8339350180505415,
                0.8194945848375451
               ],
               [
                0.4729241877256318,
                0.5270758122743683,
                0.7653429602888087,
                0.8194945848375451,
                0.8194945848375451
               ],
               [
                0.631768953068592,
                0.8267148014440433,
                0.8447653429602888,
                0.8447653429602888,
                0.8375451263537906
               ]
              ]
             },
             {
              "title": "rte · roberta-large · Accuracy vs Epoch (rank 32)"
             }
            ],
            "label": "rank 32",
            "method": "update"
           },
           {
            "args": [
             {
              "hovertext": [
               [
                "full_finetuning_lr1e-05_best_accuracy",
                "full_finetuning_lr1e-05_best_accuracy",
                "full_finetuning_lr1e-05_best_accuracy",
                "full_finetuning_lr1e-05_best_accuracy",
                "full_finetuning_lr1e-05_best_accuracy"
               ],
               [
                "lora_r64_alpha64_lr0.00031622776601683794_best_accuracy",
                "lora_r64_alpha64_lr0.00031622776601683794_best_accuracy",
                "lora_r64_alpha64_lr0.00031622776601683794_best_accuracy",
                "lora_r64_alpha64_lr0.00031622776601683794_best_accuracy",
                "lora_r64_alpha64_lr0.00031622776601683794_best_accuracy"
               ],
               [
                "rslora_r64_alpha64_lr1.77827941e-05_best_accuracy",
                "rslora_r64_alpha64_lr1.77827941e-05_best_accuracy",
                "rslora_r64_alpha64_lr1.77827941e-05_best_accuracy",
                "rslora_r64_alpha64_lr1.77827941e-05_best_accuracy",
                "rslora_r64_alpha64_lr1.77827941e-05_best_accuracy"
               ]
              ],
              "name": [
               "full_finetuning",
               "lora_r64",
               "rslora_r64"
              ],
              "x": [
               [
                1,
                2,
                3,
                4,
                5
               ],
               [
                1,
                2,
                3,
                4,
                5
               ],
               [
                1,
                2,
                3,
                4,
                5
               ]
              ],
              "y": [
               [
                0.4765342960288808,
                0.740072202166065,
                0.8050541516245487,
                0.8339350180505415,
                0.8194945848375451
               ],
               [
                0.5451263537906137,
                0.7653429602888087,
                0.8267148014440433,
                0.8447653429602888,
                0.851985559566787
               ],
               [
                0.4729241877256318,
                0.7725631768953068,
                0.8086642599277978,
                0.8447653429602888,
                0.8483754512635379
               ]
              ]
             },
             {
              "title": "rte · roberta-large · Accuracy vs Epoch (rank 64)"
             }
            ],
            "label": "rank 64",
            "method": "update"
           },
           {
            "args": [
             {
              "hovertext": [
               [
                "full_finetuning_lr1e-05_best_accuracy",
                "full_finetuning_lr1e-05_best_accuracy",
                "full_finetuning_lr1e-05_best_accuracy",
                "full_finetuning_lr1e-05_best_accuracy",
                "full_finetuning_lr1e-05_best_accuracy"
               ],
               [
                "lora_r128_alpha128_lr5.623413251903491e-05_best_accuracy",
                "lora_r128_alpha128_lr5.623413251903491e-05_best_accuracy",
                "lora_r128_alpha128_lr5.623413251903491e-05_best_accuracy",
                "lora_r128_alpha128_lr5.623413251903491e-05_best_accuracy",
                "lora_r128_alpha128_lr5.623413251903491e-05_best_accuracy"
               ],
               [
                "rslora_r128_alpha128_lr1.77827941e-05_best_accuracy",
                "rslora_r128_alpha128_lr1.77827941e-05_best_accuracy",
                "rslora_r128_alpha128_lr1.77827941e-05_best_accuracy",
                "rslora_r128_alpha128_lr1.77827941e-05_best_accuracy",
                "rslora_r128_alpha128_lr1.77827941e-05_best_accuracy"
               ]
              ],
              "name": [
               "full_finetuning",
               "lora_r128",
               "rslora_r128"
              ],
              "x": [
               [
                1,
                2,
                3,
                4,
                5
               ],
               [
                1,
                2,
                3,
                4,
                5
               ],
               [
                1,
                2,
                3,
                4,
                5
               ]
              ],
              "y": [
               [
                0.4765342960288808,
                0.740072202166065,
                0.8050541516245487,
                0.8339350180505415,
                0.8194945848375451
               ],
               [
                0.4729241877256318,
                0.7833935018050542,
                0.8267148014440433,
                0.8267148014440433,
                0.8411552346570397
               ],
               [
                0.5270758122743683,
                0.703971119133574,
                0.7581227436823105,
                0.855595667870036,
                0.855595667870036
               ]
              ]
             },
             {
              "title": "rte · roberta-large · Accuracy vs Epoch (rank 128)"
             }
            ],
            "label": "rank 128",
            "method": "update"
           },
           {
            "args": [
             {
              "hovertext": [
               [
                "full_finetuning_lr1e-05_best_accuracy",
                "full_finetuning_lr1e-05_best_accuracy",
                "full_finetuning_lr1e-05_best_accuracy",
                "full_finetuning_lr1e-05_best_accuracy",
                "full_finetuning_lr1e-05_best_accuracy"
               ],
               [
                "lora_r256_alpha256_lr3.1622776601683795e-05_best_accuracy",
                "lora_r256_alpha256_lr3.1622776601683795e-05_best_accuracy",
                "lora_r256_alpha256_lr3.1622776601683795e-05_best_accuracy",
                "lora_r256_alpha256_lr3.1622776601683795e-05_best_accuracy",
                "lora_r256_alpha256_lr3.1622776601683795e-05_best_accuracy"
               ],
               [
                "rslora_r256_alpha256_lr0.00031622776601683794_best_accuracy",
                "rslora_r256_alpha256_lr0.00031622776601683794_best_accuracy",
                "rslora_r256_alpha256_lr0.00031622776601683794_best_accuracy",
                "rslora_r256_alpha256_lr0.00031622776601683794_best_accuracy",
                "rslora_r256_alpha256_lr0.00031622776601683794_best_accuracy"
               ]
              ],
              "name": [
               "full_finetuning",
               "lora_r256",
               "rslora_r256"
              ],
              "x": [
               [
                1,
                2,
                3,
                4,
                5
               ],
               [
                1,
                2,
                3,
                4,
                5
               ],
               [
                1,
                2,
                3,
                4,
                5
               ]
              ],
              "y": [
               [
                0.4765342960288808,
                0.740072202166065,
                0.8050541516245487,
                0.8339350180505415,
                0.8194945848375451
               ],
               [
                0.4729241877256318,
                0.8050541516245487,
                0.8303249097472925,
                0.8375451263537906,
                0.8447653429602888
               ],
               [
                0.4729241877256318,
                0.5270758122743683,
                0.5270758122743683,
                0.4729241877256318,
                0.5270758122743683
               ]
              ]
             },
             {
              "title": "rte · roberta-large · Accuracy vs Epoch (rank 256)"
             }
            ],
            "label": "rank 256",
            "method": "update"
           },
           {
            "args": [
             {
              "hovertext": [
               [
                "full_finetuning_lr1e-05_best_accuracy",
                "full_finetuning_lr1e-05_best_accuracy",
                "full_finetuning_lr1e-05_best_accuracy",
                "full_finetuning_lr1e-05_best_accuracy",
                "full_finetuning_lr1e-05_best_accuracy"
               ],
               [
                "lora_r512_alpha512_lr1.778279410038923e-05_best_accuracy",
                "lora_r512_alpha512_lr1.778279410038923e-05_best_accuracy",
                "lora_r512_alpha512_lr1.778279410038923e-05_best_accuracy",
                "lora_r512_alpha512_lr1.778279410038923e-05_best_accuracy",
                "lora_r512_alpha512_lr1.778279410038923e-05_best_accuracy"
               ],
               [
                "rslora_r512_alpha512_lr0.0001_best_accuracy",
                "rslora_r512_alpha512_lr0.0001_best_accuracy",
                "rslora_r512_alpha512_lr0.0001_best_accuracy",
                "rslora_r512_alpha512_lr0.0001_best_accuracy",
                "rslora_r512_alpha512_lr0.0001_best_accuracy"
               ]
              ],
              "name": [
               "full_finetuning",
               "lora_r512",
               "rslora_r512"
              ],
              "x": [
               [
                1,
                2,
                3,
                4,
                5
               ],
               [
                1,
                2,
                3,
                4,
                5
               ],
               [
                1,
                2,
                3,
                4,
                5
               ]
              ],
              "y": [
               [
                0.4765342960288808,
                0.740072202166065,
                0.8050541516245487,
                0.8339350180505415,
                0.8194945848375451
               ],
               [
                0.4729241877256318,
                0.7833935018050542,
                0.8194945848375451,
                0.8303249097472925,
                0.8339350180505415
               ],
               [
                0.4729241877256318,
                0.4729241877256318,
                0.5270758122743683,
                0.4729241877256318,
                0.5270758122743683
               ]
              ]
             },
             {
              "title": "rte · roberta-large · Accuracy vs Epoch (rank 512)"
             }
            ],
            "label": "rank 512",
            "method": "update"
           },
           {
            "args": [
             {
              "hovertext": [
               [
                "full_finetuning_lr1e-05_best_accuracy",
                "full_finetuning_lr1e-05_best_accuracy",
                "full_finetuning_lr1e-05_best_accuracy",
                "full_finetuning_lr1e-05_best_accuracy",
                "full_finetuning_lr1e-05_best_accuracy"
               ],
               [
                "lora_r1024_alpha1024_lr1.77827941e-05_best_accuracy",
                "lora_r1024_alpha1024_lr1.77827941e-05_best_accuracy",
                "lora_r1024_alpha1024_lr1.77827941e-05_best_accuracy",
                "lora_r1024_alpha1024_lr1.77827941e-05_best_accuracy",
                "lora_r1024_alpha1024_lr1.77827941e-05_best_accuracy"
               ],
               [
                "rslora_r1024_alpha1024_lr0.0001_best_accuracy",
                "rslora_r1024_alpha1024_lr0.0001_best_accuracy",
                "rslora_r1024_alpha1024_lr0.0001_best_accuracy",
                "rslora_r1024_alpha1024_lr0.0001_best_accuracy",
                "rslora_r1024_alpha1024_lr0.0001_best_accuracy"
               ]
              ],
              "name": [
               "full_finetuning",
               "lora_r1024",
               "rslora_r1024"
              ],
              "x": [
               [
                1,
                2,
                3,
                4,
                5
               ],
               [
                1,
                2,
                3,
                4,
                5
               ],
               [
                1,
                2,
                3,
                4,
                5
               ]
              ],
              "y": [
               [
                0.4765342960288808,
                0.740072202166065,
                0.8050541516245487,
                0.8339350180505415,
                0.8194945848375451
               ],
               [
                0.4765342960288808,
                0.6028880866425993,
                0.6498194945848376,
                0.6462093862815884,
                0.7111913357400722
               ],
               [
                0.5270758122743683,
                0.4729241877256318,
                0.5270758122743683,
                0.4729241877256318,
                0.5270758122743683
               ]
              ]
             },
             {
              "title": "rte · roberta-large · Accuracy vs Epoch (rank 1024)"
             }
            ],
            "label": "rank 1024",
            "method": "update"
           }
          ],
          "direction": "down",
          "showactive": true,
          "x": 1,
          "xanchor": "right",
          "y": 1.1,
          "yanchor": "top"
         }
        ],
        "xaxis": {
         "title": {
          "text": "epoch"
         }
        },
        "yaxis": {
         "title": {
          "text": "accuracy"
         }
        }
       }
      }
     },
     "metadata": {},
     "output_type": "display_data"
    }
   ],
   "source": [
    "# --- config (edit these) ---\n",
    "ROOT = \"./glue_results_final\"\n",
    "TASK = \"rte\"\n",
    "MODEL = \"roberta-large\"   # or \"roberta-large\"\n",
    "\n",
    "# --- imports ---\n",
    "from pathlib import Path\n",
    "import re\n",
    "import pandas as pd\n",
    "import plotly.graph_objects as go\n",
    "\n",
    "METHODS = (\"full_finetuning\", \"lora\", \"rslora\")\n",
    "\n",
    "def parse_rank(run_name: str):\n",
    "    m = re.search(r\"_r(\\d+)_\", run_name)\n",
    "    return int(m.group(1)) if m else None\n",
    "\n",
    "def read_eval(csv_path: Path) -> pd.DataFrame | None:\n",
    "    try:\n",
    "        df = pd.read_csv(csv_path)\n",
    "    except Exception:\n",
    "        return None\n",
    "    # normalize column names\n",
    "    if \"eval_accuracy\" in df.columns and \"accuracy\" not in df.columns:\n",
    "        df = df.rename(columns={\"eval_accuracy\": \"accuracy\"})\n",
    "    if \"eval_loss\" in df.columns and \"loss\" not in df.columns:\n",
    "        df = df.rename(columns={\"eval_loss\": \"loss\"})\n",
    "    # ensure epoch column\n",
    "    if \"epoch\" not in df.columns:\n",
    "        df = df.reset_index().rename(columns={\"index\": \"epoch\"})\n",
    "        df[\"epoch\"] = df[\"epoch\"] + 1\n",
    "    # keep only epochs 1..5 if present\n",
    "    df = df[df[\"epoch\"].astype(float).between(1, 5)]\n",
    "    return df\n",
    "\n",
    "# --- load data (best runs only) ---\n",
    "base = Path(ROOT) / TASK / MODEL\n",
    "runs = []\n",
    "for meth in METHODS:\n",
    "    mdir = base / meth\n",
    "    if not mdir.exists():\n",
    "        continue\n",
    "    for run in sorted([p for p in mdir.iterdir() if p.is_dir() and p.name.endswith(\"_best_accuracy\")]):\n",
    "        df = read_eval(run / \"eval_per_epoch.csv\")\n",
    "        if df is None or \"accuracy\" not in df.columns:\n",
    "            continue\n",
    "        df = df.sort_values(\"epoch\")\n",
    "        runs.append({\n",
    "            \"method\": meth,\n",
    "            \"rank\": parse_rank(run.name) if meth != \"full_finetuning\" else None,\n",
    "            \"name\": run.name,\n",
    "            \"df\": df\n",
    "        })\n",
    "\n",
    "# group helpers\n",
    "full = next((r for r in runs if r[\"method\"] == \"full_finetuning\"), None)\n",
    "ranks = sorted({r[\"rank\"] for r in runs if r[\"rank\"] is not None})\n",
    "\n",
    "# --- build figure: Accuracy vs Epoch with rank dropdown ---\n",
    "fig = go.Figure()\n",
    "\n",
    "# trace 0: full_finetuning (static)\n",
    "if full is not None:\n",
    "    fig.add_trace(go.Scatter(\n",
    "        x=full[\"df\"][\"epoch\"], y=full[\"df\"][\"accuracy\"],\n",
    "        mode=\"lines+markers\",\n",
    "        name=\"full_finetuning\",\n",
    "        hovertext=[full[\"name\"]]*len(full[\"df\"]),\n",
    "        visible=True\n",
    "    ))\n",
    "else:\n",
    "    fig.add_trace(go.Scatter(x=[], y=[], name=\"full_finetuning\", visible=True))\n",
    "\n",
    "# pick initial rank (first available)\n",
    "r0 = ranks[9] if ranks else None\n",
    "def slice_rank(method, r):\n",
    "    for item in runs:\n",
    "        if item[\"method\"] == method and item[\"rank\"] == r:\n",
    "            return item[\"df\"], item[\"name\"]\n",
    "    return pd.DataFrame({\"epoch\": [], \"accuracy\": []}), \"\"\n",
    "\n",
    "# trace 1: lora at r0\n",
    "df_l0, nm_l0 = slice_rank(\"lora\", r0) if r0 is not None else (pd.DataFrame({\"epoch\": [], \"accuracy\": []}), \"\")\n",
    "fig.add_trace(go.Scatter(\n",
    "    x=df_l0[\"epoch\"], y=df_l0[\"accuracy\"], mode=\"lines+markers\",\n",
    "    name=f\"lora_r{r0}\" if r0 is not None else \"lora\",\n",
    "    hovertext=[nm_l0]*len(df_l0), visible=True\n",
    "))\n",
    "\n",
    "# trace 2: rslora at r0\n",
    "df_r0, nm_r0 = slice_rank(\"rslora\", r0) if r0 is not None else (pd.DataFrame({\"epoch\": [], \"accuracy\": []}), \"\")\n",
    "fig.add_trace(go.Scatter(\n",
    "    x=df_r0[\"epoch\"], y=df_r0[\"accuracy\"], mode=\"lines+markers\",\n",
    "    name=f\"rslora_r{r0}\" if r0 is not None else \"rslora\",\n",
    "    hovertext=[nm_r0]*len(df_r0), visible=True\n",
    "))\n",
    "\n",
    "# dropdown to switch rank\n",
    "buttons = []\n",
    "for r in ranks:\n",
    "    dfl, nml = slice_rank(\"lora\", r)\n",
    "    dfr, nmr = slice_rank(\"rslora\", r)\n",
    "\n",
    "    # traces: 0=full_ft, 1=lora, 2=rslora\n",
    "    buttons.append(dict(\n",
    "        label=f\"rank {r}\",\n",
    "        method=\"update\",\n",
    "        args=[\n",
    "            {\"x\": [\n",
    "                full[\"df\"][\"epoch\"] if full else [],  # trace 0\n",
    "                dfl[\"epoch\"],                         # trace 1\n",
    "                dfr[\"epoch\"],                         # trace 2\n",
    "            ],\n",
    "             \"y\": [\n",
    "                full[\"df\"][\"accuracy\"] if full else [],\n",
    "                dfl[\"accuracy\"],\n",
    "                dfr[\"accuracy\"],\n",
    "             ],\n",
    "             \"name\": [\n",
    "                \"full_finetuning\",\n",
    "                f\"lora_r{r}\",\n",
    "                f\"rslora_r{r}\",\n",
    "             ],\n",
    "             \"hovertext\": [\n",
    "                [full[\"name\"]]*len(full[\"df\"]) if full else [],\n",
    "                [nml]*len(dfl),\n",
    "                [nmr]*len(dfr),\n",
    "             ]},\n",
    "            {\"title\": f\"{TASK} · {MODEL} · Accuracy vs Epoch (rank {r})\"}\n",
    "        ]\n",
    "    ))\n",
    "\n",
    "fig.update_layout(\n",
    "    title=f\"{TASK} · {MODEL} · Accuracy vs Epoch\" + (f\" (rank {r0})\" if r0 is not None else \"\"),\n",
    "    xaxis_title=\"epoch\",\n",
    "    yaxis_title=\"accuracy\",\n",
    "    legend_title_text=\"method\",\n",
    "    updatemenus=[dict(\n",
    "        buttons=buttons,\n",
    "        direction=\"down\",\n",
    "        showactive=True,\n",
    "        x=1.0, xanchor=\"right\",\n",
    "        y=1.1, yanchor=\"top\"\n",
    "    )] if ranks else []\n",
    ")\n",
    "\n",
    "fig\n"
   ]
  },
  {
   "cell_type": "code",
   "execution_count": 8,
   "id": "ac991966",
   "metadata": {},
   "outputs": [
    {
     "data": {
      "application/vnd.plotly.v1+json": {
       "config": {
        "plotlyServerURL": "https://plot.ly"
       },
       "data": [
        {
         "hovertext": [
          "full_finetuning_lr3.1622776601683795e-05_best_accuracy",
          "full_finetuning_lr3.1622776601683795e-05_best_accuracy",
          "full_finetuning_lr3.1622776601683795e-05_best_accuracy",
          "full_finetuning_lr3.1622776601683795e-05_best_accuracy",
          "full_finetuning_lr3.1622776601683795e-05_best_accuracy"
         ],
         "legendgroup": "full_finetuning",
         "line": {
          "color": "black",
          "dash": "solid"
         },
         "mode": "lines+markers",
         "name": "full_finetuning",
         "type": "scatter",
         "x": {
          "bdata": "AAAAAAAA8D8AAAAAAAAAQAAAAAAAAAhAAAAAAAAAEEAAAAAAAAAUQA==",
          "dtype": "f8"
         },
         "y": {
          "bdata": "MiIv2QGG4z8owTOoohDmP6VZ42KBpOY/HZ1+W2nW6D+aNS4WSGrpPw==",
          "dtype": "f8"
         }
        },
        {
         "hovertext": [
          "lora_r128_alpha128_lr5.623413251903491e-05_best_accuracy",
          "lora_r128_alpha128_lr5.623413251903491e-05_best_accuracy",
          "lora_r128_alpha128_lr5.623413251903491e-05_best_accuracy",
          "lora_r128_alpha128_lr5.623413251903491e-05_best_accuracy",
          "lora_r128_alpha128_lr5.623413251903491e-05_best_accuracy"
         ],
         "legendgroup": "lora",
         "line": {
          "color": "red",
          "dash": "longdash"
         },
         "mode": "lines+markers",
         "name": "lora_r128",
         "type": "scatter",
         "x": {
          "bdata": "AAAAAAAA8D8AAAAAAAAAQAAAAAAAAAhAAAAAAAAAEEAAAAAAAAAUQA==",
          "dtype": "f8"
         },
         "y": {
          "bdata": "hzbxz2NE3j+HNvHPY0TeP6iiELYP8+U/qKIQtg/z5T+k028rzRrnPw==",
          "dtype": "f8"
         }
        },
        {
         "hovertext": [
          "lora_r16_alpha16_lr0.00031622776601683794_best_accuracy",
          "lora_r16_alpha16_lr0.00031622776601683794_best_accuracy",
          "lora_r16_alpha16_lr0.00031622776601683794_best_accuracy",
          "lora_r16_alpha16_lr0.00031622776601683794_best_accuracy",
          "lora_r16_alpha16_lr0.00031622776601683794_best_accuracy"
         ],
         "legendgroup": "lora",
         "line": {
          "color": "red",
          "dash": "dashdot"
         },
         "mode": "lines+markers",
         "name": "lora_r16",
         "type": "scatter",
         "x": {
          "bdata": "AAAAAAAA8D8AAAAAAAAAQAAAAAAAAAhAAAAAAAAAEEAAAAAAAAAUQA==",
          "dtype": "f8"
         },
         "y": {
          "bdata": "uVggqWXK4T+HNvHPY0TeP640a1wskOQ/JjvAcO6G5j8ktUw5Ov3mPw==",
          "dtype": "f8"
         }
        },
        {
         "hovertext": [
          "lora_r1_alpha1_lr0.001_best_accuracy",
          "lora_r1_alpha1_lr0.001_best_accuracy",
          "lora_r1_alpha1_lr0.001_best_accuracy",
          "lora_r1_alpha1_lr0.001_best_accuracy",
          "lora_r1_alpha1_lr0.001_best_accuracy"
         ],
         "legendgroup": "lora",
         "line": {
          "color": "red",
          "dash": "dot"
         },
         "mode": "lines+markers",
         "name": "lora_r1",
         "type": "scatter",
         "x": {
          "bdata": "AAAAAAAA8D8AAAAAAAAAQAAAAAAAAAhAAAAAAAAAEEAAAAAAAAAUQA==",
          "dtype": "f8"
         },
         "y": {
          "bdata": "vWQHGM7d4D8qR6ffVprlPyjBM6iiEOY/oYpC2D7M5z+gx4i8ZAfoPw==",
          "dtype": "f8"
         }
        },
        {
         "hovertext": [
          "lora_r256_alpha256_lr3.1622776601683795e-05_best_accuracy",
          "lora_r256_alpha256_lr3.1622776601683795e-05_best_accuracy",
          "lora_r256_alpha256_lr3.1622776601683795e-05_best_accuracy",
          "lora_r256_alpha256_lr3.1622776601683795e-05_best_accuracy",
          "lora_r256_alpha256_lr3.1622776601683795e-05_best_accuracy"
         ],
         "legendgroup": "lora",
         "line": {
          "color": "red",
          "dash": "longdash"
         },
         "mode": "lines+markers",
         "name": "lora_r256",
         "type": "scatter",
         "x": {
          "bdata": "AAAAAAAA8D8AAAAAAAAAQAAAAAAAAAhAAAAAAAAAEEAAAAAAAAAUQA==",
          "dtype": "f8"
         },
         "y": {
          "bdata": "hzbxz2NE3j+oohC2D/PlP6WWKUen3+Y/JLVMOTr95j+k028rzRrnPw==",
          "dtype": "f8"
         }
        },
        {
         "hovertext": [
          "lora_r32_alpha32_lr0.00031622776601683794_best_accuracy",
          "lora_r32_alpha32_lr0.00031622776601683794_best_accuracy",
          "lora_r32_alpha32_lr0.00031622776601683794_best_accuracy",
          "lora_r32_alpha32_lr0.00031622776601683794_best_accuracy",
          "lora_r32_alpha32_lr0.00031622776601683794_best_accuracy"
         ],
         "legendgroup": "lora",
         "line": {
          "color": "red",
          "dash": "dash"
         },
         "mode": "lines+markers",
         "name": "lora_r32",
         "type": "scatter",
         "x": {
          "bdata": "AAAAAAAA8D8AAAAAAAAAQAAAAAAAAAhAAAAAAAAAEEAAAAAAAAAUQA==",
          "dtype": "f8"
         },
         "y": {
          "bdata": "hzbxz2NE3j+yAwznbmjjPyPykh1gOOc/nLuhTfzz6D+cu6FN/PPoPw==",
          "dtype": "f8"
         }
        },
        {
         "hovertext": [
          "lora_r4_alpha4_lr0.001_best_accuracy",
          "lora_r4_alpha4_lr0.001_best_accuracy",
          "lora_r4_alpha4_lr0.001_best_accuracy",
          "lora_r4_alpha4_lr0.001_best_accuracy",
          "lora_r4_alpha4_lr0.001_best_accuracy"
         ],
         "legendgroup": "lora",
         "line": {
          "color": "red",
          "dash": "dot"
         },
         "mode": "lines+markers",
         "name": "lora_r4",
         "type": "scatter",
         "x": {
          "bdata": "AAAAAAAA8D8AAAAAAAAAQAAAAAAAAAhAAAAAAAAAEEAAAAAAAAAUQA==",
          "dtype": "f8"
         },
         "y": {
          "bdata": "PIMqCmH74D+k028rzRrnP58Ez6CKQug/HmA4d0Ob6D8f5quu9yToPw==",
          "dtype": "f8"
         }
        },
        {
         "hovertext": [
          "lora_r512_alpha512_lr3.1622776601683795e-05_best_accuracy",
          "lora_r512_alpha512_lr3.1622776601683795e-05_best_accuracy",
          "lora_r512_alpha512_lr3.1622776601683795e-05_best_accuracy",
          "lora_r512_alpha512_lr3.1622776601683795e-05_best_accuracy",
          "lora_r512_alpha512_lr3.1622776601683795e-05_best_accuracy"
         ],
         "legendgroup": "lora",
         "line": {
          "color": "red",
          "dash": "solid"
         },
         "mode": "lines+markers",
         "name": "lora_r512",
         "type": "scatter",
         "x": {
          "bdata": "AAAAAAAA8D8AAAAAAAAAQAAAAAAAAAhAAAAAAAAAEEAAAAAAAAAUQA==",
          "dtype": "f8"
         },
         "y": {
          "bdata": "hzbxz2NE3j8rCmH7MF/lP6YcnX5baeY/phydfltp5j+k028rzRrnPw==",
          "dtype": "f8"
         }
        },
        {
         "hovertext": [
          "lora_r64_alpha64_lr0.0001_best_accuracy",
          "lora_r64_alpha64_lr0.0001_best_accuracy",
          "lora_r64_alpha64_lr0.0001_best_accuracy",
          "lora_r64_alpha64_lr0.0001_best_accuracy",
          "lora_r64_alpha64_lr0.0001_best_accuracy"
         ],
         "legendgroup": "lora",
         "line": {
          "color": "red",
          "dash": "dash"
         },
         "mode": "lines+markers",
         "name": "lora_r64",
         "type": "scatter",
         "x": {
          "bdata": "AAAAAAAA8D8AAAAAAAAAQAAAAAAAAAhAAAAAAAAAEEAAAAAAAAAUQA==",
          "dtype": "f8"
         },
         "y": {
          "bdata": "hzbxz2NE3j+tcbFAUsvkPyY7wHDuhuY/H+arrvck6D8hbB/mq67nPw==",
          "dtype": "f8"
         }
        },
        {
         "hovertext": [
          "lora_r768_alpha768_lr1e-05_best_accuracy",
          "lora_r768_alpha768_lr1e-05_best_accuracy",
          "lora_r768_alpha768_lr1e-05_best_accuracy",
          "lora_r768_alpha768_lr1e-05_best_accuracy",
          "lora_r768_alpha768_lr1e-05_best_accuracy"
         ],
         "legendgroup": "lora",
         "line": {
          "color": "red",
          "dash": "solid"
         },
         "mode": "lines+markers",
         "name": "lora_r768",
         "type": "scatter",
         "x": {
          "bdata": "AAAAAAAA8D8AAAAAAAAAQAAAAAAAAAhAAAAAAAAAEEAAAAAAAAAUQA==",
          "dtype": "f8"
         },
         "y": {
          "bdata": "gKSWKUen3z++6npPgmfgPyf+eYzIS+Y/J/55jMhL5j+lWeNigaTmPw==",
          "dtype": "f8"
         }
        },
        {
         "hovertext": [
          "lora_r8_alpha8_lr0.001_best_accuracy",
          "lora_r8_alpha8_lr0.001_best_accuracy",
          "lora_r8_alpha8_lr0.001_best_accuracy",
          "lora_r8_alpha8_lr0.001_best_accuracy",
          "lora_r8_alpha8_lr0.001_best_accuracy"
         ],
         "legendgroup": "lora",
         "line": {
          "color": "red",
          "dash": "dashdot"
         },
         "mode": "lines+markers",
         "name": "lora_r8",
         "type": "scatter",
         "x": {
          "bdata": "AAAAAAAA8D8AAAAAAAAAQAAAAAAAAAhAAAAAAAAAEEAAAAAAAAAUQA==",
          "dtype": "f8"
         },
         "y": {
          "bdata": "vWQHGM7d4D8mO8Bw7obmP6GKQtg+zOc/HZ1+W2nW6D+eQRWFsH3oPw==",
          "dtype": "f8"
         }
        },
        {
         "hovertext": [
          "rslora_r128_alpha128_lr1e-05_best_accuracy",
          "rslora_r128_alpha128_lr1e-05_best_accuracy",
          "rslora_r128_alpha128_lr1e-05_best_accuracy",
          "rslora_r128_alpha128_lr1e-05_best_accuracy",
          "rslora_r128_alpha128_lr1e-05_best_accuracy"
         ],
         "legendgroup": "rslora",
         "line": {
          "color": "green",
          "dash": "longdash"
         },
         "mode": "lines+markers",
         "name": "rslora_r128",
         "type": "scatter",
         "x": {
          "bdata": "AAAAAAAA8D8AAAAAAAAAQAAAAAAAAAhAAAAAAAAAEEAAAAAAAAAUQA==",
          "dtype": "f8"
         },
         "y": {
          "bdata": "hzbxz2NE3j+r6z0JnkHlPyf+eYzIS+Y/JLVMOTr95j8ktUw5Ov3mPw==",
          "dtype": "f8"
         }
        },
        {
         "hovertext": [
          "rslora_r16_alpha16_lr0.0001_best_accuracy",
          "rslora_r16_alpha16_lr0.0001_best_accuracy",
          "rslora_r16_alpha16_lr0.0001_best_accuracy",
          "rslora_r16_alpha16_lr0.0001_best_accuracy",
          "rslora_r16_alpha16_lr0.0001_best_accuracy"
         ],
         "legendgroup": "rslora",
         "line": {
          "color": "green",
          "dash": "dashdot"
         },
         "mode": "lines+markers",
         "name": "rslora_r16",
         "type": "scatter",
         "x": {
          "bdata": "AAAAAAAA8D8AAAAAAAAAQAAAAAAAAAhAAAAAAAAAEEAAAAAAAAAUQA==",
          "dtype": "f8"
         },
         "y": {
          "bdata": "hzbxz2NE3j+HNvHPY0TePy1Tjk6/reQ/pVnjYoGk5j+k028rzRrnPw==",
          "dtype": "f8"
         }
        },
        {
         "hovertext": [
          "rslora_r1_alpha1_lr0.001_best_accuracy",
          "rslora_r1_alpha1_lr0.001_best_accuracy",
          "rslora_r1_alpha1_lr0.001_best_accuracy",
          "rslora_r1_alpha1_lr0.001_best_accuracy",
          "rslora_r1_alpha1_lr0.001_best_accuracy"
         ],
         "legendgroup": "rslora",
         "line": {
          "color": "green",
          "dash": "dot"
         },
         "mode": "lines+markers",
         "name": "rslora_r1",
         "type": "scatter",
         "x": {
          "bdata": "AAAAAAAA8D8AAAAAAAAAQAAAAAAAAAhAAAAAAAAAEEAAAAAAAAAUQA==",
          "dtype": "f8"
         },
         "y": {
          "bdata": "vWQHGM7d4D8qR6ffVprlPyjBM6iiEOY/oYpC2D7M5z+gx4i8ZAfoPw==",
          "dtype": "f8"
         }
        },
        {
         "hovertext": [
          "rslora_r256_alpha256_lr0.001_best_accuracy",
          "rslora_r256_alpha256_lr0.001_best_accuracy",
          "rslora_r256_alpha256_lr0.001_best_accuracy",
          "rslora_r256_alpha256_lr0.001_best_accuracy",
          "rslora_r256_alpha256_lr0.001_best_accuracy"
         ],
         "legendgroup": "rslora",
         "line": {
          "color": "green",
          "dash": "longdash"
         },
         "mode": "lines+markers",
         "name": "rslora_r256",
         "type": "scatter",
         "x": {
          "bdata": "AAAAAAAA8D8AAAAAAAAAQAAAAAAAAAhAAAAAAAAAEEAAAAAAAAAUQA==",
          "dtype": "f8"
         },
         "y": {
          "bdata": "vWQHGM7d4D+HNvHPY0TeP4c28c9jRN4/hzbxz2NE3j+9ZAcYzt3gPw==",
          "dtype": "f8"
         }
        },
        {
         "hovertext": [
          "rslora_r32_alpha32_lr0.00031622776601683794_best_accuracy",
          "rslora_r32_alpha32_lr0.00031622776601683794_best_accuracy",
          "rslora_r32_alpha32_lr0.00031622776601683794_best_accuracy",
          "rslora_r32_alpha32_lr0.00031622776601683794_best_accuracy",
          "rslora_r32_alpha32_lr0.00031622776601683794_best_accuracy"
         ],
         "legendgroup": "rslora",
         "line": {
          "color": "green",
          "dash": "dash"
         },
         "mode": "lines+markers",
         "name": "rslora_r32",
         "type": "scatter",
         "x": {
          "bdata": "AAAAAAAA8D8AAAAAAAAAQAAAAAAAAAhAAAAAAAAAEEAAAAAAAAAUQA==",
          "dtype": "f8"
         },
         "y": {
          "bdata": "hzbxz2NE3j+HNvHPY0TeP71kBxjO3eA/hzbxz2NE3j+9ZAcYzt3gPw==",
          "dtype": "f8"
         }
        },
        {
         "hovertext": [
          "rslora_r4_alpha4_lr0.001_best_accuracy",
          "rslora_r4_alpha4_lr0.001_best_accuracy",
          "rslora_r4_alpha4_lr0.001_best_accuracy",
          "rslora_r4_alpha4_lr0.001_best_accuracy",
          "rslora_r4_alpha4_lr0.001_best_accuracy"
         ],
         "legendgroup": "rslora",
         "line": {
          "color": "green",
          "dash": "dot"
         },
         "mode": "lines+markers",
         "name": "rslora_r4",
         "type": "scatter",
         "x": {
          "bdata": "AAAAAAAA8D8AAAAAAAAAQAAAAAAAAAhAAAAAAAAAEEAAAAAAAAAUQA==",
          "dtype": "f8"
         },
         "y": {
          "bdata": "vWQHGM7d4D+v9yR4BlXkP6DHiLxkB+g/GxcLJLVM6T8eYDh3Q5voPw==",
          "dtype": "f8"
         }
        },
        {
         "hovertext": [
          "rslora_r512_alpha512_lr0.0001_best_accuracy",
          "rslora_r512_alpha512_lr0.0001_best_accuracy",
          "rslora_r512_alpha512_lr0.0001_best_accuracy",
          "rslora_r512_alpha512_lr0.0001_best_accuracy",
          "rslora_r512_alpha512_lr0.0001_best_accuracy"
         ],
         "legendgroup": "rslora",
         "line": {
          "color": "green",
          "dash": "solid"
         },
         "mode": "lines+markers",
         "name": "rslora_r512",
         "type": "scatter",
         "x": {
          "bdata": "AAAAAAAA8D8AAAAAAAAAQAAAAAAAAAhAAAAAAAAAEEAAAAAAAAAUQA==",
          "dtype": "f8"
         },
         "y": {
          "bdata": "vWQHGM7d4D+HNvHPY0TeP71kBxjO3eA/hzbxz2NE3j+9ZAcYzt3gPw==",
          "dtype": "f8"
         }
        },
        {
         "hovertext": [
          "rslora_r64_alpha64_lr3.16227766e-05_best_accuracy",
          "rslora_r64_alpha64_lr3.16227766e-05_best_accuracy",
          "rslora_r64_alpha64_lr3.16227766e-05_best_accuracy",
          "rslora_r64_alpha64_lr3.16227766e-05_best_accuracy",
          "rslora_r64_alpha64_lr3.16227766e-05_best_accuracy"
         ],
         "legendgroup": "rslora",
         "line": {
          "color": "green",
          "dash": "dash"
         },
         "mode": "lines+markers",
         "name": "rslora_r64",
         "type": "scatter",
         "x": {
          "bdata": "AAAAAAAA8D8AAAAAAAAAQAAAAAAAAAhAAAAAAAAAEEAAAAAAAAAUQA==",
          "dtype": "f8"
         },
         "y": {
          "bdata": "hzbxz2NE3j++6npPgmfgPzCcu6FN/OM/p99WmjUu5j+llilHp9/mPw==",
          "dtype": "f8"
         }
        },
        {
         "hovertext": [
          "rslora_r768_alpha768_lr0.00031622776601683794_best_accuracy",
          "rslora_r768_alpha768_lr0.00031622776601683794_best_accuracy",
          "rslora_r768_alpha768_lr0.00031622776601683794_best_accuracy",
          "rslora_r768_alpha768_lr0.00031622776601683794_best_accuracy",
          "rslora_r768_alpha768_lr0.00031622776601683794_best_accuracy"
         ],
         "legendgroup": "rslora",
         "line": {
          "color": "green",
          "dash": "solid"
         },
         "mode": "lines+markers",
         "name": "rslora_r768",
         "type": "scatter",
         "x": {
          "bdata": "AAAAAAAA8D8AAAAAAAAAQAAAAAAAAAhAAAAAAAAAEEAAAAAAAAAUQA==",
          "dtype": "f8"
         },
         "y": {
          "bdata": "vWQHGM7d4D+HNvHPY0TeP71kBxjO3eA/hzbxz2NE3j+9ZAcYzt3gPw==",
          "dtype": "f8"
         }
        },
        {
         "hovertext": [
          "rslora_r8_alpha8_lr0.00031622776601683794_best_accuracy",
          "rslora_r8_alpha8_lr0.00031622776601683794_best_accuracy",
          "rslora_r8_alpha8_lr0.00031622776601683794_best_accuracy",
          "rslora_r8_alpha8_lr0.00031622776601683794_best_accuracy",
          "rslora_r8_alpha8_lr0.00031622776601683794_best_accuracy"
         ],
         "legendgroup": "rslora",
         "line": {
          "color": "green",
          "dash": "dashdot"
         },
         "mode": "lines+markers",
         "name": "rslora_r8",
         "type": "scatter",
         "x": {
          "bdata": "AAAAAAAA8D8AAAAAAAAAQAAAAAAAAAhAAAAAAAAAEEAAAAAAAAAUQA==",
          "dtype": "f8"
         },
         "y": {
          "bdata": "uVggqWXK4T+HNvHPY0TeP6iiELYP8+U/HiPykh1g6D+hikLYPsznPw==",
          "dtype": "f8"
         }
        }
       ],
       "layout": {
        "hovermode": "x unified",
        "legend": {
         "title": {
          "text": "method / rank"
         }
        },
        "template": {
         "data": {
          "bar": [
           {
            "error_x": {
             "color": "#2a3f5f"
            },
            "error_y": {
             "color": "#2a3f5f"
            },
            "marker": {
             "line": {
              "color": "#E5ECF6",
              "width": 0.5
             },
             "pattern": {
              "fillmode": "overlay",
              "size": 10,
              "solidity": 0.2
             }
            },
            "type": "bar"
           }
          ],
          "barpolar": [
           {
            "marker": {
             "line": {
              "color": "#E5ECF6",
              "width": 0.5
             },
             "pattern": {
              "fillmode": "overlay",
              "size": 10,
              "solidity": 0.2
             }
            },
            "type": "barpolar"
           }
          ],
          "carpet": [
           {
            "aaxis": {
             "endlinecolor": "#2a3f5f",
             "gridcolor": "white",
             "linecolor": "white",
             "minorgridcolor": "white",
             "startlinecolor": "#2a3f5f"
            },
            "baxis": {
             "endlinecolor": "#2a3f5f",
             "gridcolor": "white",
             "linecolor": "white",
             "minorgridcolor": "white",
             "startlinecolor": "#2a3f5f"
            },
            "type": "carpet"
           }
          ],
          "choropleth": [
           {
            "colorbar": {
             "outlinewidth": 0,
             "ticks": ""
            },
            "type": "choropleth"
           }
          ],
          "contour": [
           {
            "colorbar": {
             "outlinewidth": 0,
             "ticks": ""
            },
            "colorscale": [
             [
              0,
              "#0d0887"
             ],
             [
              0.1111111111111111,
              "#46039f"
             ],
             [
              0.2222222222222222,
              "#7201a8"
             ],
             [
              0.3333333333333333,
              "#9c179e"
             ],
             [
              0.4444444444444444,
              "#bd3786"
             ],
             [
              0.5555555555555556,
              "#d8576b"
             ],
             [
              0.6666666666666666,
              "#ed7953"
             ],
             [
              0.7777777777777778,
              "#fb9f3a"
             ],
             [
              0.8888888888888888,
              "#fdca26"
             ],
             [
              1,
              "#f0f921"
             ]
            ],
            "type": "contour"
           }
          ],
          "contourcarpet": [
           {
            "colorbar": {
             "outlinewidth": 0,
             "ticks": ""
            },
            "type": "contourcarpet"
           }
          ],
          "heatmap": [
           {
            "colorbar": {
             "outlinewidth": 0,
             "ticks": ""
            },
            "colorscale": [
             [
              0,
              "#0d0887"
             ],
             [
              0.1111111111111111,
              "#46039f"
             ],
             [
              0.2222222222222222,
              "#7201a8"
             ],
             [
              0.3333333333333333,
              "#9c179e"
             ],
             [
              0.4444444444444444,
              "#bd3786"
             ],
             [
              0.5555555555555556,
              "#d8576b"
             ],
             [
              0.6666666666666666,
              "#ed7953"
             ],
             [
              0.7777777777777778,
              "#fb9f3a"
             ],
             [
              0.8888888888888888,
              "#fdca26"
             ],
             [
              1,
              "#f0f921"
             ]
            ],
            "type": "heatmap"
           }
          ],
          "histogram": [
           {
            "marker": {
             "pattern": {
              "fillmode": "overlay",
              "size": 10,
              "solidity": 0.2
             }
            },
            "type": "histogram"
           }
          ],
          "histogram2d": [
           {
            "colorbar": {
             "outlinewidth": 0,
             "ticks": ""
            },
            "colorscale": [
             [
              0,
              "#0d0887"
             ],
             [
              0.1111111111111111,
              "#46039f"
             ],
             [
              0.2222222222222222,
              "#7201a8"
             ],
             [
              0.3333333333333333,
              "#9c179e"
             ],
             [
              0.4444444444444444,
              "#bd3786"
             ],
             [
              0.5555555555555556,
              "#d8576b"
             ],
             [
              0.6666666666666666,
              "#ed7953"
             ],
             [
              0.7777777777777778,
              "#fb9f3a"
             ],
             [
              0.8888888888888888,
              "#fdca26"
             ],
             [
              1,
              "#f0f921"
             ]
            ],
            "type": "histogram2d"
           }
          ],
          "histogram2dcontour": [
           {
            "colorbar": {
             "outlinewidth": 0,
             "ticks": ""
            },
            "colorscale": [
             [
              0,
              "#0d0887"
             ],
             [
              0.1111111111111111,
              "#46039f"
             ],
             [
              0.2222222222222222,
              "#7201a8"
             ],
             [
              0.3333333333333333,
              "#9c179e"
             ],
             [
              0.4444444444444444,
              "#bd3786"
             ],
             [
              0.5555555555555556,
              "#d8576b"
             ],
             [
              0.6666666666666666,
              "#ed7953"
             ],
             [
              0.7777777777777778,
              "#fb9f3a"
             ],
             [
              0.8888888888888888,
              "#fdca26"
             ],
             [
              1,
              "#f0f921"
             ]
            ],
            "type": "histogram2dcontour"
           }
          ],
          "mesh3d": [
           {
            "colorbar": {
             "outlinewidth": 0,
             "ticks": ""
            },
            "type": "mesh3d"
           }
          ],
          "parcoords": [
           {
            "line": {
             "colorbar": {
              "outlinewidth": 0,
              "ticks": ""
             }
            },
            "type": "parcoords"
           }
          ],
          "pie": [
           {
            "automargin": true,
            "type": "pie"
           }
          ],
          "scatter": [
           {
            "fillpattern": {
             "fillmode": "overlay",
             "size": 10,
             "solidity": 0.2
            },
            "type": "scatter"
           }
          ],
          "scatter3d": [
           {
            "line": {
             "colorbar": {
              "outlinewidth": 0,
              "ticks": ""
             }
            },
            "marker": {
             "colorbar": {
              "outlinewidth": 0,
              "ticks": ""
             }
            },
            "type": "scatter3d"
           }
          ],
          "scattercarpet": [
           {
            "marker": {
             "colorbar": {
              "outlinewidth": 0,
              "ticks": ""
             }
            },
            "type": "scattercarpet"
           }
          ],
          "scattergeo": [
           {
            "marker": {
             "colorbar": {
              "outlinewidth": 0,
              "ticks": ""
             }
            },
            "type": "scattergeo"
           }
          ],
          "scattergl": [
           {
            "marker": {
             "colorbar": {
              "outlinewidth": 0,
              "ticks": ""
             }
            },
            "type": "scattergl"
           }
          ],
          "scattermap": [
           {
            "marker": {
             "colorbar": {
              "outlinewidth": 0,
              "ticks": ""
             }
            },
            "type": "scattermap"
           }
          ],
          "scattermapbox": [
           {
            "marker": {
             "colorbar": {
              "outlinewidth": 0,
              "ticks": ""
             }
            },
            "type": "scattermapbox"
           }
          ],
          "scatterpolar": [
           {
            "marker": {
             "colorbar": {
              "outlinewidth": 0,
              "ticks": ""
             }
            },
            "type": "scatterpolar"
           }
          ],
          "scatterpolargl": [
           {
            "marker": {
             "colorbar": {
              "outlinewidth": 0,
              "ticks": ""
             }
            },
            "type": "scatterpolargl"
           }
          ],
          "scatterternary": [
           {
            "marker": {
             "colorbar": {
              "outlinewidth": 0,
              "ticks": ""
             }
            },
            "type": "scatterternary"
           }
          ],
          "surface": [
           {
            "colorbar": {
             "outlinewidth": 0,
             "ticks": ""
            },
            "colorscale": [
             [
              0,
              "#0d0887"
             ],
             [
              0.1111111111111111,
              "#46039f"
             ],
             [
              0.2222222222222222,
              "#7201a8"
             ],
             [
              0.3333333333333333,
              "#9c179e"
             ],
             [
              0.4444444444444444,
              "#bd3786"
             ],
             [
              0.5555555555555556,
              "#d8576b"
             ],
             [
              0.6666666666666666,
              "#ed7953"
             ],
             [
              0.7777777777777778,
              "#fb9f3a"
             ],
             [
              0.8888888888888888,
              "#fdca26"
             ],
             [
              1,
              "#f0f921"
             ]
            ],
            "type": "surface"
           }
          ],
          "table": [
           {
            "cells": {
             "fill": {
              "color": "#EBF0F8"
             },
             "line": {
              "color": "white"
             }
            },
            "header": {
             "fill": {
              "color": "#C8D4E3"
             },
             "line": {
              "color": "white"
             }
            },
            "type": "table"
           }
          ]
         },
         "layout": {
          "annotationdefaults": {
           "arrowcolor": "#2a3f5f",
           "arrowhead": 0,
           "arrowwidth": 1
          },
          "autotypenumbers": "strict",
          "coloraxis": {
           "colorbar": {
            "outlinewidth": 0,
            "ticks": ""
           }
          },
          "colorscale": {
           "diverging": [
            [
             0,
             "#8e0152"
            ],
            [
             0.1,
             "#c51b7d"
            ],
            [
             0.2,
             "#de77ae"
            ],
            [
             0.3,
             "#f1b6da"
            ],
            [
             0.4,
             "#fde0ef"
            ],
            [
             0.5,
             "#f7f7f7"
            ],
            [
             0.6,
             "#e6f5d0"
            ],
            [
             0.7,
             "#b8e186"
            ],
            [
             0.8,
             "#7fbc41"
            ],
            [
             0.9,
             "#4d9221"
            ],
            [
             1,
             "#276419"
            ]
           ],
           "sequential": [
            [
             0,
             "#0d0887"
            ],
            [
             0.1111111111111111,
             "#46039f"
            ],
            [
             0.2222222222222222,
             "#7201a8"
            ],
            [
             0.3333333333333333,
             "#9c179e"
            ],
            [
             0.4444444444444444,
             "#bd3786"
            ],
            [
             0.5555555555555556,
             "#d8576b"
            ],
            [
             0.6666666666666666,
             "#ed7953"
            ],
            [
             0.7777777777777778,
             "#fb9f3a"
            ],
            [
             0.8888888888888888,
             "#fdca26"
            ],
            [
             1,
             "#f0f921"
            ]
           ],
           "sequentialminus": [
            [
             0,
             "#0d0887"
            ],
            [
             0.1111111111111111,
             "#46039f"
            ],
            [
             0.2222222222222222,
             "#7201a8"
            ],
            [
             0.3333333333333333,
             "#9c179e"
            ],
            [
             0.4444444444444444,
             "#bd3786"
            ],
            [
             0.5555555555555556,
             "#d8576b"
            ],
            [
             0.6666666666666666,
             "#ed7953"
            ],
            [
             0.7777777777777778,
             "#fb9f3a"
            ],
            [
             0.8888888888888888,
             "#fdca26"
            ],
            [
             1,
             "#f0f921"
            ]
           ]
          },
          "colorway": [
           "#636efa",
           "#EF553B",
           "#00cc96",
           "#ab63fa",
           "#FFA15A",
           "#19d3f3",
           "#FF6692",
           "#B6E880",
           "#FF97FF",
           "#FECB52"
          ],
          "font": {
           "color": "#2a3f5f"
          },
          "geo": {
           "bgcolor": "white",
           "lakecolor": "white",
           "landcolor": "#E5ECF6",
           "showlakes": true,
           "showland": true,
           "subunitcolor": "white"
          },
          "hoverlabel": {
           "align": "left"
          },
          "hovermode": "closest",
          "mapbox": {
           "style": "light"
          },
          "paper_bgcolor": "white",
          "plot_bgcolor": "#E5ECF6",
          "polar": {
           "angularaxis": {
            "gridcolor": "white",
            "linecolor": "white",
            "ticks": ""
           },
           "bgcolor": "#E5ECF6",
           "radialaxis": {
            "gridcolor": "white",
            "linecolor": "white",
            "ticks": ""
           }
          },
          "scene": {
           "xaxis": {
            "backgroundcolor": "#E5ECF6",
            "gridcolor": "white",
            "gridwidth": 2,
            "linecolor": "white",
            "showbackground": true,
            "ticks": "",
            "zerolinecolor": "white"
           },
           "yaxis": {
            "backgroundcolor": "#E5ECF6",
            "gridcolor": "white",
            "gridwidth": 2,
            "linecolor": "white",
            "showbackground": true,
            "ticks": "",
            "zerolinecolor": "white"
           },
           "zaxis": {
            "backgroundcolor": "#E5ECF6",
            "gridcolor": "white",
            "gridwidth": 2,
            "linecolor": "white",
            "showbackground": true,
            "ticks": "",
            "zerolinecolor": "white"
           }
          },
          "shapedefaults": {
           "line": {
            "color": "#2a3f5f"
           }
          },
          "ternary": {
           "aaxis": {
            "gridcolor": "white",
            "linecolor": "white",
            "ticks": ""
           },
           "baxis": {
            "gridcolor": "white",
            "linecolor": "white",
            "ticks": ""
           },
           "bgcolor": "#E5ECF6",
           "caxis": {
            "gridcolor": "white",
            "linecolor": "white",
            "ticks": ""
           }
          },
          "title": {
           "x": 0.05
          },
          "xaxis": {
           "automargin": true,
           "gridcolor": "white",
           "linecolor": "white",
           "ticks": "",
           "title": {
            "standoff": 15
           },
           "zerolinecolor": "white",
           "zerolinewidth": 2
          },
          "yaxis": {
           "automargin": true,
           "gridcolor": "white",
           "linecolor": "white",
           "ticks": "",
           "title": {
            "standoff": 15
           },
           "zerolinecolor": "white",
           "zerolinewidth": 2
          }
         }
        },
        "title": {
         "text": "rte · roberta-base · Accuracy vs Epoch (all best runs)"
        },
        "xaxis": {
         "title": {
          "text": "epoch"
         }
        },
        "yaxis": {
         "title": {
          "text": "accuracy"
         }
        }
       }
      }
     },
     "metadata": {},
     "output_type": "display_data"
    }
   ],
   "source": [
    "# === Config ===\n",
    "ROOT = \"./glue_results_final\"   # parent folder holding the 'task' dir\n",
    "TASK = \"rte\"                    # e.g., \"rte\", \"mrpc\", \"cola\"\n",
    "MODEL = \"roberta-base\"          # \"roberta-base\" or \"roberta-large\"\n",
    "\n",
    "# === Code ===\n",
    "from pathlib import Path\n",
    "import re\n",
    "import pandas as pd\n",
    "import plotly.graph_objects as go\n",
    "\n",
    "METHODS = (\"full_finetuning\", \"lora\", \"rslora\")\n",
    "\n",
    "def parse_rank(name: str):\n",
    "    m = re.search(r\"_r(\\d+)_\", name)\n",
    "    return int(m.group(1)) if m else None\n",
    "\n",
    "def read_eval(csv_path: Path) -> pd.DataFrame | None:\n",
    "    try:\n",
    "        df = pd.read_csv(csv_path)\n",
    "    except Exception:\n",
    "        return None\n",
    "    # normalize possible names\n",
    "    if \"eval_accuracy\" in df.columns and \"accuracy\" not in df.columns:\n",
    "        df = df.rename(columns={\"eval_accuracy\": \"accuracy\"})\n",
    "    if \"epoch\" not in df.columns:\n",
    "        df = df.reset_index().rename(columns={\"index\":\"epoch\"})\n",
    "        df[\"epoch\"] = df[\"epoch\"] + 1\n",
    "    # focus on epochs 1..5 if present\n",
    "    df = df[df[\"epoch\"].astype(float).between(1,5)]\n",
    "    return df.sort_values(\"epoch\")\n",
    "\n",
    "def load_best_runs(root: str, task: str, model: str):\n",
    "    base = Path(root) / task / model\n",
    "    runs = []\n",
    "    for method in METHODS:\n",
    "        mdir = base / method\n",
    "        if not mdir.exists():\n",
    "            continue\n",
    "        for run in sorted([p for p in mdir.iterdir() if p.is_dir() and p.name.endswith(\"_best_accuracy\")]):\n",
    "            df = read_eval(run / \"eval_per_epoch.csv\")\n",
    "            if df is None or \"accuracy\" not in df.columns:\n",
    "                continue\n",
    "            runs.append({\n",
    "                \"method\": method,\n",
    "                \"rank\": parse_rank(run.name) if method != \"full_finetuning\" else None,\n",
    "                \"name\": run.name,\n",
    "                \"df\": df\n",
    "            })\n",
    "    return runs\n",
    "\n",
    "def dash_for_rank(rank: int, ranks_sorted: list[int]) -> str:\n",
    "    \"\"\"\n",
    "    Map rank position -> dash style (more solid for higher ranks).\n",
    "    Uses an ordered palette: dot -> dashdot -> dash -> longdash -> solid.\n",
    "    \"\"\"\n",
    "    palette = [\"dot\", \"dashdot\", \"dash\", \"longdash\", \"solid\"]\n",
    "    if not ranks_sorted:\n",
    "        return \"solid\"\n",
    "    idx = ranks_sorted.index(rank)\n",
    "    frac = idx / max(1, len(ranks_sorted) - 1)\n",
    "    palette_idx = int(round(frac * (len(palette) - 1)))\n",
    "    return palette[palette_idx]\n",
    "\n",
    "# load\n",
    "runs = load_best_runs(ROOT, TASK, MODEL)\n",
    "if not runs:\n",
    "    raise SystemExit(f\"No *_best_accuracy runs found under {ROOT}/{TASK}/{MODEL}\")\n",
    "\n",
    "# collect rank list (for dash mapping)\n",
    "all_ranks = sorted({r[\"rank\"] for r in runs if r[\"rank\"] is not None})\n",
    "\n",
    "# colors\n",
    "COLOR = {\n",
    "    \"full_finetuning\": \"black\",\n",
    "    \"lora\": \"red\",\n",
    "    \"rslora\": \"green\"\n",
    "}\n",
    "\n",
    "fig = go.Figure()\n",
    "\n",
    "# Add full FT first (usually just one best run)\n",
    "for r in [x for x in runs if x[\"method\"] == \"full_finetuning\"]:\n",
    "    fig.add_trace(go.Scatter(\n",
    "        x=r[\"df\"][\"epoch\"], y=r[\"df\"][\"accuracy\"],\n",
    "        mode=\"lines+markers\",\n",
    "        name=f\"full_finetuning\",\n",
    "        legendgroup=\"full_finetuning\",\n",
    "        line=dict(color=COLOR[\"full_finetuning\"], dash=\"solid\"),\n",
    "        hovertext=[r[\"name\"]]*len(r[\"df\"])\n",
    "    ))\n",
    "\n",
    "# Add all LoRA ranks\n",
    "for r in [x for x in runs if x[\"method\"] == \"lora\"]:\n",
    "    dash = dash_for_rank(r[\"rank\"], all_ranks)\n",
    "    fig.add_trace(go.Scatter(\n",
    "        x=r[\"df\"][\"epoch\"], y=r[\"df\"][\"accuracy\"],\n",
    "        mode=\"lines+markers\",\n",
    "        name=f\"lora_r{r['rank']}\",\n",
    "        legendgroup=\"lora\",\n",
    "        line=dict(color=COLOR[\"lora\"], dash=dash),\n",
    "        hovertext=[r[\"name\"]]*len(r[\"df\"])\n",
    "    ))\n",
    "\n",
    "# Add all RSLoRA ranks\n",
    "for r in [x for x in runs if x[\"method\"] == \"rslora\"]:\n",
    "    dash = dash_for_rank(r[\"rank\"], all_ranks)\n",
    "    fig.add_trace(go.Scatter(\n",
    "        x=r[\"df\"][\"epoch\"], y=r[\"df\"][\"accuracy\"],\n",
    "        mode=\"lines+markers\",\n",
    "        name=f\"rslora_r{r['rank']}\",\n",
    "        legendgroup=\"rslora\",\n",
    "        line=dict(color=COLOR[\"rslora\"], dash=dash),\n",
    "        hovertext=[r[\"name\"]]*len(r[\"df\"])\n",
    "    ))\n",
    "\n",
    "fig.update_layout(\n",
    "    title=f\"{TASK} · {MODEL} · Accuracy vs Epoch (all best runs)\",\n",
    "    xaxis_title=\"epoch\",\n",
    "    yaxis_title=\"accuracy\",\n",
    "    legend_title_text=\"method / rank\",\n",
    "    hovermode=\"x unified\"\n",
    ")\n",
    "\n",
    "fig\n"
   ]
  },
  {
   "cell_type": "code",
   "execution_count": 9,
   "id": "26a7282e",
   "metadata": {},
   "outputs": [
    {
     "data": {
      "application/vnd.plotly.v1+json": {
       "config": {
        "plotlyServerURL": "https://plot.ly"
       },
       "data": [
        {
         "hovertext": [
          "full_finetuning_lr3.1622776601683795e-05_best_accuracy",
          "full_finetuning_lr3.1622776601683795e-05_best_accuracy",
          "full_finetuning_lr3.1622776601683795e-05_best_accuracy",
          "full_finetuning_lr3.1622776601683795e-05_best_accuracy",
          "full_finetuning_lr3.1622776601683795e-05_best_accuracy"
         ],
         "line": {
          "color": "black",
          "dash": "solid"
         },
         "mode": "lines+markers",
         "name": "full_finetuning",
         "type": "scatter",
         "x": {
          "bdata": "AAAAAAAA8D8AAAAAAAAAQAAAAAAAAAhAAAAAAAAAEEAAAAAAAAAUQA==",
          "dtype": "f8"
         },
         "y": {
          "bdata": "MiIv2QGG4z8owTOoohDmP6VZ42KBpOY/HZ1+W2nW6D+aNS4WSGrpPw==",
          "dtype": "f8"
         }
        },
        {
         "hovertext": [
          "lora_r1_alpha1_lr0.001_best_accuracy",
          "lora_r1_alpha1_lr0.001_best_accuracy",
          "lora_r1_alpha1_lr0.001_best_accuracy",
          "lora_r1_alpha1_lr0.001_best_accuracy",
          "lora_r1_alpha1_lr0.001_best_accuracy"
         ],
         "line": {
          "color": "red",
          "dash": "dot"
         },
         "mode": "lines+markers",
         "name": "lora_r1",
         "type": "scatter",
         "x": {
          "bdata": "AAAAAAAA8D8AAAAAAAAAQAAAAAAAAAhAAAAAAAAAEEAAAAAAAAAUQA==",
          "dtype": "f8"
         },
         "y": {
          "bdata": "vWQHGM7d4D8qR6ffVprlPyjBM6iiEOY/oYpC2D7M5z+gx4i8ZAfoPw==",
          "dtype": "f8"
         }
        },
        {
         "hovertext": [
          "lora_r4_alpha4_lr0.001_best_accuracy",
          "lora_r4_alpha4_lr0.001_best_accuracy",
          "lora_r4_alpha4_lr0.001_best_accuracy",
          "lora_r4_alpha4_lr0.001_best_accuracy",
          "lora_r4_alpha4_lr0.001_best_accuracy"
         ],
         "line": {
          "color": "red",
          "dash": "dot"
         },
         "mode": "lines+markers",
         "name": "lora_r4",
         "type": "scatter",
         "x": {
          "bdata": "AAAAAAAA8D8AAAAAAAAAQAAAAAAAAAhAAAAAAAAAEEAAAAAAAAAUQA==",
          "dtype": "f8"
         },
         "y": {
          "bdata": "PIMqCmH74D+k028rzRrnP58Ez6CKQug/HmA4d0Ob6D8f5quu9yToPw==",
          "dtype": "f8"
         }
        },
        {
         "hovertext": [
          "lora_r8_alpha8_lr0.001_best_accuracy",
          "lora_r8_alpha8_lr0.001_best_accuracy",
          "lora_r8_alpha8_lr0.001_best_accuracy",
          "lora_r8_alpha8_lr0.001_best_accuracy",
          "lora_r8_alpha8_lr0.001_best_accuracy"
         ],
         "line": {
          "color": "red",
          "dash": "dashdot"
         },
         "mode": "lines+markers",
         "name": "lora_r8",
         "type": "scatter",
         "x": {
          "bdata": "AAAAAAAA8D8AAAAAAAAAQAAAAAAAAAhAAAAAAAAAEEAAAAAAAAAUQA==",
          "dtype": "f8"
         },
         "y": {
          "bdata": "vWQHGM7d4D8mO8Bw7obmP6GKQtg+zOc/HZ1+W2nW6D+eQRWFsH3oPw==",
          "dtype": "f8"
         }
        },
        {
         "hovertext": [
          "lora_r16_alpha16_lr0.00031622776601683794_best_accuracy",
          "lora_r16_alpha16_lr0.00031622776601683794_best_accuracy",
          "lora_r16_alpha16_lr0.00031622776601683794_best_accuracy",
          "lora_r16_alpha16_lr0.00031622776601683794_best_accuracy",
          "lora_r16_alpha16_lr0.00031622776601683794_best_accuracy"
         ],
         "line": {
          "color": "red",
          "dash": "dashdot"
         },
         "mode": "lines+markers",
         "name": "lora_r16",
         "type": "scatter",
         "x": {
          "bdata": "AAAAAAAA8D8AAAAAAAAAQAAAAAAAAAhAAAAAAAAAEEAAAAAAAAAUQA==",
          "dtype": "f8"
         },
         "y": {
          "bdata": "uVggqWXK4T+HNvHPY0TeP640a1wskOQ/JjvAcO6G5j8ktUw5Ov3mPw==",
          "dtype": "f8"
         }
        },
        {
         "hovertext": [
          "lora_r32_alpha32_lr0.00031622776601683794_best_accuracy",
          "lora_r32_alpha32_lr0.00031622776601683794_best_accuracy",
          "lora_r32_alpha32_lr0.00031622776601683794_best_accuracy",
          "lora_r32_alpha32_lr0.00031622776601683794_best_accuracy",
          "lora_r32_alpha32_lr0.00031622776601683794_best_accuracy"
         ],
         "line": {
          "color": "red",
          "dash": "dash"
         },
         "mode": "lines+markers",
         "name": "lora_r32",
         "type": "scatter",
         "x": {
          "bdata": "AAAAAAAA8D8AAAAAAAAAQAAAAAAAAAhAAAAAAAAAEEAAAAAAAAAUQA==",
          "dtype": "f8"
         },
         "y": {
          "bdata": "hzbxz2NE3j+yAwznbmjjPyPykh1gOOc/nLuhTfzz6D+cu6FN/PPoPw==",
          "dtype": "f8"
         }
        },
        {
         "hovertext": [
          "lora_r64_alpha64_lr0.0001_best_accuracy",
          "lora_r64_alpha64_lr0.0001_best_accuracy",
          "lora_r64_alpha64_lr0.0001_best_accuracy",
          "lora_r64_alpha64_lr0.0001_best_accuracy",
          "lora_r64_alpha64_lr0.0001_best_accuracy"
         ],
         "line": {
          "color": "red",
          "dash": "dash"
         },
         "mode": "lines+markers",
         "name": "lora_r64",
         "type": "scatter",
         "x": {
          "bdata": "AAAAAAAA8D8AAAAAAAAAQAAAAAAAAAhAAAAAAAAAEEAAAAAAAAAUQA==",
          "dtype": "f8"
         },
         "y": {
          "bdata": "hzbxz2NE3j+tcbFAUsvkPyY7wHDuhuY/H+arrvck6D8hbB/mq67nPw==",
          "dtype": "f8"
         }
        },
        {
         "hovertext": [
          "lora_r128_alpha128_lr5.623413251903491e-05_best_accuracy",
          "lora_r128_alpha128_lr5.623413251903491e-05_best_accuracy",
          "lora_r128_alpha128_lr5.623413251903491e-05_best_accuracy",
          "lora_r128_alpha128_lr5.623413251903491e-05_best_accuracy",
          "lora_r128_alpha128_lr5.623413251903491e-05_best_accuracy"
         ],
         "line": {
          "color": "red",
          "dash": "longdash"
         },
         "mode": "lines+markers",
         "name": "lora_r128",
         "type": "scatter",
         "x": {
          "bdata": "AAAAAAAA8D8AAAAAAAAAQAAAAAAAAAhAAAAAAAAAEEAAAAAAAAAUQA==",
          "dtype": "f8"
         },
         "y": {
          "bdata": "hzbxz2NE3j+HNvHPY0TeP6iiELYP8+U/qKIQtg/z5T+k028rzRrnPw==",
          "dtype": "f8"
         }
        },
        {
         "hovertext": [
          "lora_r256_alpha256_lr3.1622776601683795e-05_best_accuracy",
          "lora_r256_alpha256_lr3.1622776601683795e-05_best_accuracy",
          "lora_r256_alpha256_lr3.1622776601683795e-05_best_accuracy",
          "lora_r256_alpha256_lr3.1622776601683795e-05_best_accuracy",
          "lora_r256_alpha256_lr3.1622776601683795e-05_best_accuracy"
         ],
         "line": {
          "color": "red",
          "dash": "longdash"
         },
         "mode": "lines+markers",
         "name": "lora_r256",
         "type": "scatter",
         "x": {
          "bdata": "AAAAAAAA8D8AAAAAAAAAQAAAAAAAAAhAAAAAAAAAEEAAAAAAAAAUQA==",
          "dtype": "f8"
         },
         "y": {
          "bdata": "hzbxz2NE3j+oohC2D/PlP6WWKUen3+Y/JLVMOTr95j+k028rzRrnPw==",
          "dtype": "f8"
         }
        },
        {
         "hovertext": [
          "lora_r512_alpha512_lr3.1622776601683795e-05_best_accuracy",
          "lora_r512_alpha512_lr3.1622776601683795e-05_best_accuracy",
          "lora_r512_alpha512_lr3.1622776601683795e-05_best_accuracy",
          "lora_r512_alpha512_lr3.1622776601683795e-05_best_accuracy",
          "lora_r512_alpha512_lr3.1622776601683795e-05_best_accuracy"
         ],
         "line": {
          "color": "red",
          "dash": "solid"
         },
         "mode": "lines+markers",
         "name": "lora_r512",
         "type": "scatter",
         "x": {
          "bdata": "AAAAAAAA8D8AAAAAAAAAQAAAAAAAAAhAAAAAAAAAEEAAAAAAAAAUQA==",
          "dtype": "f8"
         },
         "y": {
          "bdata": "hzbxz2NE3j8rCmH7MF/lP6YcnX5baeY/phydfltp5j+k028rzRrnPw==",
          "dtype": "f8"
         }
        },
        {
         "hovertext": [
          "lora_r768_alpha768_lr1e-05_best_accuracy",
          "lora_r768_alpha768_lr1e-05_best_accuracy",
          "lora_r768_alpha768_lr1e-05_best_accuracy",
          "lora_r768_alpha768_lr1e-05_best_accuracy",
          "lora_r768_alpha768_lr1e-05_best_accuracy"
         ],
         "line": {
          "color": "red",
          "dash": "solid"
         },
         "mode": "lines+markers",
         "name": "lora_r768",
         "type": "scatter",
         "x": {
          "bdata": "AAAAAAAA8D8AAAAAAAAAQAAAAAAAAAhAAAAAAAAAEEAAAAAAAAAUQA==",
          "dtype": "f8"
         },
         "y": {
          "bdata": "gKSWKUen3z++6npPgmfgPyf+eYzIS+Y/J/55jMhL5j+lWeNigaTmPw==",
          "dtype": "f8"
         }
        },
        {
         "hovertext": [
          "rslora_r1_alpha1_lr0.001_best_accuracy",
          "rslora_r1_alpha1_lr0.001_best_accuracy",
          "rslora_r1_alpha1_lr0.001_best_accuracy",
          "rslora_r1_alpha1_lr0.001_best_accuracy",
          "rslora_r1_alpha1_lr0.001_best_accuracy"
         ],
         "line": {
          "color": "green",
          "dash": "dot"
         },
         "mode": "lines+markers",
         "name": "rslora_r1",
         "type": "scatter",
         "x": {
          "bdata": "AAAAAAAA8D8AAAAAAAAAQAAAAAAAAAhAAAAAAAAAEEAAAAAAAAAUQA==",
          "dtype": "f8"
         },
         "y": {
          "bdata": "vWQHGM7d4D8qR6ffVprlPyjBM6iiEOY/oYpC2D7M5z+gx4i8ZAfoPw==",
          "dtype": "f8"
         }
        },
        {
         "hovertext": [
          "rslora_r4_alpha4_lr0.001_best_accuracy",
          "rslora_r4_alpha4_lr0.001_best_accuracy",
          "rslora_r4_alpha4_lr0.001_best_accuracy",
          "rslora_r4_alpha4_lr0.001_best_accuracy",
          "rslora_r4_alpha4_lr0.001_best_accuracy"
         ],
         "line": {
          "color": "green",
          "dash": "dot"
         },
         "mode": "lines+markers",
         "name": "rslora_r4",
         "type": "scatter",
         "x": {
          "bdata": "AAAAAAAA8D8AAAAAAAAAQAAAAAAAAAhAAAAAAAAAEEAAAAAAAAAUQA==",
          "dtype": "f8"
         },
         "y": {
          "bdata": "vWQHGM7d4D+v9yR4BlXkP6DHiLxkB+g/GxcLJLVM6T8eYDh3Q5voPw==",
          "dtype": "f8"
         }
        },
        {
         "hovertext": [
          "rslora_r8_alpha8_lr0.00031622776601683794_best_accuracy",
          "rslora_r8_alpha8_lr0.00031622776601683794_best_accuracy",
          "rslora_r8_alpha8_lr0.00031622776601683794_best_accuracy",
          "rslora_r8_alpha8_lr0.00031622776601683794_best_accuracy",
          "rslora_r8_alpha8_lr0.00031622776601683794_best_accuracy"
         ],
         "line": {
          "color": "green",
          "dash": "dashdot"
         },
         "mode": "lines+markers",
         "name": "rslora_r8",
         "type": "scatter",
         "x": {
          "bdata": "AAAAAAAA8D8AAAAAAAAAQAAAAAAAAAhAAAAAAAAAEEAAAAAAAAAUQA==",
          "dtype": "f8"
         },
         "y": {
          "bdata": "uVggqWXK4T+HNvHPY0TeP6iiELYP8+U/HiPykh1g6D+hikLYPsznPw==",
          "dtype": "f8"
         }
        },
        {
         "hovertext": [
          "rslora_r16_alpha16_lr0.0001_best_accuracy",
          "rslora_r16_alpha16_lr0.0001_best_accuracy",
          "rslora_r16_alpha16_lr0.0001_best_accuracy",
          "rslora_r16_alpha16_lr0.0001_best_accuracy",
          "rslora_r16_alpha16_lr0.0001_best_accuracy"
         ],
         "line": {
          "color": "green",
          "dash": "dashdot"
         },
         "mode": "lines+markers",
         "name": "rslora_r16",
         "type": "scatter",
         "x": {
          "bdata": "AAAAAAAA8D8AAAAAAAAAQAAAAAAAAAhAAAAAAAAAEEAAAAAAAAAUQA==",
          "dtype": "f8"
         },
         "y": {
          "bdata": "hzbxz2NE3j+HNvHPY0TePy1Tjk6/reQ/pVnjYoGk5j+k028rzRrnPw==",
          "dtype": "f8"
         }
        },
        {
         "hovertext": [
          "rslora_r32_alpha32_lr0.00031622776601683794_best_accuracy",
          "rslora_r32_alpha32_lr0.00031622776601683794_best_accuracy",
          "rslora_r32_alpha32_lr0.00031622776601683794_best_accuracy",
          "rslora_r32_alpha32_lr0.00031622776601683794_best_accuracy",
          "rslora_r32_alpha32_lr0.00031622776601683794_best_accuracy"
         ],
         "line": {
          "color": "green",
          "dash": "dash"
         },
         "mode": "lines+markers",
         "name": "rslora_r32",
         "type": "scatter",
         "x": {
          "bdata": "AAAAAAAA8D8AAAAAAAAAQAAAAAAAAAhAAAAAAAAAEEAAAAAAAAAUQA==",
          "dtype": "f8"
         },
         "y": {
          "bdata": "hzbxz2NE3j+HNvHPY0TeP71kBxjO3eA/hzbxz2NE3j+9ZAcYzt3gPw==",
          "dtype": "f8"
         }
        },
        {
         "hovertext": [
          "rslora_r64_alpha64_lr3.16227766e-05_best_accuracy",
          "rslora_r64_alpha64_lr3.16227766e-05_best_accuracy",
          "rslora_r64_alpha64_lr3.16227766e-05_best_accuracy",
          "rslora_r64_alpha64_lr3.16227766e-05_best_accuracy",
          "rslora_r64_alpha64_lr3.16227766e-05_best_accuracy"
         ],
         "line": {
          "color": "green",
          "dash": "dash"
         },
         "mode": "lines+markers",
         "name": "rslora_r64",
         "type": "scatter",
         "x": {
          "bdata": "AAAAAAAA8D8AAAAAAAAAQAAAAAAAAAhAAAAAAAAAEEAAAAAAAAAUQA==",
          "dtype": "f8"
         },
         "y": {
          "bdata": "hzbxz2NE3j++6npPgmfgPzCcu6FN/OM/p99WmjUu5j+llilHp9/mPw==",
          "dtype": "f8"
         }
        },
        {
         "hovertext": [
          "rslora_r128_alpha128_lr1e-05_best_accuracy",
          "rslora_r128_alpha128_lr1e-05_best_accuracy",
          "rslora_r128_alpha128_lr1e-05_best_accuracy",
          "rslora_r128_alpha128_lr1e-05_best_accuracy",
          "rslora_r128_alpha128_lr1e-05_best_accuracy"
         ],
         "line": {
          "color": "green",
          "dash": "longdash"
         },
         "mode": "lines+markers",
         "name": "rslora_r128",
         "type": "scatter",
         "x": {
          "bdata": "AAAAAAAA8D8AAAAAAAAAQAAAAAAAAAhAAAAAAAAAEEAAAAAAAAAUQA==",
          "dtype": "f8"
         },
         "y": {
          "bdata": "hzbxz2NE3j+r6z0JnkHlPyf+eYzIS+Y/JLVMOTr95j8ktUw5Ov3mPw==",
          "dtype": "f8"
         }
        },
        {
         "hovertext": [
          "rslora_r256_alpha256_lr0.001_best_accuracy",
          "rslora_r256_alpha256_lr0.001_best_accuracy",
          "rslora_r256_alpha256_lr0.001_best_accuracy",
          "rslora_r256_alpha256_lr0.001_best_accuracy",
          "rslora_r256_alpha256_lr0.001_best_accuracy"
         ],
         "line": {
          "color": "green",
          "dash": "longdash"
         },
         "mode": "lines+markers",
         "name": "rslora_r256",
         "type": "scatter",
         "x": {
          "bdata": "AAAAAAAA8D8AAAAAAAAAQAAAAAAAAAhAAAAAAAAAEEAAAAAAAAAUQA==",
          "dtype": "f8"
         },
         "y": {
          "bdata": "vWQHGM7d4D+HNvHPY0TeP4c28c9jRN4/hzbxz2NE3j+9ZAcYzt3gPw==",
          "dtype": "f8"
         }
        },
        {
         "hovertext": [
          "rslora_r512_alpha512_lr0.0001_best_accuracy",
          "rslora_r512_alpha512_lr0.0001_best_accuracy",
          "rslora_r512_alpha512_lr0.0001_best_accuracy",
          "rslora_r512_alpha512_lr0.0001_best_accuracy",
          "rslora_r512_alpha512_lr0.0001_best_accuracy"
         ],
         "line": {
          "color": "green",
          "dash": "solid"
         },
         "mode": "lines+markers",
         "name": "rslora_r512",
         "type": "scatter",
         "x": {
          "bdata": "AAAAAAAA8D8AAAAAAAAAQAAAAAAAAAhAAAAAAAAAEEAAAAAAAAAUQA==",
          "dtype": "f8"
         },
         "y": {
          "bdata": "vWQHGM7d4D+HNvHPY0TeP71kBxjO3eA/hzbxz2NE3j+9ZAcYzt3gPw==",
          "dtype": "f8"
         }
        },
        {
         "hovertext": [
          "rslora_r768_alpha768_lr0.00031622776601683794_best_accuracy",
          "rslora_r768_alpha768_lr0.00031622776601683794_best_accuracy",
          "rslora_r768_alpha768_lr0.00031622776601683794_best_accuracy",
          "rslora_r768_alpha768_lr0.00031622776601683794_best_accuracy",
          "rslora_r768_alpha768_lr0.00031622776601683794_best_accuracy"
         ],
         "line": {
          "color": "green",
          "dash": "solid"
         },
         "mode": "lines+markers",
         "name": "rslora_r768",
         "type": "scatter",
         "x": {
          "bdata": "AAAAAAAA8D8AAAAAAAAAQAAAAAAAAAhAAAAAAAAAEEAAAAAAAAAUQA==",
          "dtype": "f8"
         },
         "y": {
          "bdata": "vWQHGM7d4D+HNvHPY0TeP71kBxjO3eA/hzbxz2NE3j+9ZAcYzt3gPw==",
          "dtype": "f8"
         }
        }
       ],
       "layout": {
        "hovermode": "x unified",
        "legend": {
         "title": {
          "text": "method / rank"
         }
        },
        "template": {
         "data": {
          "bar": [
           {
            "error_x": {
             "color": "#2a3f5f"
            },
            "error_y": {
             "color": "#2a3f5f"
            },
            "marker": {
             "line": {
              "color": "#E5ECF6",
              "width": 0.5
             },
             "pattern": {
              "fillmode": "overlay",
              "size": 10,
              "solidity": 0.2
             }
            },
            "type": "bar"
           }
          ],
          "barpolar": [
           {
            "marker": {
             "line": {
              "color": "#E5ECF6",
              "width": 0.5
             },
             "pattern": {
              "fillmode": "overlay",
              "size": 10,
              "solidity": 0.2
             }
            },
            "type": "barpolar"
           }
          ],
          "carpet": [
           {
            "aaxis": {
             "endlinecolor": "#2a3f5f",
             "gridcolor": "white",
             "linecolor": "white",
             "minorgridcolor": "white",
             "startlinecolor": "#2a3f5f"
            },
            "baxis": {
             "endlinecolor": "#2a3f5f",
             "gridcolor": "white",
             "linecolor": "white",
             "minorgridcolor": "white",
             "startlinecolor": "#2a3f5f"
            },
            "type": "carpet"
           }
          ],
          "choropleth": [
           {
            "colorbar": {
             "outlinewidth": 0,
             "ticks": ""
            },
            "type": "choropleth"
           }
          ],
          "contour": [
           {
            "colorbar": {
             "outlinewidth": 0,
             "ticks": ""
            },
            "colorscale": [
             [
              0,
              "#0d0887"
             ],
             [
              0.1111111111111111,
              "#46039f"
             ],
             [
              0.2222222222222222,
              "#7201a8"
             ],
             [
              0.3333333333333333,
              "#9c179e"
             ],
             [
              0.4444444444444444,
              "#bd3786"
             ],
             [
              0.5555555555555556,
              "#d8576b"
             ],
             [
              0.6666666666666666,
              "#ed7953"
             ],
             [
              0.7777777777777778,
              "#fb9f3a"
             ],
             [
              0.8888888888888888,
              "#fdca26"
             ],
             [
              1,
              "#f0f921"
             ]
            ],
            "type": "contour"
           }
          ],
          "contourcarpet": [
           {
            "colorbar": {
             "outlinewidth": 0,
             "ticks": ""
            },
            "type": "contourcarpet"
           }
          ],
          "heatmap": [
           {
            "colorbar": {
             "outlinewidth": 0,
             "ticks": ""
            },
            "colorscale": [
             [
              0,
              "#0d0887"
             ],
             [
              0.1111111111111111,
              "#46039f"
             ],
             [
              0.2222222222222222,
              "#7201a8"
             ],
             [
              0.3333333333333333,
              "#9c179e"
             ],
             [
              0.4444444444444444,
              "#bd3786"
             ],
             [
              0.5555555555555556,
              "#d8576b"
             ],
             [
              0.6666666666666666,
              "#ed7953"
             ],
             [
              0.7777777777777778,
              "#fb9f3a"
             ],
             [
              0.8888888888888888,
              "#fdca26"
             ],
             [
              1,
              "#f0f921"
             ]
            ],
            "type": "heatmap"
           }
          ],
          "histogram": [
           {
            "marker": {
             "pattern": {
              "fillmode": "overlay",
              "size": 10,
              "solidity": 0.2
             }
            },
            "type": "histogram"
           }
          ],
          "histogram2d": [
           {
            "colorbar": {
             "outlinewidth": 0,
             "ticks": ""
            },
            "colorscale": [
             [
              0,
              "#0d0887"
             ],
             [
              0.1111111111111111,
              "#46039f"
             ],
             [
              0.2222222222222222,
              "#7201a8"
             ],
             [
              0.3333333333333333,
              "#9c179e"
             ],
             [
              0.4444444444444444,
              "#bd3786"
             ],
             [
              0.5555555555555556,
              "#d8576b"
             ],
             [
              0.6666666666666666,
              "#ed7953"
             ],
             [
              0.7777777777777778,
              "#fb9f3a"
             ],
             [
              0.8888888888888888,
              "#fdca26"
             ],
             [
              1,
              "#f0f921"
             ]
            ],
            "type": "histogram2d"
           }
          ],
          "histogram2dcontour": [
           {
            "colorbar": {
             "outlinewidth": 0,
             "ticks": ""
            },
            "colorscale": [
             [
              0,
              "#0d0887"
             ],
             [
              0.1111111111111111,
              "#46039f"
             ],
             [
              0.2222222222222222,
              "#7201a8"
             ],
             [
              0.3333333333333333,
              "#9c179e"
             ],
             [
              0.4444444444444444,
              "#bd3786"
             ],
             [
              0.5555555555555556,
              "#d8576b"
             ],
             [
              0.6666666666666666,
              "#ed7953"
             ],
             [
              0.7777777777777778,
              "#fb9f3a"
             ],
             [
              0.8888888888888888,
              "#fdca26"
             ],
             [
              1,
              "#f0f921"
             ]
            ],
            "type": "histogram2dcontour"
           }
          ],
          "mesh3d": [
           {
            "colorbar": {
             "outlinewidth": 0,
             "ticks": ""
            },
            "type": "mesh3d"
           }
          ],
          "parcoords": [
           {
            "line": {
             "colorbar": {
              "outlinewidth": 0,
              "ticks": ""
             }
            },
            "type": "parcoords"
           }
          ],
          "pie": [
           {
            "automargin": true,
            "type": "pie"
           }
          ],
          "scatter": [
           {
            "fillpattern": {
             "fillmode": "overlay",
             "size": 10,
             "solidity": 0.2
            },
            "type": "scatter"
           }
          ],
          "scatter3d": [
           {
            "line": {
             "colorbar": {
              "outlinewidth": 0,
              "ticks": ""
             }
            },
            "marker": {
             "colorbar": {
              "outlinewidth": 0,
              "ticks": ""
             }
            },
            "type": "scatter3d"
           }
          ],
          "scattercarpet": [
           {
            "marker": {
             "colorbar": {
              "outlinewidth": 0,
              "ticks": ""
             }
            },
            "type": "scattercarpet"
           }
          ],
          "scattergeo": [
           {
            "marker": {
             "colorbar": {
              "outlinewidth": 0,
              "ticks": ""
             }
            },
            "type": "scattergeo"
           }
          ],
          "scattergl": [
           {
            "marker": {
             "colorbar": {
              "outlinewidth": 0,
              "ticks": ""
             }
            },
            "type": "scattergl"
           }
          ],
          "scattermap": [
           {
            "marker": {
             "colorbar": {
              "outlinewidth": 0,
              "ticks": ""
             }
            },
            "type": "scattermap"
           }
          ],
          "scattermapbox": [
           {
            "marker": {
             "colorbar": {
              "outlinewidth": 0,
              "ticks": ""
             }
            },
            "type": "scattermapbox"
           }
          ],
          "scatterpolar": [
           {
            "marker": {
             "colorbar": {
              "outlinewidth": 0,
              "ticks": ""
             }
            },
            "type": "scatterpolar"
           }
          ],
          "scatterpolargl": [
           {
            "marker": {
             "colorbar": {
              "outlinewidth": 0,
              "ticks": ""
             }
            },
            "type": "scatterpolargl"
           }
          ],
          "scatterternary": [
           {
            "marker": {
             "colorbar": {
              "outlinewidth": 0,
              "ticks": ""
             }
            },
            "type": "scatterternary"
           }
          ],
          "surface": [
           {
            "colorbar": {
             "outlinewidth": 0,
             "ticks": ""
            },
            "colorscale": [
             [
              0,
              "#0d0887"
             ],
             [
              0.1111111111111111,
              "#46039f"
             ],
             [
              0.2222222222222222,
              "#7201a8"
             ],
             [
              0.3333333333333333,
              "#9c179e"
             ],
             [
              0.4444444444444444,
              "#bd3786"
             ],
             [
              0.5555555555555556,
              "#d8576b"
             ],
             [
              0.6666666666666666,
              "#ed7953"
             ],
             [
              0.7777777777777778,
              "#fb9f3a"
             ],
             [
              0.8888888888888888,
              "#fdca26"
             ],
             [
              1,
              "#f0f921"
             ]
            ],
            "type": "surface"
           }
          ],
          "table": [
           {
            "cells": {
             "fill": {
              "color": "#EBF0F8"
             },
             "line": {
              "color": "white"
             }
            },
            "header": {
             "fill": {
              "color": "#C8D4E3"
             },
             "line": {
              "color": "white"
             }
            },
            "type": "table"
           }
          ]
         },
         "layout": {
          "annotationdefaults": {
           "arrowcolor": "#2a3f5f",
           "arrowhead": 0,
           "arrowwidth": 1
          },
          "autotypenumbers": "strict",
          "coloraxis": {
           "colorbar": {
            "outlinewidth": 0,
            "ticks": ""
           }
          },
          "colorscale": {
           "diverging": [
            [
             0,
             "#8e0152"
            ],
            [
             0.1,
             "#c51b7d"
            ],
            [
             0.2,
             "#de77ae"
            ],
            [
             0.3,
             "#f1b6da"
            ],
            [
             0.4,
             "#fde0ef"
            ],
            [
             0.5,
             "#f7f7f7"
            ],
            [
             0.6,
             "#e6f5d0"
            ],
            [
             0.7,
             "#b8e186"
            ],
            [
             0.8,
             "#7fbc41"
            ],
            [
             0.9,
             "#4d9221"
            ],
            [
             1,
             "#276419"
            ]
           ],
           "sequential": [
            [
             0,
             "#0d0887"
            ],
            [
             0.1111111111111111,
             "#46039f"
            ],
            [
             0.2222222222222222,
             "#7201a8"
            ],
            [
             0.3333333333333333,
             "#9c179e"
            ],
            [
             0.4444444444444444,
             "#bd3786"
            ],
            [
             0.5555555555555556,
             "#d8576b"
            ],
            [
             0.6666666666666666,
             "#ed7953"
            ],
            [
             0.7777777777777778,
             "#fb9f3a"
            ],
            [
             0.8888888888888888,
             "#fdca26"
            ],
            [
             1,
             "#f0f921"
            ]
           ],
           "sequentialminus": [
            [
             0,
             "#0d0887"
            ],
            [
             0.1111111111111111,
             "#46039f"
            ],
            [
             0.2222222222222222,
             "#7201a8"
            ],
            [
             0.3333333333333333,
             "#9c179e"
            ],
            [
             0.4444444444444444,
             "#bd3786"
            ],
            [
             0.5555555555555556,
             "#d8576b"
            ],
            [
             0.6666666666666666,
             "#ed7953"
            ],
            [
             0.7777777777777778,
             "#fb9f3a"
            ],
            [
             0.8888888888888888,
             "#fdca26"
            ],
            [
             1,
             "#f0f921"
            ]
           ]
          },
          "colorway": [
           "#636efa",
           "#EF553B",
           "#00cc96",
           "#ab63fa",
           "#FFA15A",
           "#19d3f3",
           "#FF6692",
           "#B6E880",
           "#FF97FF",
           "#FECB52"
          ],
          "font": {
           "color": "#2a3f5f"
          },
          "geo": {
           "bgcolor": "white",
           "lakecolor": "white",
           "landcolor": "#E5ECF6",
           "showlakes": true,
           "showland": true,
           "subunitcolor": "white"
          },
          "hoverlabel": {
           "align": "left"
          },
          "hovermode": "closest",
          "mapbox": {
           "style": "light"
          },
          "paper_bgcolor": "white",
          "plot_bgcolor": "#E5ECF6",
          "polar": {
           "angularaxis": {
            "gridcolor": "white",
            "linecolor": "white",
            "ticks": ""
           },
           "bgcolor": "#E5ECF6",
           "radialaxis": {
            "gridcolor": "white",
            "linecolor": "white",
            "ticks": ""
           }
          },
          "scene": {
           "xaxis": {
            "backgroundcolor": "#E5ECF6",
            "gridcolor": "white",
            "gridwidth": 2,
            "linecolor": "white",
            "showbackground": true,
            "ticks": "",
            "zerolinecolor": "white"
           },
           "yaxis": {
            "backgroundcolor": "#E5ECF6",
            "gridcolor": "white",
            "gridwidth": 2,
            "linecolor": "white",
            "showbackground": true,
            "ticks": "",
            "zerolinecolor": "white"
           },
           "zaxis": {
            "backgroundcolor": "#E5ECF6",
            "gridcolor": "white",
            "gridwidth": 2,
            "linecolor": "white",
            "showbackground": true,
            "ticks": "",
            "zerolinecolor": "white"
           }
          },
          "shapedefaults": {
           "line": {
            "color": "#2a3f5f"
           }
          },
          "ternary": {
           "aaxis": {
            "gridcolor": "white",
            "linecolor": "white",
            "ticks": ""
           },
           "baxis": {
            "gridcolor": "white",
            "linecolor": "white",
            "ticks": ""
           },
           "bgcolor": "#E5ECF6",
           "caxis": {
            "gridcolor": "white",
            "linecolor": "white",
            "ticks": ""
           }
          },
          "title": {
           "x": 0.05
          },
          "xaxis": {
           "automargin": true,
           "gridcolor": "white",
           "linecolor": "white",
           "ticks": "",
           "title": {
            "standoff": 15
           },
           "zerolinecolor": "white",
           "zerolinewidth": 2
          },
          "yaxis": {
           "automargin": true,
           "gridcolor": "white",
           "linecolor": "white",
           "ticks": "",
           "title": {
            "standoff": 15
           },
           "zerolinecolor": "white",
           "zerolinewidth": 2
          }
         }
        },
        "title": {
         "text": "rte · roberta-base · Accuracy vs Epoch (all best runs)"
        },
        "xaxis": {
         "title": {
          "text": "epoch"
         }
        },
        "yaxis": {
         "title": {
          "text": "accuracy"
         }
        }
       }
      }
     },
     "metadata": {},
     "output_type": "display_data"
    }
   ],
   "source": [
    "# === Config ===\n",
    "ROOT = \"./glue_results_final\"   # parent folder holding the 'task' dir\n",
    "TASK = \"rte\"                    # e.g., \"rte\", \"mrpc\", \"cola\"\n",
    "MODEL = \"roberta-base\"          # \"roberta-base\" or \"roberta-large\"\n",
    "\n",
    "# === Code ===\n",
    "from pathlib import Path\n",
    "import re\n",
    "import pandas as pd\n",
    "import plotly.graph_objects as go\n",
    "\n",
    "METHODS = (\"full_finetuning\", \"lora\", \"rslora\")\n",
    "\n",
    "def parse_rank(name: str):\n",
    "    m = re.search(r\"_r(\\d+)_\", name)\n",
    "    return int(m.group(1)) if m else None\n",
    "\n",
    "def read_eval(csv_path: Path) -> pd.DataFrame | None:\n",
    "    try:\n",
    "        df = pd.read_csv(csv_path)\n",
    "    except Exception:\n",
    "        return None\n",
    "    # normalize possible names\n",
    "    if \"eval_accuracy\" in df.columns and \"accuracy\" not in df.columns:\n",
    "        df = df.rename(columns={\"eval_accuracy\": \"accuracy\"})\n",
    "    if \"epoch\" not in df.columns:\n",
    "        df = df.reset_index().rename(columns={\"index\":\"epoch\"})\n",
    "        df[\"epoch\"] = df[\"epoch\"] + 1\n",
    "    # focus on epochs 1..5 if present\n",
    "    df = df[df[\"epoch\"].astype(float).between(1,5)]\n",
    "    return df.sort_values(\"epoch\")\n",
    "\n",
    "def load_best_runs(root: str, task: str, model: str):\n",
    "    base = Path(root) / task / model\n",
    "    runs = []\n",
    "    for method in METHODS:\n",
    "        mdir = base / method\n",
    "        if not mdir.exists():\n",
    "            continue\n",
    "        for run in sorted([p for p in mdir.iterdir() if p.is_dir() and p.name.endswith(\"_best_accuracy\")]):\n",
    "            df = read_eval(run / \"eval_per_epoch.csv\")\n",
    "            if df is None or \"accuracy\" not in df.columns:\n",
    "                continue\n",
    "            runs.append({\n",
    "                \"method\": method,\n",
    "                \"rank\": parse_rank(run.name) if method != \"full_finetuning\" else None,\n",
    "                \"name\": run.name,\n",
    "                \"df\": df\n",
    "            })\n",
    "    return runs\n",
    "\n",
    "def dash_for_rank(rank: int, ranks_sorted: list[int]) -> str:\n",
    "    \"\"\"\n",
    "    Map rank position -> dash style (more solid for higher ranks).\n",
    "    Uses an ordered palette: dot -> dashdot -> dash -> longdash -> solid.\n",
    "    \"\"\"\n",
    "    palette = [\"dot\", \"dashdot\", \"dash\", \"longdash\", \"solid\"]\n",
    "    if not ranks_sorted:\n",
    "        return \"solid\"\n",
    "    idx = ranks_sorted.index(rank)\n",
    "    frac = idx / max(1, len(ranks_sorted) - 1)\n",
    "    palette_idx = int(round(frac * (len(palette) - 1)))\n",
    "    return palette[palette_idx]\n",
    "\n",
    "# load\n",
    "runs = load_best_runs(ROOT, TASK, MODEL)\n",
    "if not runs:\n",
    "    raise SystemExit(f\"No *_best_accuracy runs found under {ROOT}/{TASK}/{MODEL}\")\n",
    "\n",
    "# collect rank list (for dash mapping)\n",
    "all_ranks = sorted({r[\"rank\"] for r in runs if r[\"rank\"] is not None})\n",
    "\n",
    "# colors\n",
    "COLOR = {\n",
    "    \"full_finetuning\": \"black\",\n",
    "    \"lora\": \"red\",\n",
    "    \"rslora\": \"green\"\n",
    "}\n",
    "\n",
    "fig = go.Figure()\n",
    "\n",
    "# Add full FT first (usually just one best run)\n",
    "for r in [x for x in runs if x[\"method\"] == \"full_finetuning\"]:\n",
    "    fig.add_trace(go.Scatter(\n",
    "        x=r[\"df\"][\"epoch\"], y=r[\"df\"][\"accuracy\"],\n",
    "        mode=\"lines+markers\",\n",
    "        name=\"full_finetuning\",\n",
    "        line=dict(color=COLOR[\"full_finetuning\"], dash=\"solid\"),\n",
    "        hovertext=[r[\"name\"]]*len(r[\"df\"])\n",
    "    ))\n",
    "\n",
    "# Add all LoRA ranks (each trace toggles individually)\n",
    "for r in sorted([x for x in runs if x[\"method\"] == \"lora\"], key=lambda z: z[\"rank\"] or -1):\n",
    "    dash = dash_for_rank(r[\"rank\"], all_ranks)\n",
    "    fig.add_trace(go.Scatter(\n",
    "        x=r[\"df\"][\"epoch\"], y=r[\"df\"][\"accuracy\"],\n",
    "        mode=\"lines+markers\",\n",
    "        name=f\"lora_r{r['rank']}\",\n",
    "        line=dict(color=COLOR[\"lora\"], dash=dash),\n",
    "        hovertext=[r[\"name\"]]*len(r[\"df\"])\n",
    "    ))\n",
    "\n",
    "# Add all RSLoRA ranks (each trace toggles individually)\n",
    "for r in sorted([x for x in runs if x[\"method\"] == \"rslora\"], key=lambda z: z[\"rank\"] or -1):\n",
    "    dash = dash_for_rank(r[\"rank\"], all_ranks)\n",
    "    fig.add_trace(go.Scatter(\n",
    "        x=r[\"df\"][\"epoch\"], y=r[\"df\"][\"accuracy\"],\n",
    "        mode=\"lines+markers\",\n",
    "        name=f\"rslora_r{r['rank']}\",\n",
    "        line=dict(color=COLOR[\"rslora\"], dash=dash),\n",
    "        hovertext=[r[\"name\"]]*len(r[\"df\"])\n",
    "    ))\n",
    "\n",
    "fig.update_layout(\n",
    "    title=f\"{TASK} · {MODEL} · Accuracy vs Epoch (all best runs)\",\n",
    "    xaxis_title=\"epoch\",\n",
    "    yaxis_title=\"accuracy\",\n",
    "    legend_title_text=\"method / rank\",\n",
    "    hovermode=\"x unified\"\n",
    ")\n",
    "\n",
    "fig\n"
   ]
  },
  {
   "cell_type": "code",
   "execution_count": 12,
   "id": "912e58a6",
   "metadata": {},
   "outputs": [
    {
     "data": {
      "application/vnd.plotly.v1+json": {
       "config": {
        "plotlyServerURL": "https://plot.ly"
       },
       "data": [
        {
         "hovertext": [
          "full_finetuning_lr1e-05_best_accuracy",
          "full_finetuning_lr1e-05_best_accuracy",
          "full_finetuning_lr1e-05_best_accuracy",
          "full_finetuning_lr1e-05_best_accuracy",
          "full_finetuning_lr1e-05_best_accuracy"
         ],
         "line": {
          "color": "black",
          "dash": "solid",
          "width": 2.5
         },
         "mode": "lines+markers",
         "name": "full_finetuning",
         "type": "scatter",
         "x": {
          "bdata": "AAAAAAAA8D8AAAAAAAAAQAAAAAAAAAhAAAAAAAAAEEAAAAAAAAAUQA==",
          "dtype": "f8"
         },
         "y": {
          "bdata": "hXM3tIl/3j8hbB/mq67nPxmRl+wAw+k/FYWwfZiv6j8XCyS1TDnqPw==",
          "dtype": "f8"
         }
        },
        {
         "hovertext": [
          "lora_r1_alpha1_lr0.001_best_accuracy",
          "lora_r1_alpha1_lr0.001_best_accuracy",
          "lora_r1_alpha1_lr0.001_best_accuracy",
          "lora_r1_alpha1_lr0.001_best_accuracy",
          "lora_r1_alpha1_lr0.001_best_accuracy"
         ],
         "line": {
          "color": "rgb(254, 217, 200)",
          "dash": "solid",
          "width": 2
         },
         "mode": "lines+markers",
         "name": "lora_r1",
         "type": "scatter",
         "x": {
          "bdata": "AAAAAAAA8D8AAAAAAAAAQAAAAAAAAAhAAAAAAAAAEEAAAAAAAAAUQA==",
          "dtype": "f8"
         },
         "y": {
          "bdata": "hzbxz2NE3j8ktUw5Ov3mPxjO3dAm/uk/lmaNiwWS6j+WZo2LBZLqPw==",
          "dtype": "f8"
         }
        },
        {
         "hovertext": [
          "lora_r4_alpha4_lr0.001_best_accuracy",
          "lora_r4_alpha4_lr0.001_best_accuracy",
          "lora_r4_alpha4_lr0.001_best_accuracy",
          "lora_r4_alpha4_lr0.001_best_accuracy",
          "lora_r4_alpha4_lr0.001_best_accuracy"
         ],
         "line": {
          "color": "rgb(252, 190, 165)",
          "dash": "solid",
          "width": 2.111111111111111
         },
         "mode": "lines+markers",
         "name": "lora_r4",
         "type": "scatter",
         "x": {
          "bdata": "AAAAAAAA8D8AAAAAAAAAQAAAAAAAAAhAAAAAAAAAEEAAAAAAAAAUQA==",
          "dtype": "f8"
         },
         "y": {
          "bdata": "vWQHGM7d4D+Yr7rek+DpPxZIaplydOo/klqmHJ1+6z8SPIMqCmHrPw==",
          "dtype": "f8"
         }
        },
        {
         "hovertext": [
          "lora_r8_alpha8_lr0.00031622776601683794_best_accuracy",
          "lora_r8_alpha8_lr0.00031622776601683794_best_accuracy",
          "lora_r8_alpha8_lr0.00031622776601683794_best_accuracy",
          "lora_r8_alpha8_lr0.00031622776601683794_best_accuracy",
          "lora_r8_alpha8_lr0.00031622776601683794_best_accuracy"
         ],
         "line": {
          "color": "rgb(252, 161, 132)",
          "dash": "solid",
          "width": 2.2222222222222223
         },
         "mode": "lines+markers",
         "name": "lora_r8",
         "type": "scatter",
         "x": {
          "bdata": "AAAAAAAA8D8AAAAAAAAAQAAAAAAAAAhAAAAAAAAAEEAAAAAAAAAUQA==",
          "dtype": "f8"
         },
         "y": {
          "bdata": "gWdQRSFs3z8gqWXK0ennPxP/PEbkJes/FYWwfZiv6j8XCyS1TDnqPw==",
          "dtype": "f8"
         }
        },
        {
         "hovertext": [
          "lora_r16_alpha16_lr0.00031622776601683794_best_accuracy",
          "lora_r16_alpha16_lr0.00031622776601683794_best_accuracy",
          "lora_r16_alpha16_lr0.00031622776601683794_best_accuracy",
          "lora_r16_alpha16_lr0.00031622776601683794_best_accuracy",
          "lora_r16_alpha16_lr0.00031622776601683794_best_accuracy"
         ],
         "line": {
          "color": "rgb(252, 133, 101)",
          "dash": "solid",
          "width": 2.3333333333333335
         },
         "mode": "lines+markers",
         "name": "lora_r16",
         "type": "scatter",
         "x": {
          "bdata": "AAAAAAAA8D8AAAAAAAAAQAAAAAAAAAhAAAAAAAAAEEAAAAAAAAAUQA==",
          "dtype": "f8"
         },
         "y": {
          "bdata": "PIMqCmH74D+dfltp1rjoP5TgGVRRCOs/klqmHJ1+6z8T/zxG5CXrPw==",
          "dtype": "f8"
         }
        },
        {
         "hovertext": [
          "lora_r32_alpha32_lr0.0001_best_accuracy",
          "lora_r32_alpha32_lr0.0001_best_accuracy",
          "lora_r32_alpha32_lr0.0001_best_accuracy",
          "lora_r32_alpha32_lr0.0001_best_accuracy",
          "lora_r32_alpha32_lr0.0001_best_accuracy"
         ],
         "line": {
          "color": "rgb(250, 104, 73)",
          "dash": "solid",
          "width": 2.4444444444444446
         },
         "mode": "lines+markers",
         "name": "lora_r32",
         "type": "scatter",
         "x": {
          "bdata": "AAAAAAAA8D8AAAAAAAAAQAAAAAAAAAhAAAAAAAAAEEAAAAAAAAAUQA==",
          "dtype": "f8"
         },
         "y": {
          "bdata": "hzbxz2NE3j+9ZAcYzt3gP55BFYWwfeg/FwsktUw56j8XCyS1TDnqPw==",
          "dtype": "f8"
         }
        },
        {
         "hovertext": [
          "lora_r64_alpha64_lr0.00031622776601683794_best_accuracy",
          "lora_r64_alpha64_lr0.00031622776601683794_best_accuracy",
          "lora_r64_alpha64_lr0.00031622776601683794_best_accuracy",
          "lora_r64_alpha64_lr0.00031622776601683794_best_accuracy",
          "lora_r64_alpha64_lr0.00031622776601683794_best_accuracy"
         ],
         "line": {
          "color": "rgb(242, 70, 51)",
          "dash": "solid",
          "width": 2.5555555555555554
         },
         "mode": "lines+markers",
         "name": "lora_r64",
         "type": "scatter",
         "x": {
          "bdata": "AAAAAAAA8D8AAAAAAAAAQAAAAAAAAAhAAAAAAAAAEEAAAAAAAAAUQA==",
          "dtype": "f8"
         },
         "y": {
          "bdata": "Ov220qxx4T+eQRWFsH3oPxZIaplydOo/lOAZVFEI6z+THWA4d0PrPw==",
          "dtype": "f8"
         }
        },
        {
         "hovertext": [
          "lora_r128_alpha128_lr5.623413251903491e-05_best_accuracy",
          "lora_r128_alpha128_lr5.623413251903491e-05_best_accuracy",
          "lora_r128_alpha128_lr5.623413251903491e-05_best_accuracy",
          "lora_r128_alpha128_lr5.623413251903491e-05_best_accuracy",
          "lora_r128_alpha128_lr5.623413251903491e-05_best_accuracy"
         ],
         "line": {
          "color": "rgb(222, 43, 37)",
          "dash": "solid",
          "width": 2.6666666666666665
         },
         "mode": "lines+markers",
         "name": "lora_r128",
         "type": "scatter",
         "x": {
          "bdata": "AAAAAAAA8D8AAAAAAAAAQAAAAAAAAAhAAAAAAAAAEEAAAAAAAAAUQA==",
          "dtype": "f8"
         },
         "y": {
          "bdata": "hzbxz2NE3j8c2sQ/jxHpPxZIaplydOo/FkhqmXJ06j8UwvZhvurqPw==",
          "dtype": "f8"
         }
        },
        {
         "hovertext": [
          "lora_r256_alpha256_lr3.1622776601683795e-05_best_accuracy",
          "lora_r256_alpha256_lr3.1622776601683795e-05_best_accuracy",
          "lora_r256_alpha256_lr3.1622776601683795e-05_best_accuracy",
          "lora_r256_alpha256_lr3.1622776601683795e-05_best_accuracy",
          "lora_r256_alpha256_lr3.1622776601683795e-05_best_accuracy"
         ],
         "line": {
          "color": "rgb(196, 22, 28)",
          "dash": "solid",
          "width": 2.7777777777777777
         },
         "mode": "lines+markers",
         "name": "lora_r256",
         "type": "scatter",
         "x": {
          "bdata": "AAAAAAAA8D8AAAAAAAAAQAAAAAAAAAhAAAAAAAAAEEAAAAAAAAAUQA==",
          "dtype": "f8"
         },
         "y": {
          "bdata": "hzbxz2NE3j8ZkZfsAMPpP5ZmjYsFkuo/laPTbyvN6j+U4BlUUQjrPw==",
          "dtype": "f8"
         }
        },
        {
         "hovertext": [
          "lora_r512_alpha512_lr1.778279410038923e-05_best_accuracy",
          "lora_r512_alpha512_lr1.778279410038923e-05_best_accuracy",
          "lora_r512_alpha512_lr1.778279410038923e-05_best_accuracy",
          "lora_r512_alpha512_lr1.778279410038923e-05_best_accuracy",
          "lora_r512_alpha512_lr1.778279410038923e-05_best_accuracy"
         ],
         "line": {
          "color": "rgb(169, 16, 22)",
          "dash": "solid",
          "width": 2.888888888888889
         },
         "mode": "lines+markers",
         "name": "lora_r512",
         "type": "scatter",
         "x": {
          "bdata": "AAAAAAAA8D8AAAAAAAAAQAAAAAAAAAhAAAAAAAAAEEAAAAAAAAAUQA==",
          "dtype": "f8"
         },
         "y": {
          "bdata": "hzbxz2NE3j8c2sQ/jxHpPxcLJLVMOeo/lmaNiwWS6j8VhbB9mK/qPw==",
          "dtype": "f8"
         }
        },
        {
         "hovertext": [
          "lora_r1024_alpha1024_lr1.77827941e-05_best_accuracy",
          "lora_r1024_alpha1024_lr1.77827941e-05_best_accuracy",
          "lora_r1024_alpha1024_lr1.77827941e-05_best_accuracy",
          "lora_r1024_alpha1024_lr1.77827941e-05_best_accuracy",
          "lora_r1024_alpha1024_lr1.77827941e-05_best_accuracy"
         ],
         "line": {
          "color": "rgb(128, 6, 16)",
          "dash": "solid",
          "width": 3
         },
         "mode": "lines+markers",
         "name": "lora_r1024",
         "type": "scatter",
         "x": {
          "bdata": "AAAAAAAA8D8AAAAAAAAAQAAAAAAAAAhAAAAAAAAAEEAAAAAAAAAUQA==",
          "dtype": "f8"
         },
         "y": {
          "bdata": "hXM3tIl/3j8z5ej020rjP61xsUBSy+Q/LVOOTr+t5D8leAZVFMLmPw==",
          "dtype": "f8"
         }
        },
        {
         "hovertext": [
          "rslora_r1_alpha1_lr0.001_best_accuracy",
          "rslora_r1_alpha1_lr0.001_best_accuracy",
          "rslora_r1_alpha1_lr0.001_best_accuracy",
          "rslora_r1_alpha1_lr0.001_best_accuracy",
          "rslora_r1_alpha1_lr0.001_best_accuracy"
         ],
         "line": {
          "color": "rgb(223, 243, 218)",
          "dash": "solid",
          "width": 2
         },
         "mode": "lines+markers",
         "name": "rslora_r1",
         "type": "scatter",
         "x": {
          "bdata": "AAAAAAAA8D8AAAAAAAAAQAAAAAAAAAhAAAAAAAAAEEAAAAAAAAAUQA==",
          "dtype": "f8"
         },
         "y": {
          "bdata": "hzbxz2NE3j8ktUw5Ov3mPxjO3dAm/uk/lmaNiwWS6j+WZo2LBZLqPw==",
          "dtype": "f8"
         }
        },
        {
         "hovertext": [
          "rslora_r4_alpha4_lr0.001_best_accuracy",
          "rslora_r4_alpha4_lr0.001_best_accuracy",
          "rslora_r4_alpha4_lr0.001_best_accuracy",
          "rslora_r4_alpha4_lr0.001_best_accuracy",
          "rslora_r4_alpha4_lr0.001_best_accuracy"
         ],
         "line": {
          "color": "rgb(202, 234, 195)",
          "dash": "solid",
          "width": 2.111111111111111
         },
         "mode": "lines+markers",
         "name": "rslora_r4",
         "type": "scatter",
         "x": {
          "bdata": "AAAAAAAA8D8AAAAAAAAAQAAAAAAAAAhAAAAAAAAAEEAAAAAAAAAUQA==",
          "dtype": "f8"
         },
         "y": {
          "bdata": "vWQHGM7d4D+eQRWFsH3oP5TgGVRRCOs/lOAZVFEI6z8UwvZhvurqPw==",
          "dtype": "f8"
         }
        },
        {
         "hovertext": [
          "rslora_r8_alpha8_lr0.00031622776601683794_best_accuracy",
          "rslora_r8_alpha8_lr0.00031622776601683794_best_accuracy",
          "rslora_r8_alpha8_lr0.00031622776601683794_best_accuracy",
          "rslora_r8_alpha8_lr0.00031622776601683794_best_accuracy",
          "rslora_r8_alpha8_lr0.00031622776601683794_best_accuracy"
         ],
         "line": {
          "color": "rgb(175, 223, 169)",
          "dash": "solid",
          "width": 2.2222222222222223
         },
         "mode": "lines+markers",
         "name": "rslora_r8",
         "type": "scatter",
         "x": {
          "bdata": "AAAAAAAA8D8AAAAAAAAAQAAAAAAAAAhAAAAAAAAAEEAAAAAAAAAUQA==",
          "dtype": "f8"
         },
         "y": {
          "bdata": "vWQHGM7d4D+XKUen31bqPxjO3dAm/uk/lylHp99W6j8VhbB9mK/qPw==",
          "dtype": "f8"
         }
        },
        {
         "hovertext": [
          "rslora_r16_alpha16_lr0.0001_best_accuracy",
          "rslora_r16_alpha16_lr0.0001_best_accuracy",
          "rslora_r16_alpha16_lr0.0001_best_accuracy",
          "rslora_r16_alpha16_lr0.0001_best_accuracy",
          "rslora_r16_alpha16_lr0.0001_best_accuracy"
         ],
         "line": {
          "color": "rgb(146, 210, 143)",
          "dash": "solid",
          "width": 2.3333333333333335
         },
         "mode": "lines+markers",
         "name": "rslora_r16",
         "type": "scatter",
         "x": {
          "bdata": "AAAAAAAA8D8AAAAAAAAAQAAAAAAAAAhAAAAAAAAAEEAAAAAAAAAUQA==",
          "dtype": "f8"
         },
         "y": {
          "bdata": "hzbxz2NE3j8phO3DfNXlPxpUUQjbh+k/EjyDKgph6z+Vo9NvK83qPw==",
          "dtype": "f8"
         }
        },
        {
         "hovertext": [
          "rslora_r32_alpha32_lr0.0001_best_accuracy",
          "rslora_r32_alpha32_lr0.0001_best_accuracy",
          "rslora_r32_alpha32_lr0.0001_best_accuracy",
          "rslora_r32_alpha32_lr0.0001_best_accuracy",
          "rslora_r32_alpha32_lr0.0001_best_accuracy"
         ],
         "line": {
          "color": "rgb(114, 195, 117)",
          "dash": "solid",
          "width": 2.4444444444444446
         },
         "mode": "lines+markers",
         "name": "rslora_r32",
         "type": "scatter",
         "x": {
          "bdata": "AAAAAAAA8D8AAAAAAAAAQAAAAAAAAAhAAAAAAAAAEEAAAAAAAAAUQA==",
          "dtype": "f8"
         },
         "y": {
          "bdata": "L9kBhnM35D8WSGqZcnTqP5TgGVRRCOs/lOAZVFEI6z+Vo9NvK83qPw==",
          "dtype": "f8"
         }
        },
        {
         "hovertext": [
          "rslora_r64_alpha64_lr1.77827941e-05_best_accuracy",
          "rslora_r64_alpha64_lr1.77827941e-05_best_accuracy",
          "rslora_r64_alpha64_lr1.77827941e-05_best_accuracy",
          "rslora_r64_alpha64_lr1.77827941e-05_best_accuracy",
          "rslora_r64_alpha64_lr1.77827941e-05_best_accuracy"
         ],
         "line": {
          "color": "rgb(77, 177, 99)",
          "dash": "solid",
          "width": 2.5555555555555554
         },
         "mode": "lines+markers",
         "name": "rslora_r64",
         "type": "scatter",
         "x": {
          "bdata": "AAAAAAAA8D8AAAAAAAAAQAAAAAAAAAhAAAAAAAAAEEAAAAAAAAAUQA==",
          "dtype": "f8"
         },
         "y": {
          "bdata": "hzbxz2NE3j+dfltp1rjoP5ivut6T4Ok/lOAZVFEI6z8T/zxG5CXrPw==",
          "dtype": "f8"
         }
        },
        {
         "hovertext": [
          "rslora_r128_alpha128_lr1.77827941e-05_best_accuracy",
          "rslora_r128_alpha128_lr1.77827941e-05_best_accuracy",
          "rslora_r128_alpha128_lr1.77827941e-05_best_accuracy",
          "rslora_r128_alpha128_lr1.77827941e-05_best_accuracy",
          "rslora_r128_alpha128_lr1.77827941e-05_best_accuracy"
         ],
         "line": {
          "color": "rgb(51, 156, 82)",
          "dash": "solid",
          "width": 2.6666666666666665
         },
         "mode": "lines+markers",
         "name": "rslora_r128",
         "type": "scatter",
         "x": {
          "bdata": "AAAAAAAA8D8AAAAAAAAAQAAAAAAAAAhAAAAAAAAAEEAAAAAAAAAUQA==",
          "dtype": "f8"
         },
         "y": {
          "bdata": "vWQHGM7d4D8mO8Bw7obmP58Ez6CKQug/EjyDKgph6z8SPIMqCmHrPw==",
          "dtype": "f8"
         }
        },
        {
         "hovertext": [
          "rslora_r256_alpha256_lr0.00031622776601683794_best_accuracy",
          "rslora_r256_alpha256_lr0.00031622776601683794_best_accuracy",
          "rslora_r256_alpha256_lr0.00031622776601683794_best_accuracy",
          "rslora_r256_alpha256_lr0.00031622776601683794_best_accuracy",
          "rslora_r256_alpha256_lr0.00031622776601683794_best_accuracy"
         ],
         "line": {
          "color": "rgb(29, 134, 65)",
          "dash": "solid",
          "width": 2.7777777777777777
         },
         "mode": "lines+markers",
         "name": "rslora_r256",
         "type": "scatter",
         "x": {
          "bdata": "AAAAAAAA8D8AAAAAAAAAQAAAAAAAAAhAAAAAAAAAEEAAAAAAAAAUQA==",
          "dtype": "f8"
         },
         "y": {
          "bdata": "hzbxz2NE3j+9ZAcYzt3gP71kBxjO3eA/hzbxz2NE3j+9ZAcYzt3gPw==",
          "dtype": "f8"
         }
        },
        {
         "hovertext": [
          "rslora_r512_alpha512_lr0.0001_best_accuracy",
          "rslora_r512_alpha512_lr0.0001_best_accuracy",
          "rslora_r512_alpha512_lr0.0001_best_accuracy",
          "rslora_r512_alpha512_lr0.0001_best_accuracy",
          "rslora_r512_alpha512_lr0.0001_best_accuracy"
         ],
         "line": {
          "color": "rgb(4, 112, 47)",
          "dash": "solid",
          "width": 2.888888888888889
         },
         "mode": "lines+markers",
         "name": "rslora_r512",
         "type": "scatter",
         "x": {
          "bdata": "AAAAAAAA8D8AAAAAAAAAQAAAAAAAAAhAAAAAAAAAEEAAAAAAAAAUQA==",
          "dtype": "f8"
         },
         "y": {
          "bdata": "hzbxz2NE3j+HNvHPY0TeP71kBxjO3eA/hzbxz2NE3j+9ZAcYzt3gPw==",
          "dtype": "f8"
         }
        },
        {
         "hovertext": [
          "rslora_r1024_alpha1024_lr0.0001_best_accuracy",
          "rslora_r1024_alpha1024_lr0.0001_best_accuracy",
          "rslora_r1024_alpha1024_lr0.0001_best_accuracy",
          "rslora_r1024_alpha1024_lr0.0001_best_accuracy",
          "rslora_r1024_alpha1024_lr0.0001_best_accuracy"
         ],
         "line": {
          "color": "rgb(0, 84, 34)",
          "dash": "solid",
          "width": 3
         },
         "mode": "lines+markers",
         "name": "rslora_r1024",
         "type": "scatter",
         "x": {
          "bdata": "AAAAAAAA8D8AAAAAAAAAQAAAAAAAAAhAAAAAAAAAEEAAAAAAAAAUQA==",
          "dtype": "f8"
         },
         "y": {
          "bdata": "vWQHGM7d4D+HNvHPY0TeP71kBxjO3eA/hzbxz2NE3j+9ZAcYzt3gPw==",
          "dtype": "f8"
         }
        }
       ],
       "layout": {
        "hovermode": "x unified",
        "legend": {
         "title": {
          "text": "method / rank"
         }
        },
        "template": {
         "data": {
          "bar": [
           {
            "error_x": {
             "color": "#2a3f5f"
            },
            "error_y": {
             "color": "#2a3f5f"
            },
            "marker": {
             "line": {
              "color": "#E5ECF6",
              "width": 0.5
             },
             "pattern": {
              "fillmode": "overlay",
              "size": 10,
              "solidity": 0.2
             }
            },
            "type": "bar"
           }
          ],
          "barpolar": [
           {
            "marker": {
             "line": {
              "color": "#E5ECF6",
              "width": 0.5
             },
             "pattern": {
              "fillmode": "overlay",
              "size": 10,
              "solidity": 0.2
             }
            },
            "type": "barpolar"
           }
          ],
          "carpet": [
           {
            "aaxis": {
             "endlinecolor": "#2a3f5f",
             "gridcolor": "white",
             "linecolor": "white",
             "minorgridcolor": "white",
             "startlinecolor": "#2a3f5f"
            },
            "baxis": {
             "endlinecolor": "#2a3f5f",
             "gridcolor": "white",
             "linecolor": "white",
             "minorgridcolor": "white",
             "startlinecolor": "#2a3f5f"
            },
            "type": "carpet"
           }
          ],
          "choropleth": [
           {
            "colorbar": {
             "outlinewidth": 0,
             "ticks": ""
            },
            "type": "choropleth"
           }
          ],
          "contour": [
           {
            "colorbar": {
             "outlinewidth": 0,
             "ticks": ""
            },
            "colorscale": [
             [
              0,
              "#0d0887"
             ],
             [
              0.1111111111111111,
              "#46039f"
             ],
             [
              0.2222222222222222,
              "#7201a8"
             ],
             [
              0.3333333333333333,
              "#9c179e"
             ],
             [
              0.4444444444444444,
              "#bd3786"
             ],
             [
              0.5555555555555556,
              "#d8576b"
             ],
             [
              0.6666666666666666,
              "#ed7953"
             ],
             [
              0.7777777777777778,
              "#fb9f3a"
             ],
             [
              0.8888888888888888,
              "#fdca26"
             ],
             [
              1,
              "#f0f921"
             ]
            ],
            "type": "contour"
           }
          ],
          "contourcarpet": [
           {
            "colorbar": {
             "outlinewidth": 0,
             "ticks": ""
            },
            "type": "contourcarpet"
           }
          ],
          "heatmap": [
           {
            "colorbar": {
             "outlinewidth": 0,
             "ticks": ""
            },
            "colorscale": [
             [
              0,
              "#0d0887"
             ],
             [
              0.1111111111111111,
              "#46039f"
             ],
             [
              0.2222222222222222,
              "#7201a8"
             ],
             [
              0.3333333333333333,
              "#9c179e"
             ],
             [
              0.4444444444444444,
              "#bd3786"
             ],
             [
              0.5555555555555556,
              "#d8576b"
             ],
             [
              0.6666666666666666,
              "#ed7953"
             ],
             [
              0.7777777777777778,
              "#fb9f3a"
             ],
             [
              0.8888888888888888,
              "#fdca26"
             ],
             [
              1,
              "#f0f921"
             ]
            ],
            "type": "heatmap"
           }
          ],
          "histogram": [
           {
            "marker": {
             "pattern": {
              "fillmode": "overlay",
              "size": 10,
              "solidity": 0.2
             }
            },
            "type": "histogram"
           }
          ],
          "histogram2d": [
           {
            "colorbar": {
             "outlinewidth": 0,
             "ticks": ""
            },
            "colorscale": [
             [
              0,
              "#0d0887"
             ],
             [
              0.1111111111111111,
              "#46039f"
             ],
             [
              0.2222222222222222,
              "#7201a8"
             ],
             [
              0.3333333333333333,
              "#9c179e"
             ],
             [
              0.4444444444444444,
              "#bd3786"
             ],
             [
              0.5555555555555556,
              "#d8576b"
             ],
             [
              0.6666666666666666,
              "#ed7953"
             ],
             [
              0.7777777777777778,
              "#fb9f3a"
             ],
             [
              0.8888888888888888,
              "#fdca26"
             ],
             [
              1,
              "#f0f921"
             ]
            ],
            "type": "histogram2d"
           }
          ],
          "histogram2dcontour": [
           {
            "colorbar": {
             "outlinewidth": 0,
             "ticks": ""
            },
            "colorscale": [
             [
              0,
              "#0d0887"
             ],
             [
              0.1111111111111111,
              "#46039f"
             ],
             [
              0.2222222222222222,
              "#7201a8"
             ],
             [
              0.3333333333333333,
              "#9c179e"
             ],
             [
              0.4444444444444444,
              "#bd3786"
             ],
             [
              0.5555555555555556,
              "#d8576b"
             ],
             [
              0.6666666666666666,
              "#ed7953"
             ],
             [
              0.7777777777777778,
              "#fb9f3a"
             ],
             [
              0.8888888888888888,
              "#fdca26"
             ],
             [
              1,
              "#f0f921"
             ]
            ],
            "type": "histogram2dcontour"
           }
          ],
          "mesh3d": [
           {
            "colorbar": {
             "outlinewidth": 0,
             "ticks": ""
            },
            "type": "mesh3d"
           }
          ],
          "parcoords": [
           {
            "line": {
             "colorbar": {
              "outlinewidth": 0,
              "ticks": ""
             }
            },
            "type": "parcoords"
           }
          ],
          "pie": [
           {
            "automargin": true,
            "type": "pie"
           }
          ],
          "scatter": [
           {
            "fillpattern": {
             "fillmode": "overlay",
             "size": 10,
             "solidity": 0.2
            },
            "type": "scatter"
           }
          ],
          "scatter3d": [
           {
            "line": {
             "colorbar": {
              "outlinewidth": 0,
              "ticks": ""
             }
            },
            "marker": {
             "colorbar": {
              "outlinewidth": 0,
              "ticks": ""
             }
            },
            "type": "scatter3d"
           }
          ],
          "scattercarpet": [
           {
            "marker": {
             "colorbar": {
              "outlinewidth": 0,
              "ticks": ""
             }
            },
            "type": "scattercarpet"
           }
          ],
          "scattergeo": [
           {
            "marker": {
             "colorbar": {
              "outlinewidth": 0,
              "ticks": ""
             }
            },
            "type": "scattergeo"
           }
          ],
          "scattergl": [
           {
            "marker": {
             "colorbar": {
              "outlinewidth": 0,
              "ticks": ""
             }
            },
            "type": "scattergl"
           }
          ],
          "scattermap": [
           {
            "marker": {
             "colorbar": {
              "outlinewidth": 0,
              "ticks": ""
             }
            },
            "type": "scattermap"
           }
          ],
          "scattermapbox": [
           {
            "marker": {
             "colorbar": {
              "outlinewidth": 0,
              "ticks": ""
             }
            },
            "type": "scattermapbox"
           }
          ],
          "scatterpolar": [
           {
            "marker": {
             "colorbar": {
              "outlinewidth": 0,
              "ticks": ""
             }
            },
            "type": "scatterpolar"
           }
          ],
          "scatterpolargl": [
           {
            "marker": {
             "colorbar": {
              "outlinewidth": 0,
              "ticks": ""
             }
            },
            "type": "scatterpolargl"
           }
          ],
          "scatterternary": [
           {
            "marker": {
             "colorbar": {
              "outlinewidth": 0,
              "ticks": ""
             }
            },
            "type": "scatterternary"
           }
          ],
          "surface": [
           {
            "colorbar": {
             "outlinewidth": 0,
             "ticks": ""
            },
            "colorscale": [
             [
              0,
              "#0d0887"
             ],
             [
              0.1111111111111111,
              "#46039f"
             ],
             [
              0.2222222222222222,
              "#7201a8"
             ],
             [
              0.3333333333333333,
              "#9c179e"
             ],
             [
              0.4444444444444444,
              "#bd3786"
             ],
             [
              0.5555555555555556,
              "#d8576b"
             ],
             [
              0.6666666666666666,
              "#ed7953"
             ],
             [
              0.7777777777777778,
              "#fb9f3a"
             ],
             [
              0.8888888888888888,
              "#fdca26"
             ],
             [
              1,
              "#f0f921"
             ]
            ],
            "type": "surface"
           }
          ],
          "table": [
           {
            "cells": {
             "fill": {
              "color": "#EBF0F8"
             },
             "line": {
              "color": "white"
             }
            },
            "header": {
             "fill": {
              "color": "#C8D4E3"
             },
             "line": {
              "color": "white"
             }
            },
            "type": "table"
           }
          ]
         },
         "layout": {
          "annotationdefaults": {
           "arrowcolor": "#2a3f5f",
           "arrowhead": 0,
           "arrowwidth": 1
          },
          "autotypenumbers": "strict",
          "coloraxis": {
           "colorbar": {
            "outlinewidth": 0,
            "ticks": ""
           }
          },
          "colorscale": {
           "diverging": [
            [
             0,
             "#8e0152"
            ],
            [
             0.1,
             "#c51b7d"
            ],
            [
             0.2,
             "#de77ae"
            ],
            [
             0.3,
             "#f1b6da"
            ],
            [
             0.4,
             "#fde0ef"
            ],
            [
             0.5,
             "#f7f7f7"
            ],
            [
             0.6,
             "#e6f5d0"
            ],
            [
             0.7,
             "#b8e186"
            ],
            [
             0.8,
             "#7fbc41"
            ],
            [
             0.9,
             "#4d9221"
            ],
            [
             1,
             "#276419"
            ]
           ],
           "sequential": [
            [
             0,
             "#0d0887"
            ],
            [
             0.1111111111111111,
             "#46039f"
            ],
            [
             0.2222222222222222,
             "#7201a8"
            ],
            [
             0.3333333333333333,
             "#9c179e"
            ],
            [
             0.4444444444444444,
             "#bd3786"
            ],
            [
             0.5555555555555556,
             "#d8576b"
            ],
            [
             0.6666666666666666,
             "#ed7953"
            ],
            [
             0.7777777777777778,
             "#fb9f3a"
            ],
            [
             0.8888888888888888,
             "#fdca26"
            ],
            [
             1,
             "#f0f921"
            ]
           ],
           "sequentialminus": [
            [
             0,
             "#0d0887"
            ],
            [
             0.1111111111111111,
             "#46039f"
            ],
            [
             0.2222222222222222,
             "#7201a8"
            ],
            [
             0.3333333333333333,
             "#9c179e"
            ],
            [
             0.4444444444444444,
             "#bd3786"
            ],
            [
             0.5555555555555556,
             "#d8576b"
            ],
            [
             0.6666666666666666,
             "#ed7953"
            ],
            [
             0.7777777777777778,
             "#fb9f3a"
            ],
            [
             0.8888888888888888,
             "#fdca26"
            ],
            [
             1,
             "#f0f921"
            ]
           ]
          },
          "colorway": [
           "#636efa",
           "#EF553B",
           "#00cc96",
           "#ab63fa",
           "#FFA15A",
           "#19d3f3",
           "#FF6692",
           "#B6E880",
           "#FF97FF",
           "#FECB52"
          ],
          "font": {
           "color": "#2a3f5f"
          },
          "geo": {
           "bgcolor": "white",
           "lakecolor": "white",
           "landcolor": "#E5ECF6",
           "showlakes": true,
           "showland": true,
           "subunitcolor": "white"
          },
          "hoverlabel": {
           "align": "left"
          },
          "hovermode": "closest",
          "mapbox": {
           "style": "light"
          },
          "paper_bgcolor": "white",
          "plot_bgcolor": "#E5ECF6",
          "polar": {
           "angularaxis": {
            "gridcolor": "white",
            "linecolor": "white",
            "ticks": ""
           },
           "bgcolor": "#E5ECF6",
           "radialaxis": {
            "gridcolor": "white",
            "linecolor": "white",
            "ticks": ""
           }
          },
          "scene": {
           "xaxis": {
            "backgroundcolor": "#E5ECF6",
            "gridcolor": "white",
            "gridwidth": 2,
            "linecolor": "white",
            "showbackground": true,
            "ticks": "",
            "zerolinecolor": "white"
           },
           "yaxis": {
            "backgroundcolor": "#E5ECF6",
            "gridcolor": "white",
            "gridwidth": 2,
            "linecolor": "white",
            "showbackground": true,
            "ticks": "",
            "zerolinecolor": "white"
           },
           "zaxis": {
            "backgroundcolor": "#E5ECF6",
            "gridcolor": "white",
            "gridwidth": 2,
            "linecolor": "white",
            "showbackground": true,
            "ticks": "",
            "zerolinecolor": "white"
           }
          },
          "shapedefaults": {
           "line": {
            "color": "#2a3f5f"
           }
          },
          "ternary": {
           "aaxis": {
            "gridcolor": "white",
            "linecolor": "white",
            "ticks": ""
           },
           "baxis": {
            "gridcolor": "white",
            "linecolor": "white",
            "ticks": ""
           },
           "bgcolor": "#E5ECF6",
           "caxis": {
            "gridcolor": "white",
            "linecolor": "white",
            "ticks": ""
           }
          },
          "title": {
           "x": 0.05
          },
          "xaxis": {
           "automargin": true,
           "gridcolor": "white",
           "linecolor": "white",
           "ticks": "",
           "title": {
            "standoff": 15
           },
           "zerolinecolor": "white",
           "zerolinewidth": 2
          },
          "yaxis": {
           "automargin": true,
           "gridcolor": "white",
           "linecolor": "white",
           "ticks": "",
           "title": {
            "standoff": 15
           },
           "zerolinecolor": "white",
           "zerolinewidth": 2
          }
         }
        },
        "title": {
         "text": "rte · roberta-large · Accuracy vs Epoch (all best runs)"
        },
        "xaxis": {
         "title": {
          "text": "epoch"
         }
        },
        "yaxis": {
         "title": {
          "text": "accuracy"
         }
        }
       }
      }
     },
     "metadata": {},
     "output_type": "display_data"
    }
   ],
   "source": [
    "# === Config ===\n",
    "ROOT = \"./glue_results_final\"\n",
    "TASK = \"rte\"\n",
    "MODEL = \"roberta-large\"  # or \"roberta-large\"\n",
    "\n",
    "# === Code ===\n",
    "from pathlib import Path\n",
    "import re\n",
    "import pandas as pd\n",
    "import plotly.graph_objects as go\n",
    "from plotly.colors import sample_colorscale\n",
    "\n",
    "METHODS = (\"full_finetuning\", \"lora\", \"rslora\")\n",
    "\n",
    "def parse_rank(name: str):\n",
    "    m = re.search(r\"_r(\\d+)_\", name)\n",
    "    return int(m.group(1)) if m else None\n",
    "\n",
    "def read_eval(csv_path: Path) -> pd.DataFrame | None:\n",
    "    try:\n",
    "        df = pd.read_csv(csv_path)\n",
    "    except Exception:\n",
    "        return None\n",
    "    if \"eval_accuracy\" in df.columns and \"accuracy\" not in df.columns:\n",
    "        df = df.rename(columns={\"eval_accuracy\": \"accuracy\"})\n",
    "    if \"epoch\" not in df.columns:\n",
    "        df = df.reset_index().rename(columns={\"index\":\"epoch\"})\n",
    "        df[\"epoch\"] = df[\"epoch\"] + 1\n",
    "    df = df[df[\"epoch\"].astype(float).between(1,5)]\n",
    "    return df.sort_values(\"epoch\")\n",
    "\n",
    "def load_best_runs(root: str, task: str, model: str):\n",
    "    base = Path(root) / task / model\n",
    "    runs = []\n",
    "    for method in METHODS:\n",
    "        mdir = base / method\n",
    "        if not mdir.exists():\n",
    "            continue\n",
    "        for run in sorted([p for p in mdir.iterdir() if p.is_dir() and p.name.endswith(\"_best_accuracy\")]):\n",
    "            df = read_eval(run / \"eval_per_epoch.csv\")\n",
    "            if df is None or \"accuracy\" not in df.columns:\n",
    "                continue\n",
    "            runs.append({\n",
    "                \"method\": method,\n",
    "                \"rank\": parse_rank(run.name) if method != \"full_finetuning\" else None,\n",
    "                \"name\": run.name,\n",
    "                \"df\": df\n",
    "            })\n",
    "    return runs\n",
    "\n",
    "def make_rank_colors(ranks_sorted, colorscale_name):\n",
    "    \"\"\"\n",
    "    Map each rank -> a distinct shade sampled from a colorscale.\n",
    "    We sample from 0.15..0.95 to avoid too-light/too-dark extremes.\n",
    "    \"\"\"\n",
    "    if not ranks_sorted:\n",
    "        return {}\n",
    "    n = len(ranks_sorted)\n",
    "    colors = {}\n",
    "    for i, r in enumerate(ranks_sorted):\n",
    "        t = 0.15 + (0.80 * (i / (n - 1 if n > 1 else 1)))\n",
    "        colors[r] = sample_colorscale(colorscale_name, [t])[0]  # returns a hex string\n",
    "    return colors\n",
    "\n",
    "# Load data\n",
    "runs = load_best_runs(ROOT, TASK, MODEL)\n",
    "if not runs:\n",
    "    raise SystemExit(f\"No *_best_accuracy runs found under {ROOT}/{TASK}/{MODEL}\")\n",
    "\n",
    "# Rank set for color mapping\n",
    "all_ranks = sorted({r[\"rank\"] for r in runs if r[\"rank\"] is not None})\n",
    "\n",
    "# Color maps\n",
    "FULL_COLOR = \"black\"\n",
    "lora_colors   = make_rank_colors(all_ranks, \"Reds\")\n",
    "rslora_colors = make_rank_colors(all_ranks, \"Greens\")\n",
    "\n",
    "# Optional: small linewidth ramp with rank (helps distinguish similar shades)\n",
    "def line_width_for_rank(rank, ranks_sorted):\n",
    "    if not ranks_sorted or rank is None:\n",
    "        return 2\n",
    "    idx = ranks_sorted.index(rank)\n",
    "    base, bonus = 2.0, 1.0  # base width + up to +1\n",
    "    return base + bonus * (idx / (len(ranks_sorted) - 1 if len(ranks_sorted) > 1 else 1))\n",
    "\n",
    "fig = go.Figure()\n",
    "\n",
    "# Full FT (usually single run)\n",
    "for r in [x for x in runs if x[\"method\"] == \"full_finetuning\"]:\n",
    "    fig.add_trace(go.Scatter(\n",
    "        x=r[\"df\"][\"epoch\"], y=r[\"df\"][\"accuracy\"],\n",
    "        mode=\"lines+markers\",\n",
    "        name=\"full_finetuning\",\n",
    "        line=dict(color=FULL_COLOR, dash=\"solid\", width=2.5),\n",
    "        hovertext=[r[\"name\"]]*len(r[\"df\"])\n",
    "    ))\n",
    "\n",
    "# LoRA (each rank gets its own red shade)\n",
    "for r in sorted([x for x in runs if x[\"method\"] == \"lora\"], key=lambda z: z[\"rank\"] or -1):\n",
    "    rk = r[\"rank\"]\n",
    "    fig.add_trace(go.Scatter(\n",
    "        x=r[\"df\"][\"epoch\"], y=r[\"df\"][\"accuracy\"],\n",
    "        mode=\"lines+markers\",\n",
    "        name=f\"lora_r{rk}\",\n",
    "        line=dict(color=lora_colors.get(rk, \"red\"), dash=\"solid\",\n",
    "                  width=line_width_for_rank(rk, all_ranks)),\n",
    "        hovertext=[r[\"name\"]]*len(r[\"df\"])\n",
    "    ))\n",
    "\n",
    "# RSLoRA (each rank gets its own green shade)\n",
    "for r in sorted([x for x in runs if x[\"method\"] == \"rslora\"], key=lambda z: z[\"rank\"] or -1):\n",
    "    rk = r[\"rank\"]\n",
    "    fig.add_trace(go.Scatter(\n",
    "        x=r[\"df\"][\"epoch\"], y=r[\"df\"][\"accuracy\"],\n",
    "        mode=\"lines+markers\",\n",
    "        name=f\"rslora_r{rk}\",\n",
    "        line=dict(color=rslora_colors.get(rk, \"green\"), dash=\"solid\",\n",
    "                  width=line_width_for_rank(rk, all_ranks)),\n",
    "        hovertext=[r[\"name\"]]*len(r[\"df\"])\n",
    "    ))\n",
    "\n",
    "fig.update_layout(\n",
    "    title=f\"{TASK} · {MODEL} · Accuracy vs Epoch (all best runs)\",\n",
    "    xaxis_title=\"epoch\",\n",
    "    yaxis_title=\"accuracy\",\n",
    "    legend_title_text=\"method / rank\",\n",
    "    hovermode=\"x unified\"\n",
    ")\n",
    "\n",
    "fig\n"
   ]
  },
  {
   "cell_type": "code",
   "execution_count": 13,
   "id": "69d10833",
   "metadata": {},
   "outputs": [
    {
     "data": {
      "application/vnd.plotly.v1+json": {
       "config": {
        "plotlyServerURL": "https://plot.ly"
       },
       "data": [
        {
         "hovertext": [
          "full_finetuning_lr1e-05_best_accuracy",
          "full_finetuning_lr1e-05_best_accuracy",
          "full_finetuning_lr1e-05_best_accuracy",
          "full_finetuning_lr1e-05_best_accuracy",
          "full_finetuning_lr1e-05_best_accuracy"
         ],
         "line": {
          "color": "black",
          "dash": "solid",
          "width": 2.5
         },
         "marker": {
          "color": "black",
          "size": 8,
          "symbol": "circle"
         },
         "mode": "lines+markers",
         "name": "full_finetuning",
         "type": "scatter",
         "x": {
          "bdata": "AAAAAAAA8D8AAAAAAAAAQAAAAAAAAAhAAAAAAAAAEEAAAAAAAAAUQA==",
          "dtype": "f8"
         },
         "y": {
          "bdata": "hXM3tIl/3j8hbB/mq67nPxmRl+wAw+k/FYWwfZiv6j8XCyS1TDnqPw==",
          "dtype": "f8"
         }
        },
        {
         "hovertext": [
          "lora_r1_alpha1_lr0.001_best_accuracy",
          "lora_r1_alpha1_lr0.001_best_accuracy",
          "lora_r1_alpha1_lr0.001_best_accuracy",
          "lora_r1_alpha1_lr0.001_best_accuracy",
          "lora_r1_alpha1_lr0.001_best_accuracy"
         ],
         "line": {
          "color": "rgb(254, 217, 200)",
          "width": 2
         },
         "marker": {
          "color": "rgb(254, 217, 200)",
          "size": 8,
          "symbol": "circle"
         },
         "mode": "lines+markers",
         "name": "lora_r1",
         "type": "scatter",
         "x": {
          "bdata": "AAAAAAAA8D8AAAAAAAAAQAAAAAAAAAhAAAAAAAAAEEAAAAAAAAAUQA==",
          "dtype": "f8"
         },
         "y": {
          "bdata": "hzbxz2NE3j8ktUw5Ov3mPxjO3dAm/uk/lmaNiwWS6j+WZo2LBZLqPw==",
          "dtype": "f8"
         }
        },
        {
         "hovertext": [
          "lora_r4_alpha4_lr0.001_best_accuracy",
          "lora_r4_alpha4_lr0.001_best_accuracy",
          "lora_r4_alpha4_lr0.001_best_accuracy",
          "lora_r4_alpha4_lr0.001_best_accuracy",
          "lora_r4_alpha4_lr0.001_best_accuracy"
         ],
         "line": {
          "color": "rgb(252, 190, 165)",
          "width": 2.111111111111111
         },
         "marker": {
          "color": "rgb(252, 190, 165)",
          "size": 8,
          "symbol": "square"
         },
         "mode": "lines+markers",
         "name": "lora_r4",
         "type": "scatter",
         "x": {
          "bdata": "AAAAAAAA8D8AAAAAAAAAQAAAAAAAAAhAAAAAAAAAEEAAAAAAAAAUQA==",
          "dtype": "f8"
         },
         "y": {
          "bdata": "vWQHGM7d4D+Yr7rek+DpPxZIaplydOo/klqmHJ1+6z8SPIMqCmHrPw==",
          "dtype": "f8"
         }
        },
        {
         "hovertext": [
          "lora_r8_alpha8_lr0.00031622776601683794_best_accuracy",
          "lora_r8_alpha8_lr0.00031622776601683794_best_accuracy",
          "lora_r8_alpha8_lr0.00031622776601683794_best_accuracy",
          "lora_r8_alpha8_lr0.00031622776601683794_best_accuracy",
          "lora_r8_alpha8_lr0.00031622776601683794_best_accuracy"
         ],
         "line": {
          "color": "rgb(252, 161, 132)",
          "width": 2.2222222222222223
         },
         "marker": {
          "color": "rgb(252, 161, 132)",
          "size": 8,
          "symbol": "diamond"
         },
         "mode": "lines+markers",
         "name": "lora_r8",
         "type": "scatter",
         "x": {
          "bdata": "AAAAAAAA8D8AAAAAAAAAQAAAAAAAAAhAAAAAAAAAEEAAAAAAAAAUQA==",
          "dtype": "f8"
         },
         "y": {
          "bdata": "gWdQRSFs3z8gqWXK0ennPxP/PEbkJes/FYWwfZiv6j8XCyS1TDnqPw==",
          "dtype": "f8"
         }
        },
        {
         "hovertext": [
          "lora_r16_alpha16_lr0.00031622776601683794_best_accuracy",
          "lora_r16_alpha16_lr0.00031622776601683794_best_accuracy",
          "lora_r16_alpha16_lr0.00031622776601683794_best_accuracy",
          "lora_r16_alpha16_lr0.00031622776601683794_best_accuracy",
          "lora_r16_alpha16_lr0.00031622776601683794_best_accuracy"
         ],
         "line": {
          "color": "rgb(252, 133, 101)",
          "width": 2.3333333333333335
         },
         "marker": {
          "color": "rgb(252, 133, 101)",
          "size": 8,
          "symbol": "cross"
         },
         "mode": "lines+markers",
         "name": "lora_r16",
         "type": "scatter",
         "x": {
          "bdata": "AAAAAAAA8D8AAAAAAAAAQAAAAAAAAAhAAAAAAAAAEEAAAAAAAAAUQA==",
          "dtype": "f8"
         },
         "y": {
          "bdata": "PIMqCmH74D+dfltp1rjoP5TgGVRRCOs/klqmHJ1+6z8T/zxG5CXrPw==",
          "dtype": "f8"
         }
        },
        {
         "hovertext": [
          "lora_r32_alpha32_lr0.0001_best_accuracy",
          "lora_r32_alpha32_lr0.0001_best_accuracy",
          "lora_r32_alpha32_lr0.0001_best_accuracy",
          "lora_r32_alpha32_lr0.0001_best_accuracy",
          "lora_r32_alpha32_lr0.0001_best_accuracy"
         ],
         "line": {
          "color": "rgb(250, 104, 73)",
          "width": 2.4444444444444446
         },
         "marker": {
          "color": "rgb(250, 104, 73)",
          "size": 8,
          "symbol": "x"
         },
         "mode": "lines+markers",
         "name": "lora_r32",
         "type": "scatter",
         "x": {
          "bdata": "AAAAAAAA8D8AAAAAAAAAQAAAAAAAAAhAAAAAAAAAEEAAAAAAAAAUQA==",
          "dtype": "f8"
         },
         "y": {
          "bdata": "hzbxz2NE3j+9ZAcYzt3gP55BFYWwfeg/FwsktUw56j8XCyS1TDnqPw==",
          "dtype": "f8"
         }
        },
        {
         "hovertext": [
          "lora_r64_alpha64_lr0.00031622776601683794_best_accuracy",
          "lora_r64_alpha64_lr0.00031622776601683794_best_accuracy",
          "lora_r64_alpha64_lr0.00031622776601683794_best_accuracy",
          "lora_r64_alpha64_lr0.00031622776601683794_best_accuracy",
          "lora_r64_alpha64_lr0.00031622776601683794_best_accuracy"
         ],
         "line": {
          "color": "rgb(242, 70, 51)",
          "width": 2.5555555555555554
         },
         "marker": {
          "color": "rgb(242, 70, 51)",
          "size": 8,
          "symbol": "triangle-up"
         },
         "mode": "lines+markers",
         "name": "lora_r64",
         "type": "scatter",
         "x": {
          "bdata": "AAAAAAAA8D8AAAAAAAAAQAAAAAAAAAhAAAAAAAAAEEAAAAAAAAAUQA==",
          "dtype": "f8"
         },
         "y": {
          "bdata": "Ov220qxx4T+eQRWFsH3oPxZIaplydOo/lOAZVFEI6z+THWA4d0PrPw==",
          "dtype": "f8"
         }
        },
        {
         "hovertext": [
          "lora_r128_alpha128_lr5.623413251903491e-05_best_accuracy",
          "lora_r128_alpha128_lr5.623413251903491e-05_best_accuracy",
          "lora_r128_alpha128_lr5.623413251903491e-05_best_accuracy",
          "lora_r128_alpha128_lr5.623413251903491e-05_best_accuracy",
          "lora_r128_alpha128_lr5.623413251903491e-05_best_accuracy"
         ],
         "line": {
          "color": "rgb(222, 43, 37)",
          "width": 2.6666666666666665
         },
         "marker": {
          "color": "rgb(222, 43, 37)",
          "size": 8,
          "symbol": "triangle-down"
         },
         "mode": "lines+markers",
         "name": "lora_r128",
         "type": "scatter",
         "x": {
          "bdata": "AAAAAAAA8D8AAAAAAAAAQAAAAAAAAAhAAAAAAAAAEEAAAAAAAAAUQA==",
          "dtype": "f8"
         },
         "y": {
          "bdata": "hzbxz2NE3j8c2sQ/jxHpPxZIaplydOo/FkhqmXJ06j8UwvZhvurqPw==",
          "dtype": "f8"
         }
        },
        {
         "hovertext": [
          "lora_r256_alpha256_lr3.1622776601683795e-05_best_accuracy",
          "lora_r256_alpha256_lr3.1622776601683795e-05_best_accuracy",
          "lora_r256_alpha256_lr3.1622776601683795e-05_best_accuracy",
          "lora_r256_alpha256_lr3.1622776601683795e-05_best_accuracy",
          "lora_r256_alpha256_lr3.1622776601683795e-05_best_accuracy"
         ],
         "line": {
          "color": "rgb(196, 22, 28)",
          "width": 2.7777777777777777
         },
         "marker": {
          "color": "rgb(196, 22, 28)",
          "size": 8,
          "symbol": "triangle-left"
         },
         "mode": "lines+markers",
         "name": "lora_r256",
         "type": "scatter",
         "x": {
          "bdata": "AAAAAAAA8D8AAAAAAAAAQAAAAAAAAAhAAAAAAAAAEEAAAAAAAAAUQA==",
          "dtype": "f8"
         },
         "y": {
          "bdata": "hzbxz2NE3j8ZkZfsAMPpP5ZmjYsFkuo/laPTbyvN6j+U4BlUUQjrPw==",
          "dtype": "f8"
         }
        },
        {
         "hovertext": [
          "lora_r512_alpha512_lr1.778279410038923e-05_best_accuracy",
          "lora_r512_alpha512_lr1.778279410038923e-05_best_accuracy",
          "lora_r512_alpha512_lr1.778279410038923e-05_best_accuracy",
          "lora_r512_alpha512_lr1.778279410038923e-05_best_accuracy",
          "lora_r512_alpha512_lr1.778279410038923e-05_best_accuracy"
         ],
         "line": {
          "color": "rgb(169, 16, 22)",
          "width": 2.888888888888889
         },
         "marker": {
          "color": "rgb(169, 16, 22)",
          "size": 8,
          "symbol": "triangle-right"
         },
         "mode": "lines+markers",
         "name": "lora_r512",
         "type": "scatter",
         "x": {
          "bdata": "AAAAAAAA8D8AAAAAAAAAQAAAAAAAAAhAAAAAAAAAEEAAAAAAAAAUQA==",
          "dtype": "f8"
         },
         "y": {
          "bdata": "hzbxz2NE3j8c2sQ/jxHpPxcLJLVMOeo/lmaNiwWS6j8VhbB9mK/qPw==",
          "dtype": "f8"
         }
        },
        {
         "hovertext": [
          "lora_r1024_alpha1024_lr1.77827941e-05_best_accuracy",
          "lora_r1024_alpha1024_lr1.77827941e-05_best_accuracy",
          "lora_r1024_alpha1024_lr1.77827941e-05_best_accuracy",
          "lora_r1024_alpha1024_lr1.77827941e-05_best_accuracy",
          "lora_r1024_alpha1024_lr1.77827941e-05_best_accuracy"
         ],
         "line": {
          "color": "rgb(128, 6, 16)",
          "width": 3
         },
         "marker": {
          "color": "rgb(128, 6, 16)",
          "size": 8,
          "symbol": "star"
         },
         "mode": "lines+markers",
         "name": "lora_r1024",
         "type": "scatter",
         "x": {
          "bdata": "AAAAAAAA8D8AAAAAAAAAQAAAAAAAAAhAAAAAAAAAEEAAAAAAAAAUQA==",
          "dtype": "f8"
         },
         "y": {
          "bdata": "hXM3tIl/3j8z5ej020rjP61xsUBSy+Q/LVOOTr+t5D8leAZVFMLmPw==",
          "dtype": "f8"
         }
        },
        {
         "hovertext": [
          "rslora_r1_alpha1_lr0.001_best_accuracy",
          "rslora_r1_alpha1_lr0.001_best_accuracy",
          "rslora_r1_alpha1_lr0.001_best_accuracy",
          "rslora_r1_alpha1_lr0.001_best_accuracy",
          "rslora_r1_alpha1_lr0.001_best_accuracy"
         ],
         "line": {
          "color": "rgb(223, 243, 218)",
          "width": 2
         },
         "marker": {
          "color": "rgb(223, 243, 218)",
          "size": 8,
          "symbol": "circle"
         },
         "mode": "lines+markers",
         "name": "rslora_r1",
         "type": "scatter",
         "x": {
          "bdata": "AAAAAAAA8D8AAAAAAAAAQAAAAAAAAAhAAAAAAAAAEEAAAAAAAAAUQA==",
          "dtype": "f8"
         },
         "y": {
          "bdata": "hzbxz2NE3j8ktUw5Ov3mPxjO3dAm/uk/lmaNiwWS6j+WZo2LBZLqPw==",
          "dtype": "f8"
         }
        },
        {
         "hovertext": [
          "rslora_r4_alpha4_lr0.001_best_accuracy",
          "rslora_r4_alpha4_lr0.001_best_accuracy",
          "rslora_r4_alpha4_lr0.001_best_accuracy",
          "rslora_r4_alpha4_lr0.001_best_accuracy",
          "rslora_r4_alpha4_lr0.001_best_accuracy"
         ],
         "line": {
          "color": "rgb(202, 234, 195)",
          "width": 2.111111111111111
         },
         "marker": {
          "color": "rgb(202, 234, 195)",
          "size": 8,
          "symbol": "square"
         },
         "mode": "lines+markers",
         "name": "rslora_r4",
         "type": "scatter",
         "x": {
          "bdata": "AAAAAAAA8D8AAAAAAAAAQAAAAAAAAAhAAAAAAAAAEEAAAAAAAAAUQA==",
          "dtype": "f8"
         },
         "y": {
          "bdata": "vWQHGM7d4D+eQRWFsH3oP5TgGVRRCOs/lOAZVFEI6z8UwvZhvurqPw==",
          "dtype": "f8"
         }
        },
        {
         "hovertext": [
          "rslora_r8_alpha8_lr0.00031622776601683794_best_accuracy",
          "rslora_r8_alpha8_lr0.00031622776601683794_best_accuracy",
          "rslora_r8_alpha8_lr0.00031622776601683794_best_accuracy",
          "rslora_r8_alpha8_lr0.00031622776601683794_best_accuracy",
          "rslora_r8_alpha8_lr0.00031622776601683794_best_accuracy"
         ],
         "line": {
          "color": "rgb(175, 223, 169)",
          "width": 2.2222222222222223
         },
         "marker": {
          "color": "rgb(175, 223, 169)",
          "size": 8,
          "symbol": "diamond"
         },
         "mode": "lines+markers",
         "name": "rslora_r8",
         "type": "scatter",
         "x": {
          "bdata": "AAAAAAAA8D8AAAAAAAAAQAAAAAAAAAhAAAAAAAAAEEAAAAAAAAAUQA==",
          "dtype": "f8"
         },
         "y": {
          "bdata": "vWQHGM7d4D+XKUen31bqPxjO3dAm/uk/lylHp99W6j8VhbB9mK/qPw==",
          "dtype": "f8"
         }
        },
        {
         "hovertext": [
          "rslora_r16_alpha16_lr0.0001_best_accuracy",
          "rslora_r16_alpha16_lr0.0001_best_accuracy",
          "rslora_r16_alpha16_lr0.0001_best_accuracy",
          "rslora_r16_alpha16_lr0.0001_best_accuracy",
          "rslora_r16_alpha16_lr0.0001_best_accuracy"
         ],
         "line": {
          "color": "rgb(146, 210, 143)",
          "width": 2.3333333333333335
         },
         "marker": {
          "color": "rgb(146, 210, 143)",
          "size": 8,
          "symbol": "cross"
         },
         "mode": "lines+markers",
         "name": "rslora_r16",
         "type": "scatter",
         "x": {
          "bdata": "AAAAAAAA8D8AAAAAAAAAQAAAAAAAAAhAAAAAAAAAEEAAAAAAAAAUQA==",
          "dtype": "f8"
         },
         "y": {
          "bdata": "hzbxz2NE3j8phO3DfNXlPxpUUQjbh+k/EjyDKgph6z+Vo9NvK83qPw==",
          "dtype": "f8"
         }
        },
        {
         "hovertext": [
          "rslora_r32_alpha32_lr0.0001_best_accuracy",
          "rslora_r32_alpha32_lr0.0001_best_accuracy",
          "rslora_r32_alpha32_lr0.0001_best_accuracy",
          "rslora_r32_alpha32_lr0.0001_best_accuracy",
          "rslora_r32_alpha32_lr0.0001_best_accuracy"
         ],
         "line": {
          "color": "rgb(114, 195, 117)",
          "width": 2.4444444444444446
         },
         "marker": {
          "color": "rgb(114, 195, 117)",
          "size": 8,
          "symbol": "x"
         },
         "mode": "lines+markers",
         "name": "rslora_r32",
         "type": "scatter",
         "x": {
          "bdata": "AAAAAAAA8D8AAAAAAAAAQAAAAAAAAAhAAAAAAAAAEEAAAAAAAAAUQA==",
          "dtype": "f8"
         },
         "y": {
          "bdata": "L9kBhnM35D8WSGqZcnTqP5TgGVRRCOs/lOAZVFEI6z+Vo9NvK83qPw==",
          "dtype": "f8"
         }
        },
        {
         "hovertext": [
          "rslora_r64_alpha64_lr1.77827941e-05_best_accuracy",
          "rslora_r64_alpha64_lr1.77827941e-05_best_accuracy",
          "rslora_r64_alpha64_lr1.77827941e-05_best_accuracy",
          "rslora_r64_alpha64_lr1.77827941e-05_best_accuracy",
          "rslora_r64_alpha64_lr1.77827941e-05_best_accuracy"
         ],
         "line": {
          "color": "rgb(77, 177, 99)",
          "width": 2.5555555555555554
         },
         "marker": {
          "color": "rgb(77, 177, 99)",
          "size": 8,
          "symbol": "triangle-up"
         },
         "mode": "lines+markers",
         "name": "rslora_r64",
         "type": "scatter",
         "x": {
          "bdata": "AAAAAAAA8D8AAAAAAAAAQAAAAAAAAAhAAAAAAAAAEEAAAAAAAAAUQA==",
          "dtype": "f8"
         },
         "y": {
          "bdata": "hzbxz2NE3j+dfltp1rjoP5ivut6T4Ok/lOAZVFEI6z8T/zxG5CXrPw==",
          "dtype": "f8"
         }
        },
        {
         "hovertext": [
          "rslora_r128_alpha128_lr1.77827941e-05_best_accuracy",
          "rslora_r128_alpha128_lr1.77827941e-05_best_accuracy",
          "rslora_r128_alpha128_lr1.77827941e-05_best_accuracy",
          "rslora_r128_alpha128_lr1.77827941e-05_best_accuracy",
          "rslora_r128_alpha128_lr1.77827941e-05_best_accuracy"
         ],
         "line": {
          "color": "rgb(51, 156, 82)",
          "width": 2.6666666666666665
         },
         "marker": {
          "color": "rgb(51, 156, 82)",
          "size": 8,
          "symbol": "triangle-down"
         },
         "mode": "lines+markers",
         "name": "rslora_r128",
         "type": "scatter",
         "x": {
          "bdata": "AAAAAAAA8D8AAAAAAAAAQAAAAAAAAAhAAAAAAAAAEEAAAAAAAAAUQA==",
          "dtype": "f8"
         },
         "y": {
          "bdata": "vWQHGM7d4D8mO8Bw7obmP58Ez6CKQug/EjyDKgph6z8SPIMqCmHrPw==",
          "dtype": "f8"
         }
        },
        {
         "hovertext": [
          "rslora_r256_alpha256_lr0.00031622776601683794_best_accuracy",
          "rslora_r256_alpha256_lr0.00031622776601683794_best_accuracy",
          "rslora_r256_alpha256_lr0.00031622776601683794_best_accuracy",
          "rslora_r256_alpha256_lr0.00031622776601683794_best_accuracy",
          "rslora_r256_alpha256_lr0.00031622776601683794_best_accuracy"
         ],
         "line": {
          "color": "rgb(29, 134, 65)",
          "width": 2.7777777777777777
         },
         "marker": {
          "color": "rgb(29, 134, 65)",
          "size": 8,
          "symbol": "triangle-left"
         },
         "mode": "lines+markers",
         "name": "rslora_r256",
         "type": "scatter",
         "x": {
          "bdata": "AAAAAAAA8D8AAAAAAAAAQAAAAAAAAAhAAAAAAAAAEEAAAAAAAAAUQA==",
          "dtype": "f8"
         },
         "y": {
          "bdata": "hzbxz2NE3j+9ZAcYzt3gP71kBxjO3eA/hzbxz2NE3j+9ZAcYzt3gPw==",
          "dtype": "f8"
         }
        },
        {
         "hovertext": [
          "rslora_r512_alpha512_lr0.0001_best_accuracy",
          "rslora_r512_alpha512_lr0.0001_best_accuracy",
          "rslora_r512_alpha512_lr0.0001_best_accuracy",
          "rslora_r512_alpha512_lr0.0001_best_accuracy",
          "rslora_r512_alpha512_lr0.0001_best_accuracy"
         ],
         "line": {
          "color": "rgb(4, 112, 47)",
          "width": 2.888888888888889
         },
         "marker": {
          "color": "rgb(4, 112, 47)",
          "size": 8,
          "symbol": "triangle-right"
         },
         "mode": "lines+markers",
         "name": "rslora_r512",
         "type": "scatter",
         "x": {
          "bdata": "AAAAAAAA8D8AAAAAAAAAQAAAAAAAAAhAAAAAAAAAEEAAAAAAAAAUQA==",
          "dtype": "f8"
         },
         "y": {
          "bdata": "hzbxz2NE3j+HNvHPY0TeP71kBxjO3eA/hzbxz2NE3j+9ZAcYzt3gPw==",
          "dtype": "f8"
         }
        },
        {
         "hovertext": [
          "rslora_r1024_alpha1024_lr0.0001_best_accuracy",
          "rslora_r1024_alpha1024_lr0.0001_best_accuracy",
          "rslora_r1024_alpha1024_lr0.0001_best_accuracy",
          "rslora_r1024_alpha1024_lr0.0001_best_accuracy",
          "rslora_r1024_alpha1024_lr0.0001_best_accuracy"
         ],
         "line": {
          "color": "rgb(0, 84, 34)",
          "width": 3
         },
         "marker": {
          "color": "rgb(0, 84, 34)",
          "size": 8,
          "symbol": "star"
         },
         "mode": "lines+markers",
         "name": "rslora_r1024",
         "type": "scatter",
         "x": {
          "bdata": "AAAAAAAA8D8AAAAAAAAAQAAAAAAAAAhAAAAAAAAAEEAAAAAAAAAUQA==",
          "dtype": "f8"
         },
         "y": {
          "bdata": "vWQHGM7d4D+HNvHPY0TeP71kBxjO3eA/hzbxz2NE3j+9ZAcYzt3gPw==",
          "dtype": "f8"
         }
        }
       ],
       "layout": {
        "hovermode": "x unified",
        "legend": {
         "title": {
          "text": "method / rank"
         }
        },
        "template": {
         "data": {
          "bar": [
           {
            "error_x": {
             "color": "#2a3f5f"
            },
            "error_y": {
             "color": "#2a3f5f"
            },
            "marker": {
             "line": {
              "color": "#E5ECF6",
              "width": 0.5
             },
             "pattern": {
              "fillmode": "overlay",
              "size": 10,
              "solidity": 0.2
             }
            },
            "type": "bar"
           }
          ],
          "barpolar": [
           {
            "marker": {
             "line": {
              "color": "#E5ECF6",
              "width": 0.5
             },
             "pattern": {
              "fillmode": "overlay",
              "size": 10,
              "solidity": 0.2
             }
            },
            "type": "barpolar"
           }
          ],
          "carpet": [
           {
            "aaxis": {
             "endlinecolor": "#2a3f5f",
             "gridcolor": "white",
             "linecolor": "white",
             "minorgridcolor": "white",
             "startlinecolor": "#2a3f5f"
            },
            "baxis": {
             "endlinecolor": "#2a3f5f",
             "gridcolor": "white",
             "linecolor": "white",
             "minorgridcolor": "white",
             "startlinecolor": "#2a3f5f"
            },
            "type": "carpet"
           }
          ],
          "choropleth": [
           {
            "colorbar": {
             "outlinewidth": 0,
             "ticks": ""
            },
            "type": "choropleth"
           }
          ],
          "contour": [
           {
            "colorbar": {
             "outlinewidth": 0,
             "ticks": ""
            },
            "colorscale": [
             [
              0,
              "#0d0887"
             ],
             [
              0.1111111111111111,
              "#46039f"
             ],
             [
              0.2222222222222222,
              "#7201a8"
             ],
             [
              0.3333333333333333,
              "#9c179e"
             ],
             [
              0.4444444444444444,
              "#bd3786"
             ],
             [
              0.5555555555555556,
              "#d8576b"
             ],
             [
              0.6666666666666666,
              "#ed7953"
             ],
             [
              0.7777777777777778,
              "#fb9f3a"
             ],
             [
              0.8888888888888888,
              "#fdca26"
             ],
             [
              1,
              "#f0f921"
             ]
            ],
            "type": "contour"
           }
          ],
          "contourcarpet": [
           {
            "colorbar": {
             "outlinewidth": 0,
             "ticks": ""
            },
            "type": "contourcarpet"
           }
          ],
          "heatmap": [
           {
            "colorbar": {
             "outlinewidth": 0,
             "ticks": ""
            },
            "colorscale": [
             [
              0,
              "#0d0887"
             ],
             [
              0.1111111111111111,
              "#46039f"
             ],
             [
              0.2222222222222222,
              "#7201a8"
             ],
             [
              0.3333333333333333,
              "#9c179e"
             ],
             [
              0.4444444444444444,
              "#bd3786"
             ],
             [
              0.5555555555555556,
              "#d8576b"
             ],
             [
              0.6666666666666666,
              "#ed7953"
             ],
             [
              0.7777777777777778,
              "#fb9f3a"
             ],
             [
              0.8888888888888888,
              "#fdca26"
             ],
             [
              1,
              "#f0f921"
             ]
            ],
            "type": "heatmap"
           }
          ],
          "histogram": [
           {
            "marker": {
             "pattern": {
              "fillmode": "overlay",
              "size": 10,
              "solidity": 0.2
             }
            },
            "type": "histogram"
           }
          ],
          "histogram2d": [
           {
            "colorbar": {
             "outlinewidth": 0,
             "ticks": ""
            },
            "colorscale": [
             [
              0,
              "#0d0887"
             ],
             [
              0.1111111111111111,
              "#46039f"
             ],
             [
              0.2222222222222222,
              "#7201a8"
             ],
             [
              0.3333333333333333,
              "#9c179e"
             ],
             [
              0.4444444444444444,
              "#bd3786"
             ],
             [
              0.5555555555555556,
              "#d8576b"
             ],
             [
              0.6666666666666666,
              "#ed7953"
             ],
             [
              0.7777777777777778,
              "#fb9f3a"
             ],
             [
              0.8888888888888888,
              "#fdca26"
             ],
             [
              1,
              "#f0f921"
             ]
            ],
            "type": "histogram2d"
           }
          ],
          "histogram2dcontour": [
           {
            "colorbar": {
             "outlinewidth": 0,
             "ticks": ""
            },
            "colorscale": [
             [
              0,
              "#0d0887"
             ],
             [
              0.1111111111111111,
              "#46039f"
             ],
             [
              0.2222222222222222,
              "#7201a8"
             ],
             [
              0.3333333333333333,
              "#9c179e"
             ],
             [
              0.4444444444444444,
              "#bd3786"
             ],
             [
              0.5555555555555556,
              "#d8576b"
             ],
             [
              0.6666666666666666,
              "#ed7953"
             ],
             [
              0.7777777777777778,
              "#fb9f3a"
             ],
             [
              0.8888888888888888,
              "#fdca26"
             ],
             [
              1,
              "#f0f921"
             ]
            ],
            "type": "histogram2dcontour"
           }
          ],
          "mesh3d": [
           {
            "colorbar": {
             "outlinewidth": 0,
             "ticks": ""
            },
            "type": "mesh3d"
           }
          ],
          "parcoords": [
           {
            "line": {
             "colorbar": {
              "outlinewidth": 0,
              "ticks": ""
             }
            },
            "type": "parcoords"
           }
          ],
          "pie": [
           {
            "automargin": true,
            "type": "pie"
           }
          ],
          "scatter": [
           {
            "fillpattern": {
             "fillmode": "overlay",
             "size": 10,
             "solidity": 0.2
            },
            "type": "scatter"
           }
          ],
          "scatter3d": [
           {
            "line": {
             "colorbar": {
              "outlinewidth": 0,
              "ticks": ""
             }
            },
            "marker": {
             "colorbar": {
              "outlinewidth": 0,
              "ticks": ""
             }
            },
            "type": "scatter3d"
           }
          ],
          "scattercarpet": [
           {
            "marker": {
             "colorbar": {
              "outlinewidth": 0,
              "ticks": ""
             }
            },
            "type": "scattercarpet"
           }
          ],
          "scattergeo": [
           {
            "marker": {
             "colorbar": {
              "outlinewidth": 0,
              "ticks": ""
             }
            },
            "type": "scattergeo"
           }
          ],
          "scattergl": [
           {
            "marker": {
             "colorbar": {
              "outlinewidth": 0,
              "ticks": ""
             }
            },
            "type": "scattergl"
           }
          ],
          "scattermap": [
           {
            "marker": {
             "colorbar": {
              "outlinewidth": 0,
              "ticks": ""
             }
            },
            "type": "scattermap"
           }
          ],
          "scattermapbox": [
           {
            "marker": {
             "colorbar": {
              "outlinewidth": 0,
              "ticks": ""
             }
            },
            "type": "scattermapbox"
           }
          ],
          "scatterpolar": [
           {
            "marker": {
             "colorbar": {
              "outlinewidth": 0,
              "ticks": ""
             }
            },
            "type": "scatterpolar"
           }
          ],
          "scatterpolargl": [
           {
            "marker": {
             "colorbar": {
              "outlinewidth": 0,
              "ticks": ""
             }
            },
            "type": "scatterpolargl"
           }
          ],
          "scatterternary": [
           {
            "marker": {
             "colorbar": {
              "outlinewidth": 0,
              "ticks": ""
             }
            },
            "type": "scatterternary"
           }
          ],
          "surface": [
           {
            "colorbar": {
             "outlinewidth": 0,
             "ticks": ""
            },
            "colorscale": [
             [
              0,
              "#0d0887"
             ],
             [
              0.1111111111111111,
              "#46039f"
             ],
             [
              0.2222222222222222,
              "#7201a8"
             ],
             [
              0.3333333333333333,
              "#9c179e"
             ],
             [
              0.4444444444444444,
              "#bd3786"
             ],
             [
              0.5555555555555556,
              "#d8576b"
             ],
             [
              0.6666666666666666,
              "#ed7953"
             ],
             [
              0.7777777777777778,
              "#fb9f3a"
             ],
             [
              0.8888888888888888,
              "#fdca26"
             ],
             [
              1,
              "#f0f921"
             ]
            ],
            "type": "surface"
           }
          ],
          "table": [
           {
            "cells": {
             "fill": {
              "color": "#EBF0F8"
             },
             "line": {
              "color": "white"
             }
            },
            "header": {
             "fill": {
              "color": "#C8D4E3"
             },
             "line": {
              "color": "white"
             }
            },
            "type": "table"
           }
          ]
         },
         "layout": {
          "annotationdefaults": {
           "arrowcolor": "#2a3f5f",
           "arrowhead": 0,
           "arrowwidth": 1
          },
          "autotypenumbers": "strict",
          "coloraxis": {
           "colorbar": {
            "outlinewidth": 0,
            "ticks": ""
           }
          },
          "colorscale": {
           "diverging": [
            [
             0,
             "#8e0152"
            ],
            [
             0.1,
             "#c51b7d"
            ],
            [
             0.2,
             "#de77ae"
            ],
            [
             0.3,
             "#f1b6da"
            ],
            [
             0.4,
             "#fde0ef"
            ],
            [
             0.5,
             "#f7f7f7"
            ],
            [
             0.6,
             "#e6f5d0"
            ],
            [
             0.7,
             "#b8e186"
            ],
            [
             0.8,
             "#7fbc41"
            ],
            [
             0.9,
             "#4d9221"
            ],
            [
             1,
             "#276419"
            ]
           ],
           "sequential": [
            [
             0,
             "#0d0887"
            ],
            [
             0.1111111111111111,
             "#46039f"
            ],
            [
             0.2222222222222222,
             "#7201a8"
            ],
            [
             0.3333333333333333,
             "#9c179e"
            ],
            [
             0.4444444444444444,
             "#bd3786"
            ],
            [
             0.5555555555555556,
             "#d8576b"
            ],
            [
             0.6666666666666666,
             "#ed7953"
            ],
            [
             0.7777777777777778,
             "#fb9f3a"
            ],
            [
             0.8888888888888888,
             "#fdca26"
            ],
            [
             1,
             "#f0f921"
            ]
           ],
           "sequentialminus": [
            [
             0,
             "#0d0887"
            ],
            [
             0.1111111111111111,
             "#46039f"
            ],
            [
             0.2222222222222222,
             "#7201a8"
            ],
            [
             0.3333333333333333,
             "#9c179e"
            ],
            [
             0.4444444444444444,
             "#bd3786"
            ],
            [
             0.5555555555555556,
             "#d8576b"
            ],
            [
             0.6666666666666666,
             "#ed7953"
            ],
            [
             0.7777777777777778,
             "#fb9f3a"
            ],
            [
             0.8888888888888888,
             "#fdca26"
            ],
            [
             1,
             "#f0f921"
            ]
           ]
          },
          "colorway": [
           "#636efa",
           "#EF553B",
           "#00cc96",
           "#ab63fa",
           "#FFA15A",
           "#19d3f3",
           "#FF6692",
           "#B6E880",
           "#FF97FF",
           "#FECB52"
          ],
          "font": {
           "color": "#2a3f5f"
          },
          "geo": {
           "bgcolor": "white",
           "lakecolor": "white",
           "landcolor": "#E5ECF6",
           "showlakes": true,
           "showland": true,
           "subunitcolor": "white"
          },
          "hoverlabel": {
           "align": "left"
          },
          "hovermode": "closest",
          "mapbox": {
           "style": "light"
          },
          "paper_bgcolor": "white",
          "plot_bgcolor": "#E5ECF6",
          "polar": {
           "angularaxis": {
            "gridcolor": "white",
            "linecolor": "white",
            "ticks": ""
           },
           "bgcolor": "#E5ECF6",
           "radialaxis": {
            "gridcolor": "white",
            "linecolor": "white",
            "ticks": ""
           }
          },
          "scene": {
           "xaxis": {
            "backgroundcolor": "#E5ECF6",
            "gridcolor": "white",
            "gridwidth": 2,
            "linecolor": "white",
            "showbackground": true,
            "ticks": "",
            "zerolinecolor": "white"
           },
           "yaxis": {
            "backgroundcolor": "#E5ECF6",
            "gridcolor": "white",
            "gridwidth": 2,
            "linecolor": "white",
            "showbackground": true,
            "ticks": "",
            "zerolinecolor": "white"
           },
           "zaxis": {
            "backgroundcolor": "#E5ECF6",
            "gridcolor": "white",
            "gridwidth": 2,
            "linecolor": "white",
            "showbackground": true,
            "ticks": "",
            "zerolinecolor": "white"
           }
          },
          "shapedefaults": {
           "line": {
            "color": "#2a3f5f"
           }
          },
          "ternary": {
           "aaxis": {
            "gridcolor": "white",
            "linecolor": "white",
            "ticks": ""
           },
           "baxis": {
            "gridcolor": "white",
            "linecolor": "white",
            "ticks": ""
           },
           "bgcolor": "#E5ECF6",
           "caxis": {
            "gridcolor": "white",
            "linecolor": "white",
            "ticks": ""
           }
          },
          "title": {
           "x": 0.05
          },
          "xaxis": {
           "automargin": true,
           "gridcolor": "white",
           "linecolor": "white",
           "ticks": "",
           "title": {
            "standoff": 15
           },
           "zerolinecolor": "white",
           "zerolinewidth": 2
          },
          "yaxis": {
           "automargin": true,
           "gridcolor": "white",
           "linecolor": "white",
           "ticks": "",
           "title": {
            "standoff": 15
           },
           "zerolinecolor": "white",
           "zerolinewidth": 2
          }
         }
        },
        "title": {
         "text": "rte · roberta-large · Accuracy vs Epoch (all best runs)"
        },
        "xaxis": {
         "title": {
          "text": "epoch"
         }
        },
        "yaxis": {
         "title": {
          "text": "accuracy"
         }
        }
       }
      }
     },
     "metadata": {},
     "output_type": "display_data"
    }
   ],
   "source": [
    "\n",
    "\n",
    "\n",
    "\n",
    "\n",
    "\n",
    "\n",
    "\n",
    "# Marker symbols to assign per rank (wraps if > len)\n",
    "MARKERS = [\n",
    "    \"circle\",\"square\",\"diamond\",\"cross\",\"x\",\n",
    "    \"triangle-up\",\"triangle-down\",\"triangle-left\",\"triangle-right\",\"star\"\n",
    "]\n",
    "\n",
    "def marker_for_rank(rank, ranks_sorted):\n",
    "    if not ranks_sorted or rank is None:\n",
    "        return \"circle\"\n",
    "    i = ranks_sorted.index(rank)\n",
    "    return MARKERS[i % len(MARKERS)]\n",
    "\n",
    "# === Build Figure ===\n",
    "fig = go.Figure()\n",
    "\n",
    "# Full FT (usually single run)\n",
    "for r in [x for x in runs if x[\"method\"] == \"full_finetuning\"]:\n",
    "    fig.add_trace(go.Scatter(\n",
    "        x=r[\"df\"][\"epoch\"], y=r[\"df\"][\"accuracy\"],\n",
    "        mode=\"lines+markers\",\n",
    "        name=\"full_finetuning\",\n",
    "        line=dict(color=FULL_COLOR, dash=\"solid\", width=2.5),\n",
    "        marker=dict(symbol=\"circle\", size=8, color=FULL_COLOR),\n",
    "        hovertext=[r[\"name\"]]*len(r[\"df\"])\n",
    "    ))\n",
    "\n",
    "# LoRA (each rank gets its own red shade + marker)\n",
    "for r in sorted([x for x in runs if x[\"method\"] == \"lora\"], key=lambda z: z[\"rank\"] or -1):\n",
    "    rk = r[\"rank\"]\n",
    "    fig.add_trace(go.Scatter(\n",
    "        x=r[\"df\"][\"epoch\"], y=r[\"df\"][\"accuracy\"],\n",
    "        mode=\"lines+markers\",\n",
    "        name=f\"lora_r{rk}\",\n",
    "        line=dict(color=lora_colors.get(rk, \"red\"), width=line_width_for_rank(rk, all_ranks)),\n",
    "        marker=dict(symbol=marker_for_rank(rk, all_ranks), size=8,\n",
    "                    color=lora_colors.get(rk, \"red\")),\n",
    "        hovertext=[r[\"name\"]]*len(r[\"df\"])\n",
    "    ))\n",
    "\n",
    "# RSLoRA (each rank gets its own green shade + marker)\n",
    "for r in sorted([x for x in runs if x[\"method\"] == \"rslora\"], key=lambda z: z[\"rank\"] or -1):\n",
    "    rk = r[\"rank\"]\n",
    "    fig.add_trace(go.Scatter(\n",
    "        x=r[\"df\"][\"epoch\"], y=r[\"df\"][\"accuracy\"],\n",
    "        mode=\"lines+markers\",\n",
    "        name=f\"rslora_r{rk}\",\n",
    "        line=dict(color=rslora_colors.get(rk, \"green\"), width=line_width_for_rank(rk, all_ranks)),\n",
    "        marker=dict(symbol=marker_for_rank(rk, all_ranks), size=8,\n",
    "                    color=rslora_colors.get(rk, \"green\")),\n",
    "        hovertext=[r[\"name\"]]*len(r[\"df\"])\n",
    "    ))\n",
    "\n",
    "fig.update_layout(\n",
    "    title=f\"{TASK} · {MODEL} · Accuracy vs Epoch (all best runs)\",\n",
    "    xaxis_title=\"epoch\",\n",
    "    yaxis_title=\"accuracy\",\n",
    "    legend_title_text=\"method / rank\",\n",
    "    hovermode=\"x unified\"\n",
    ")\n",
    "\n",
    "fig\n"
   ]
  },
  {
   "cell_type": "code",
   "execution_count": 55,
   "id": "83cfe6ad",
   "metadata": {},
   "outputs": [
    {
     "data": {
      "text/html": [
       "<div>\n",
       "<style scoped>\n",
       "    .dataframe tbody tr th:only-of-type {\n",
       "        vertical-align: middle;\n",
       "    }\n",
       "\n",
       "    .dataframe tbody tr th {\n",
       "        vertical-align: top;\n",
       "    }\n",
       "\n",
       "    .dataframe thead th {\n",
       "        text-align: right;\n",
       "    }\n",
       "</style>\n",
       "<table border=\"1\" class=\"dataframe\">\n",
       "  <thead>\n",
       "    <tr style=\"text-align: right;\">\n",
       "      <th></th>\n",
       "      <th>method</th>\n",
       "      <th>rank</th>\n",
       "      <th>run_name</th>\n",
       "      <th>accuracy</th>\n",
       "    </tr>\n",
       "  </thead>\n",
       "  <tbody>\n",
       "    <tr>\n",
       "      <th>0</th>\n",
       "      <td>full_finetuning</td>\n",
       "      <td>None</td>\n",
       "      <td>full_finetuning_lr3.1622776601683795e-05_best_...</td>\n",
       "      <td>0.794224</td>\n",
       "    </tr>\n",
       "  </tbody>\n",
       "</table>\n",
       "</div>"
      ],
      "text/plain": [
       "            method  rank                                           run_name  \\\n",
       "0  full_finetuning  None  full_finetuning_lr3.1622776601683795e-05_best_...   \n",
       "\n",
       "   accuracy  \n",
       "0  0.794224  "
      ]
     },
     "execution_count": 55,
     "metadata": {},
     "output_type": "execute_result"
    }
   ],
   "source": [
    "df"
   ]
  },
  {
   "cell_type": "code",
   "execution_count": 56,
   "id": "d2057c2a",
   "metadata": {},
   "outputs": [
    {
     "data": {
      "application/vnd.plotly.v1+json": {
       "config": {
        "plotlyServerURL": "https://plot.ly"
       },
       "data": [
        {
         "hovertemplate": "method=rslora<br>LoRA rank=%{x}<br>accuracy=%{y}<extra></extra>",
         "legendgroup": "rslora",
         "marker": {
          "color": "red",
          "symbol": "circle"
         },
         "mode": "markers",
         "name": "rslora",
         "orientation": "v",
         "showlegend": true,
         "type": "scatter",
         "x": {
          "bdata": "AAAAAAAA8D8AAAAAAAAQQAAAAAAAACBAAAAAAAAAMEAAAAAAAABAQAAAAAAAAFBAAAAAAAAAYEAAAAAAAABwQAAAAAAAAIBAAAAAAAAAiEA=",
          "dtype": "f8"
         },
         "xaxis": "x",
         "y": {
          "bdata": "oMeIvGQH6D8eYDh3Q5voP6GKQtg+zOc/pNNvK80a5z+9ZAcYzt3gP6WWKUen3+Y/JLVMOTr95j+9ZAcYzt3gP71kBxjO3eA/vWQHGM7d4D8=",
          "dtype": "f8"
         },
         "yaxis": "y"
        },
        {
         "hoverinfo": "skip",
         "line": {
          "color": "red",
          "width": 2
         },
         "mode": "lines",
         "name": "rslora (trend)",
         "showlegend": false,
         "type": "scatter",
         "x": {
          "bdata": "AAAAAAAA8D8AAAAAAAAQQAAAAAAAACBAAAAAAAAAMEAAAAAAAABAQAAAAAAAAFBAAAAAAAAAYEAAAAAAAABwQAAAAAAAAIBAAAAAAAAAiEA=",
          "dtype": "f8"
         },
         "y": {
          "bdata": "oMeIvGQH6D8eYDh3Q5voP6GKQtg+zOc/pNNvK80a5z+9ZAcYzt3gP6WWKUen3+Y/JLVMOTr95j+9ZAcYzt3gP71kBxjO3eA/vWQHGM7d4D8=",
          "dtype": "f8"
         }
        },
        {
         "hovertemplate": "method=full_finetuning<br>accuracy=%{y:.3f}<extra></extra>",
         "line": {
          "color": "black",
          "dash": "dot",
          "width": 2
         },
         "mode": "lines",
         "name": "full_finetuning",
         "type": "scatter",
         "x": [
          1,
          1024
         ],
         "y": [
          0.7942238267148014,
          0.7942238267148014
         ]
        }
       ],
       "layout": {
        "legend": {
         "title": {
          "text": "Method"
         },
         "tracegroupgap": 0
        },
        "template": {
         "data": {
          "bar": [
           {
            "error_x": {
             "color": "#2a3f5f"
            },
            "error_y": {
             "color": "#2a3f5f"
            },
            "marker": {
             "line": {
              "color": "#E5ECF6",
              "width": 0.5
             },
             "pattern": {
              "fillmode": "overlay",
              "size": 10,
              "solidity": 0.2
             }
            },
            "type": "bar"
           }
          ],
          "barpolar": [
           {
            "marker": {
             "line": {
              "color": "#E5ECF6",
              "width": 0.5
             },
             "pattern": {
              "fillmode": "overlay",
              "size": 10,
              "solidity": 0.2
             }
            },
            "type": "barpolar"
           }
          ],
          "carpet": [
           {
            "aaxis": {
             "endlinecolor": "#2a3f5f",
             "gridcolor": "white",
             "linecolor": "white",
             "minorgridcolor": "white",
             "startlinecolor": "#2a3f5f"
            },
            "baxis": {
             "endlinecolor": "#2a3f5f",
             "gridcolor": "white",
             "linecolor": "white",
             "minorgridcolor": "white",
             "startlinecolor": "#2a3f5f"
            },
            "type": "carpet"
           }
          ],
          "choropleth": [
           {
            "colorbar": {
             "outlinewidth": 0,
             "ticks": ""
            },
            "type": "choropleth"
           }
          ],
          "contour": [
           {
            "colorbar": {
             "outlinewidth": 0,
             "ticks": ""
            },
            "colorscale": [
             [
              0,
              "#0d0887"
             ],
             [
              0.1111111111111111,
              "#46039f"
             ],
             [
              0.2222222222222222,
              "#7201a8"
             ],
             [
              0.3333333333333333,
              "#9c179e"
             ],
             [
              0.4444444444444444,
              "#bd3786"
             ],
             [
              0.5555555555555556,
              "#d8576b"
             ],
             [
              0.6666666666666666,
              "#ed7953"
             ],
             [
              0.7777777777777778,
              "#fb9f3a"
             ],
             [
              0.8888888888888888,
              "#fdca26"
             ],
             [
              1,
              "#f0f921"
             ]
            ],
            "type": "contour"
           }
          ],
          "contourcarpet": [
           {
            "colorbar": {
             "outlinewidth": 0,
             "ticks": ""
            },
            "type": "contourcarpet"
           }
          ],
          "heatmap": [
           {
            "colorbar": {
             "outlinewidth": 0,
             "ticks": ""
            },
            "colorscale": [
             [
              0,
              "#0d0887"
             ],
             [
              0.1111111111111111,
              "#46039f"
             ],
             [
              0.2222222222222222,
              "#7201a8"
             ],
             [
              0.3333333333333333,
              "#9c179e"
             ],
             [
              0.4444444444444444,
              "#bd3786"
             ],
             [
              0.5555555555555556,
              "#d8576b"
             ],
             [
              0.6666666666666666,
              "#ed7953"
             ],
             [
              0.7777777777777778,
              "#fb9f3a"
             ],
             [
              0.8888888888888888,
              "#fdca26"
             ],
             [
              1,
              "#f0f921"
             ]
            ],
            "type": "heatmap"
           }
          ],
          "histogram": [
           {
            "marker": {
             "pattern": {
              "fillmode": "overlay",
              "size": 10,
              "solidity": 0.2
             }
            },
            "type": "histogram"
           }
          ],
          "histogram2d": [
           {
            "colorbar": {
             "outlinewidth": 0,
             "ticks": ""
            },
            "colorscale": [
             [
              0,
              "#0d0887"
             ],
             [
              0.1111111111111111,
              "#46039f"
             ],
             [
              0.2222222222222222,
              "#7201a8"
             ],
             [
              0.3333333333333333,
              "#9c179e"
             ],
             [
              0.4444444444444444,
              "#bd3786"
             ],
             [
              0.5555555555555556,
              "#d8576b"
             ],
             [
              0.6666666666666666,
              "#ed7953"
             ],
             [
              0.7777777777777778,
              "#fb9f3a"
             ],
             [
              0.8888888888888888,
              "#fdca26"
             ],
             [
              1,
              "#f0f921"
             ]
            ],
            "type": "histogram2d"
           }
          ],
          "histogram2dcontour": [
           {
            "colorbar": {
             "outlinewidth": 0,
             "ticks": ""
            },
            "colorscale": [
             [
              0,
              "#0d0887"
             ],
             [
              0.1111111111111111,
              "#46039f"
             ],
             [
              0.2222222222222222,
              "#7201a8"
             ],
             [
              0.3333333333333333,
              "#9c179e"
             ],
             [
              0.4444444444444444,
              "#bd3786"
             ],
             [
              0.5555555555555556,
              "#d8576b"
             ],
             [
              0.6666666666666666,
              "#ed7953"
             ],
             [
              0.7777777777777778,
              "#fb9f3a"
             ],
             [
              0.8888888888888888,
              "#fdca26"
             ],
             [
              1,
              "#f0f921"
             ]
            ],
            "type": "histogram2dcontour"
           }
          ],
          "mesh3d": [
           {
            "colorbar": {
             "outlinewidth": 0,
             "ticks": ""
            },
            "type": "mesh3d"
           }
          ],
          "parcoords": [
           {
            "line": {
             "colorbar": {
              "outlinewidth": 0,
              "ticks": ""
             }
            },
            "type": "parcoords"
           }
          ],
          "pie": [
           {
            "automargin": true,
            "type": "pie"
           }
          ],
          "scatter": [
           {
            "fillpattern": {
             "fillmode": "overlay",
             "size": 10,
             "solidity": 0.2
            },
            "type": "scatter"
           }
          ],
          "scatter3d": [
           {
            "line": {
             "colorbar": {
              "outlinewidth": 0,
              "ticks": ""
             }
            },
            "marker": {
             "colorbar": {
              "outlinewidth": 0,
              "ticks": ""
             }
            },
            "type": "scatter3d"
           }
          ],
          "scattercarpet": [
           {
            "marker": {
             "colorbar": {
              "outlinewidth": 0,
              "ticks": ""
             }
            },
            "type": "scattercarpet"
           }
          ],
          "scattergeo": [
           {
            "marker": {
             "colorbar": {
              "outlinewidth": 0,
              "ticks": ""
             }
            },
            "type": "scattergeo"
           }
          ],
          "scattergl": [
           {
            "marker": {
             "colorbar": {
              "outlinewidth": 0,
              "ticks": ""
             }
            },
            "type": "scattergl"
           }
          ],
          "scattermap": [
           {
            "marker": {
             "colorbar": {
              "outlinewidth": 0,
              "ticks": ""
             }
            },
            "type": "scattermap"
           }
          ],
          "scattermapbox": [
           {
            "marker": {
             "colorbar": {
              "outlinewidth": 0,
              "ticks": ""
             }
            },
            "type": "scattermapbox"
           }
          ],
          "scatterpolar": [
           {
            "marker": {
             "colorbar": {
              "outlinewidth": 0,
              "ticks": ""
             }
            },
            "type": "scatterpolar"
           }
          ],
          "scatterpolargl": [
           {
            "marker": {
             "colorbar": {
              "outlinewidth": 0,
              "ticks": ""
             }
            },
            "type": "scatterpolargl"
           }
          ],
          "scatterternary": [
           {
            "marker": {
             "colorbar": {
              "outlinewidth": 0,
              "ticks": ""
             }
            },
            "type": "scatterternary"
           }
          ],
          "surface": [
           {
            "colorbar": {
             "outlinewidth": 0,
             "ticks": ""
            },
            "colorscale": [
             [
              0,
              "#0d0887"
             ],
             [
              0.1111111111111111,
              "#46039f"
             ],
             [
              0.2222222222222222,
              "#7201a8"
             ],
             [
              0.3333333333333333,
              "#9c179e"
             ],
             [
              0.4444444444444444,
              "#bd3786"
             ],
             [
              0.5555555555555556,
              "#d8576b"
             ],
             [
              0.6666666666666666,
              "#ed7953"
             ],
             [
              0.7777777777777778,
              "#fb9f3a"
             ],
             [
              0.8888888888888888,
              "#fdca26"
             ],
             [
              1,
              "#f0f921"
             ]
            ],
            "type": "surface"
           }
          ],
          "table": [
           {
            "cells": {
             "fill": {
              "color": "#EBF0F8"
             },
             "line": {
              "color": "white"
             }
            },
            "header": {
             "fill": {
              "color": "#C8D4E3"
             },
             "line": {
              "color": "white"
             }
            },
            "type": "table"
           }
          ]
         },
         "layout": {
          "annotationdefaults": {
           "arrowcolor": "#2a3f5f",
           "arrowhead": 0,
           "arrowwidth": 1
          },
          "autotypenumbers": "strict",
          "coloraxis": {
           "colorbar": {
            "outlinewidth": 0,
            "ticks": ""
           }
          },
          "colorscale": {
           "diverging": [
            [
             0,
             "#8e0152"
            ],
            [
             0.1,
             "#c51b7d"
            ],
            [
             0.2,
             "#de77ae"
            ],
            [
             0.3,
             "#f1b6da"
            ],
            [
             0.4,
             "#fde0ef"
            ],
            [
             0.5,
             "#f7f7f7"
            ],
            [
             0.6,
             "#e6f5d0"
            ],
            [
             0.7,
             "#b8e186"
            ],
            [
             0.8,
             "#7fbc41"
            ],
            [
             0.9,
             "#4d9221"
            ],
            [
             1,
             "#276419"
            ]
           ],
           "sequential": [
            [
             0,
             "#0d0887"
            ],
            [
             0.1111111111111111,
             "#46039f"
            ],
            [
             0.2222222222222222,
             "#7201a8"
            ],
            [
             0.3333333333333333,
             "#9c179e"
            ],
            [
             0.4444444444444444,
             "#bd3786"
            ],
            [
             0.5555555555555556,
             "#d8576b"
            ],
            [
             0.6666666666666666,
             "#ed7953"
            ],
            [
             0.7777777777777778,
             "#fb9f3a"
            ],
            [
             0.8888888888888888,
             "#fdca26"
            ],
            [
             1,
             "#f0f921"
            ]
           ],
           "sequentialminus": [
            [
             0,
             "#0d0887"
            ],
            [
             0.1111111111111111,
             "#46039f"
            ],
            [
             0.2222222222222222,
             "#7201a8"
            ],
            [
             0.3333333333333333,
             "#9c179e"
            ],
            [
             0.4444444444444444,
             "#bd3786"
            ],
            [
             0.5555555555555556,
             "#d8576b"
            ],
            [
             0.6666666666666666,
             "#ed7953"
            ],
            [
             0.7777777777777778,
             "#fb9f3a"
            ],
            [
             0.8888888888888888,
             "#fdca26"
            ],
            [
             1,
             "#f0f921"
            ]
           ]
          },
          "colorway": [
           "#636efa",
           "#EF553B",
           "#00cc96",
           "#ab63fa",
           "#FFA15A",
           "#19d3f3",
           "#FF6692",
           "#B6E880",
           "#FF97FF",
           "#FECB52"
          ],
          "font": {
           "color": "#2a3f5f"
          },
          "geo": {
           "bgcolor": "white",
           "lakecolor": "white",
           "landcolor": "#E5ECF6",
           "showlakes": true,
           "showland": true,
           "subunitcolor": "white"
          },
          "hoverlabel": {
           "align": "left"
          },
          "hovermode": "closest",
          "mapbox": {
           "style": "light"
          },
          "paper_bgcolor": "white",
          "plot_bgcolor": "#E5ECF6",
          "polar": {
           "angularaxis": {
            "gridcolor": "white",
            "linecolor": "white",
            "ticks": ""
           },
           "bgcolor": "#E5ECF6",
           "radialaxis": {
            "gridcolor": "white",
            "linecolor": "white",
            "ticks": ""
           }
          },
          "scene": {
           "xaxis": {
            "backgroundcolor": "#E5ECF6",
            "gridcolor": "white",
            "gridwidth": 2,
            "linecolor": "white",
            "showbackground": true,
            "ticks": "",
            "zerolinecolor": "white"
           },
           "yaxis": {
            "backgroundcolor": "#E5ECF6",
            "gridcolor": "white",
            "gridwidth": 2,
            "linecolor": "white",
            "showbackground": true,
            "ticks": "",
            "zerolinecolor": "white"
           },
           "zaxis": {
            "backgroundcolor": "#E5ECF6",
            "gridcolor": "white",
            "gridwidth": 2,
            "linecolor": "white",
            "showbackground": true,
            "ticks": "",
            "zerolinecolor": "white"
           }
          },
          "shapedefaults": {
           "line": {
            "color": "#2a3f5f"
           }
          },
          "ternary": {
           "aaxis": {
            "gridcolor": "white",
            "linecolor": "white",
            "ticks": ""
           },
           "baxis": {
            "gridcolor": "white",
            "linecolor": "white",
            "ticks": ""
           },
           "bgcolor": "#E5ECF6",
           "caxis": {
            "gridcolor": "white",
            "linecolor": "white",
            "ticks": ""
           }
          },
          "title": {
           "x": 0.05
          },
          "xaxis": {
           "automargin": true,
           "gridcolor": "white",
           "linecolor": "white",
           "ticks": "",
           "title": {
            "standoff": 15
           },
           "zerolinecolor": "white",
           "zerolinewidth": 2
          },
          "yaxis": {
           "automargin": true,
           "gridcolor": "white",
           "linecolor": "white",
           "ticks": "",
           "title": {
            "standoff": 15
           },
           "zerolinecolor": "white",
           "zerolinewidth": 2
          }
         }
        },
        "title": {
         "text": "rte · roberta-base · RSLORA Rank vs Accuracy @ epoch 5"
        },
        "xaxis": {
         "anchor": "y",
         "domain": [
          0,
          1
         ],
         "title": {
          "text": "rank"
         }
        },
        "yaxis": {
         "anchor": "x",
         "domain": [
          0,
          1
         ],
         "title": {
          "text": "accuracy"
         }
        }
       }
      }
     },
     "metadata": {},
     "output_type": "display_data"
    }
   ],
   "source": [
    "# === Config ===\n",
    "ROOT = \"./glue_results_final\"\n",
    "TASK = \"rte\"\n",
    "MODEL = \"roberta-base\"   # or \"roberta-base\"\n",
    "METHOD_TO_SHOW = \"rslora\"   # or \"rslora\"\n",
    "\n",
    "def parse_rank(name: str):\n",
    "    m = re.search(r\"_r(\\d+)_\", name)\n",
    "    return int(m.group(1)) if m else None\n",
    "\n",
    "def read_eval(csv_path: Path):\n",
    "    try:\n",
    "        df = pd.read_csv(csv_path)\n",
    "    except Exception:\n",
    "        return None\n",
    "    if \"eval_accuracy\" in df.columns and \"accuracy\" not in df.columns:\n",
    "        df = df.rename(columns={\"eval_accuracy\":\"accuracy\"})\n",
    "    if \"epoch\" not in df.columns:\n",
    "        df = df.reset_index().rename(columns={\"index\":\"epoch\"})\n",
    "        df[\"epoch\"] = df[\"epoch\"] + 1\n",
    "    df = df[df[\"epoch\"].astype(float).between(1,5)].sort_values(\"epoch\")\n",
    "    return df\n",
    "\n",
    "def epoch5_accuracy(df):\n",
    "    row = df[df[\"epoch\"].astype(float) == 5.0]\n",
    "    if not row.empty:\n",
    "        return float(row[\"accuracy\"].iloc[-1])\n",
    "    return float(df[\"accuracy\"].iloc[-1]) if not df.empty else None\n",
    "\n",
    "def load_points(root, task, model, method):\n",
    "    base = Path(root)/task/model\n",
    "    rows = []\n",
    "\n",
    "    # full fine-tuning\n",
    "    mdir = base/\"full_finetuning\"\n",
    "    if mdir.exists():\n",
    "        for run in mdir.iterdir():\n",
    "            if run.is_dir() and run.name.endswith(\"_best_accuracy\"):\n",
    "                df = read_eval(run/\"eval_per_epoch.csv\")\n",
    "                if df is not None and \"accuracy\" in df.columns:\n",
    "                    acc = epoch5_accuracy(df)\n",
    "                    if acc is not None:\n",
    "                        rows.append({\"method\":\"full_finetuning\",\"rank\":None,\"run_name\":run.name,\"accuracy\":acc})\n",
    "\n",
    "    # chosen method (lora or rslora)\n",
    "    mdir = base/method\n",
    "    if mdir.exists():\n",
    "        for run in mdir.iterdir():\n",
    "            if run.is_dir() and run.name.endswith(\"_best_accuracy\"):\n",
    "                rk = parse_rank(run.name)\n",
    "                df = read_eval(run/\"eval_per_epoch.csv\")\n",
    "                if rk is not None and df is not None and \"accuracy\" in df.columns:\n",
    "                    acc = epoch5_accuracy(df)\n",
    "                    if acc is not None:\n",
    "                        rows.append({\"method\":method,\"rank\":rk,\"run_name\":run.name,\"accuracy\":acc})\n",
    "    return pd.DataFrame(rows)\n",
    "\n",
    "# Load\n",
    "df = load_points(ROOT, TASK, MODEL, METHOD_TO_SHOW)\n",
    "if df.empty:\n",
    "    raise SystemExit(\"No runs found.\")\n",
    "\n",
    "# Separate LoRA and full_ft\n",
    "lora_df = df[df[\"method\"]==METHOD_TO_SHOW].sort_values(\"rank\")\n",
    "ft_acc = df.loc[df[\"method\"]==\"full_finetuning\",\"accuracy\"].mean()\n",
    "\n",
    "# Plot\n",
    "fig = px.scatter(\n",
    "    lora_df, x=\"rank\", y=\"accuracy\",\n",
    "    color=\"method\", symbol=\"method\",\n",
    "    color_discrete_map={METHOD_TO_SHOW:\"red\"},\n",
    "    # hover_data=[\"run_name\"],\n",
    "    title=f\"{TASK} · {MODEL} · {METHOD_TO_SHOW.upper()} Rank vs Accuracy @ epoch 5\",\n",
    "    labels={\"rank\":\"LoRA rank\", \"accuracy\":\"accuracy\"}\n",
    ")\n",
    "\n",
    "# Add trend line for LoRA\n",
    "fig.add_trace(go.Scatter(\n",
    "    x=lora_df[\"rank\"], y=lora_df[\"accuracy\"],\n",
    "    mode=\"lines\", name=f\"{METHOD_TO_SHOW} (trend)\",\n",
    "    line=dict(color=\"red\", width=2),\n",
    "    hoverinfo=\"skip\",\n",
    "    showlegend=False\n",
    "))\n",
    "\n",
    "# Add horizontal line for full fine-tuning\n",
    "fig.add_trace(go.Scatter(\n",
    "    x=[min(ranks), max(ranks)],\n",
    "    y=[ft_acc, ft_acc],\n",
    "    mode=\"lines\",\n",
    "    name=\"full_finetuning\",   # legend label\n",
    "    line=dict(color=\"black\", dash=\"dot\", width=2),\n",
    "    hovertemplate=\"method=full_finetuning<br>accuracy=%{y:.3f}<extra></extra>\",\n",
    "\n",
    "))\n",
    "\n",
    "\n",
    "fig.update_layout(\n",
    "    xaxis_title=\"rank\",\n",
    "    yaxis_title=\"accuracy\",\n",
    "    legend_title_text=\"Method\",\n",
    ")\n",
    "\n",
    "fig\n"
   ]
  },
  {
   "cell_type": "code",
   "execution_count": 57,
   "id": "96a6eeae",
   "metadata": {},
   "outputs": [
    {
     "data": {
      "text/html": [
       "<div>\n",
       "<style scoped>\n",
       "    .dataframe tbody tr th:only-of-type {\n",
       "        vertical-align: middle;\n",
       "    }\n",
       "\n",
       "    .dataframe tbody tr th {\n",
       "        vertical-align: top;\n",
       "    }\n",
       "\n",
       "    .dataframe thead th {\n",
       "        text-align: right;\n",
       "    }\n",
       "</style>\n",
       "<table border=\"1\" class=\"dataframe\">\n",
       "  <thead>\n",
       "    <tr style=\"text-align: right;\">\n",
       "      <th></th>\n",
       "      <th>method</th>\n",
       "      <th>rank</th>\n",
       "      <th>run_name</th>\n",
       "      <th>accuracy</th>\n",
       "    </tr>\n",
       "  </thead>\n",
       "  <tbody>\n",
       "    <tr>\n",
       "      <th>4</th>\n",
       "      <td>rslora</td>\n",
       "      <td>1.0</td>\n",
       "      <td>rslora_r1_alpha1_lr0.001_best_accuracy</td>\n",
       "      <td>0.750903</td>\n",
       "    </tr>\n",
       "    <tr>\n",
       "      <th>2</th>\n",
       "      <td>rslora</td>\n",
       "      <td>4.0</td>\n",
       "      <td>rslora_r4_alpha4_lr0.001_best_accuracy</td>\n",
       "      <td>0.768953</td>\n",
       "    </tr>\n",
       "    <tr>\n",
       "      <th>10</th>\n",
       "      <td>rslora</td>\n",
       "      <td>8.0</td>\n",
       "      <td>rslora_r8_alpha8_lr0.00031622776601683794_best...</td>\n",
       "      <td>0.743682</td>\n",
       "    </tr>\n",
       "    <tr>\n",
       "      <th>9</th>\n",
       "      <td>rslora</td>\n",
       "      <td>16.0</td>\n",
       "      <td>rslora_r16_alpha16_lr0.0001_best_accuracy</td>\n",
       "      <td>0.722022</td>\n",
       "    </tr>\n",
       "    <tr>\n",
       "      <th>8</th>\n",
       "      <td>rslora</td>\n",
       "      <td>32.0</td>\n",
       "      <td>rslora_r32_alpha32_lr0.00031622776601683794_be...</td>\n",
       "      <td>0.527076</td>\n",
       "    </tr>\n",
       "    <tr>\n",
       "      <th>5</th>\n",
       "      <td>rslora</td>\n",
       "      <td>64.0</td>\n",
       "      <td>rslora_r64_alpha64_lr3.16227766e-05_best_accuracy</td>\n",
       "      <td>0.714801</td>\n",
       "    </tr>\n",
       "    <tr>\n",
       "      <th>3</th>\n",
       "      <td>rslora</td>\n",
       "      <td>128.0</td>\n",
       "      <td>rslora_r128_alpha128_lr1e-05_best_accuracy</td>\n",
       "      <td>0.718412</td>\n",
       "    </tr>\n",
       "    <tr>\n",
       "      <th>7</th>\n",
       "      <td>rslora</td>\n",
       "      <td>256.0</td>\n",
       "      <td>rslora_r256_alpha256_lr0.001_best_accuracy</td>\n",
       "      <td>0.527076</td>\n",
       "    </tr>\n",
       "    <tr>\n",
       "      <th>6</th>\n",
       "      <td>rslora</td>\n",
       "      <td>512.0</td>\n",
       "      <td>rslora_r512_alpha512_lr0.0001_best_accuracy</td>\n",
       "      <td>0.527076</td>\n",
       "    </tr>\n",
       "    <tr>\n",
       "      <th>1</th>\n",
       "      <td>rslora</td>\n",
       "      <td>768.0</td>\n",
       "      <td>rslora_r768_alpha768_lr0.00031622776601683794_...</td>\n",
       "      <td>0.527076</td>\n",
       "    </tr>\n",
       "  </tbody>\n",
       "</table>\n",
       "</div>"
      ],
      "text/plain": [
       "    method   rank                                           run_name  accuracy\n",
       "4   rslora    1.0             rslora_r1_alpha1_lr0.001_best_accuracy  0.750903\n",
       "2   rslora    4.0             rslora_r4_alpha4_lr0.001_best_accuracy  0.768953\n",
       "10  rslora    8.0  rslora_r8_alpha8_lr0.00031622776601683794_best...  0.743682\n",
       "9   rslora   16.0          rslora_r16_alpha16_lr0.0001_best_accuracy  0.722022\n",
       "8   rslora   32.0  rslora_r32_alpha32_lr0.00031622776601683794_be...  0.527076\n",
       "5   rslora   64.0  rslora_r64_alpha64_lr3.16227766e-05_best_accuracy  0.714801\n",
       "3   rslora  128.0         rslora_r128_alpha128_lr1e-05_best_accuracy  0.718412\n",
       "7   rslora  256.0         rslora_r256_alpha256_lr0.001_best_accuracy  0.527076\n",
       "6   rslora  512.0        rslora_r512_alpha512_lr0.0001_best_accuracy  0.527076\n",
       "1   rslora  768.0  rslora_r768_alpha768_lr0.00031622776601683794_...  0.527076"
      ]
     },
     "execution_count": 57,
     "metadata": {},
     "output_type": "execute_result"
    }
   ],
   "source": [
    "lora_df"
   ]
  },
  {
   "cell_type": "code",
   "execution_count": 31,
   "id": "dbe7cc67",
   "metadata": {},
   "outputs": [],
   "source": [
    "ft_acc = df.loc[df[\"method\"]==\"full_finetuning\",\"accuracy\"]"
   ]
  },
  {
   "cell_type": "code",
   "execution_count": 29,
   "id": "33390ce9",
   "metadata": {},
   "outputs": [
    {
     "data": {
      "text/plain": [
       "0    0.794224\n",
       "Name: accuracy, dtype: float64"
      ]
     },
     "execution_count": 29,
     "metadata": {},
     "output_type": "execute_result"
    }
   ],
   "source": [
    "ft_acc"
   ]
  },
  {
   "cell_type": "code",
   "execution_count": 32,
   "id": "28708ec8",
   "metadata": {},
   "outputs": [
    {
     "data": {
      "text/html": [
       "<div>\n",
       "<style scoped>\n",
       "    .dataframe tbody tr th:only-of-type {\n",
       "        vertical-align: middle;\n",
       "    }\n",
       "\n",
       "    .dataframe tbody tr th {\n",
       "        vertical-align: top;\n",
       "    }\n",
       "\n",
       "    .dataframe thead th {\n",
       "        text-align: right;\n",
       "    }\n",
       "</style>\n",
       "<table border=\"1\" class=\"dataframe\">\n",
       "  <thead>\n",
       "    <tr style=\"text-align: right;\">\n",
       "      <th></th>\n",
       "      <th>method</th>\n",
       "      <th>rank</th>\n",
       "      <th>run_name</th>\n",
       "      <th>accuracy</th>\n",
       "    </tr>\n",
       "  </thead>\n",
       "  <tbody>\n",
       "    <tr>\n",
       "      <th>0</th>\n",
       "      <td>full_finetuning</td>\n",
       "      <td>NaN</td>\n",
       "      <td>full_finetuning_lr3.1622776601683795e-05_best_...</td>\n",
       "      <td>0.794224</td>\n",
       "    </tr>\n",
       "    <tr>\n",
       "      <th>1</th>\n",
       "      <td>lora</td>\n",
       "      <td>1.0</td>\n",
       "      <td>lora_r1_alpha1_lr0.001_best_accuracy</td>\n",
       "      <td>0.750903</td>\n",
       "    </tr>\n",
       "    <tr>\n",
       "      <th>2</th>\n",
       "      <td>lora</td>\n",
       "      <td>16.0</td>\n",
       "      <td>lora_r16_alpha16_lr0.00031622776601683794_best...</td>\n",
       "      <td>0.718412</td>\n",
       "    </tr>\n",
       "    <tr>\n",
       "      <th>3</th>\n",
       "      <td>lora</td>\n",
       "      <td>8.0</td>\n",
       "      <td>lora_r8_alpha8_lr0.001_best_accuracy</td>\n",
       "      <td>0.765343</td>\n",
       "    </tr>\n",
       "    <tr>\n",
       "      <th>4</th>\n",
       "      <td>lora</td>\n",
       "      <td>32.0</td>\n",
       "      <td>lora_r32_alpha32_lr0.00031622776601683794_best...</td>\n",
       "      <td>0.779783</td>\n",
       "    </tr>\n",
       "    <tr>\n",
       "      <th>5</th>\n",
       "      <td>lora</td>\n",
       "      <td>128.0</td>\n",
       "      <td>lora_r128_alpha128_lr5.623413251903491e-05_bes...</td>\n",
       "      <td>0.722022</td>\n",
       "    </tr>\n",
       "    <tr>\n",
       "      <th>6</th>\n",
       "      <td>lora</td>\n",
       "      <td>4.0</td>\n",
       "      <td>lora_r4_alpha4_lr0.001_best_accuracy</td>\n",
       "      <td>0.754513</td>\n",
       "    </tr>\n",
       "    <tr>\n",
       "      <th>7</th>\n",
       "      <td>lora</td>\n",
       "      <td>64.0</td>\n",
       "      <td>lora_r64_alpha64_lr0.0001_best_accuracy</td>\n",
       "      <td>0.740072</td>\n",
       "    </tr>\n",
       "    <tr>\n",
       "      <th>8</th>\n",
       "      <td>lora</td>\n",
       "      <td>256.0</td>\n",
       "      <td>lora_r256_alpha256_lr3.1622776601683795e-05_be...</td>\n",
       "      <td>0.722022</td>\n",
       "    </tr>\n",
       "    <tr>\n",
       "      <th>9</th>\n",
       "      <td>lora</td>\n",
       "      <td>512.0</td>\n",
       "      <td>lora_r512_alpha512_lr3.1622776601683795e-05_be...</td>\n",
       "      <td>0.722022</td>\n",
       "    </tr>\n",
       "    <tr>\n",
       "      <th>10</th>\n",
       "      <td>lora</td>\n",
       "      <td>768.0</td>\n",
       "      <td>lora_r768_alpha768_lr1e-05_best_accuracy</td>\n",
       "      <td>0.707581</td>\n",
       "    </tr>\n",
       "  </tbody>\n",
       "</table>\n",
       "</div>"
      ],
      "text/plain": [
       "             method   rank                                           run_name  \\\n",
       "0   full_finetuning    NaN  full_finetuning_lr3.1622776601683795e-05_best_...   \n",
       "1              lora    1.0               lora_r1_alpha1_lr0.001_best_accuracy   \n",
       "2              lora   16.0  lora_r16_alpha16_lr0.00031622776601683794_best...   \n",
       "3              lora    8.0               lora_r8_alpha8_lr0.001_best_accuracy   \n",
       "4              lora   32.0  lora_r32_alpha32_lr0.00031622776601683794_best...   \n",
       "5              lora  128.0  lora_r128_alpha128_lr5.623413251903491e-05_bes...   \n",
       "6              lora    4.0               lora_r4_alpha4_lr0.001_best_accuracy   \n",
       "7              lora   64.0            lora_r64_alpha64_lr0.0001_best_accuracy   \n",
       "8              lora  256.0  lora_r256_alpha256_lr3.1622776601683795e-05_be...   \n",
       "9              lora  512.0  lora_r512_alpha512_lr3.1622776601683795e-05_be...   \n",
       "10             lora  768.0           lora_r768_alpha768_lr1e-05_best_accuracy   \n",
       "\n",
       "    accuracy  \n",
       "0   0.794224  \n",
       "1   0.750903  \n",
       "2   0.718412  \n",
       "3   0.765343  \n",
       "4   0.779783  \n",
       "5   0.722022  \n",
       "6   0.754513  \n",
       "7   0.740072  \n",
       "8   0.722022  \n",
       "9   0.722022  \n",
       "10  0.707581  "
      ]
     },
     "execution_count": 32,
     "metadata": {},
     "output_type": "execute_result"
    }
   ],
   "source": [
    "df"
   ]
  },
  {
   "cell_type": "code",
   "execution_count": 61,
   "id": "cd2a10cb",
   "metadata": {},
   "outputs": [
    {
     "data": {
      "application/vnd.plotly.v1+json": {
       "config": {
        "plotlyServerURL": "https://plot.ly"
       },
       "data": [
        {
         "hovertemplate": "method=lora<br>LoRA rank=%{x}<br>accuracy=%{y}<extra></extra>",
         "legendgroup": "lora",
         "marker": {
          "color": "red",
          "symbol": "circle"
         },
         "mode": "markers",
         "name": "lora",
         "orientation": "v",
         "showlegend": true,
         "type": "scatter",
         "x": {
          "bdata": "AAAAAAAA8D8AAAAAAAAQQAAAAAAAACBAAAAAAAAAMEAAAAAAAABAQAAAAAAAAFBAAAAAAAAAYEAAAAAAAABwQAAAAAAAAIBAAAAAAAAAkEA=",
          "dtype": "f8"
         },
         "xaxis": "x",
         "y": {
          "bdata": "lmaNiwWS6j8SPIMqCmHrPxcLJLVMOeo/E/88RuQl6z8XCyS1TDnqP5MdYDh3Q+s/FML2Yb7q6j+U4BlUUQjrPxWFsH2Yr+o/JXgGVRTC5j8=",
          "dtype": "f8"
         },
         "yaxis": "y"
        },
        {
         "hoverinfo": "skip",
         "line": {
          "color": "red",
          "width": 2
         },
         "mode": "lines",
         "name": "lora (trend)",
         "showlegend": false,
         "type": "scatter",
         "x": {
          "bdata": "AAAAAAAA8D8AAAAAAAAQQAAAAAAAACBAAAAAAAAAMEAAAAAAAABAQAAAAAAAAFBAAAAAAAAAYEAAAAAAAABwQAAAAAAAAIBAAAAAAAAAkEA=",
          "dtype": "f8"
         },
         "y": {
          "bdata": "lmaNiwWS6j8SPIMqCmHrPxcLJLVMOeo/E/88RuQl6z8XCyS1TDnqP5MdYDh3Q+s/FML2Yb7q6j+U4BlUUQjrPxWFsH2Yr+o/JXgGVRTC5j8=",
          "dtype": "f8"
         }
        },
        {
         "hovertemplate": "method=full_finetuning<br>accuracy=%{y:.3f}<extra></extra>",
         "line": {
          "color": "black",
          "dash": "dot",
          "width": 2
         },
         "mode": "lines",
         "name": "full_finetuning",
         "type": "scatter",
         "x": [
          1,
          1024
         ],
         "y": [
          0.8194945848375451,
          0.8194945848375451
         ]
        }
       ],
       "layout": {
        "legend": {
         "title": {
          "text": "Method"
         },
         "tracegroupgap": 0
        },
        "template": {
         "data": {
          "bar": [
           {
            "error_x": {
             "color": "#2a3f5f"
            },
            "error_y": {
             "color": "#2a3f5f"
            },
            "marker": {
             "line": {
              "color": "#E5ECF6",
              "width": 0.5
             },
             "pattern": {
              "fillmode": "overlay",
              "size": 10,
              "solidity": 0.2
             }
            },
            "type": "bar"
           }
          ],
          "barpolar": [
           {
            "marker": {
             "line": {
              "color": "#E5ECF6",
              "width": 0.5
             },
             "pattern": {
              "fillmode": "overlay",
              "size": 10,
              "solidity": 0.2
             }
            },
            "type": "barpolar"
           }
          ],
          "carpet": [
           {
            "aaxis": {
             "endlinecolor": "#2a3f5f",
             "gridcolor": "white",
             "linecolor": "white",
             "minorgridcolor": "white",
             "startlinecolor": "#2a3f5f"
            },
            "baxis": {
             "endlinecolor": "#2a3f5f",
             "gridcolor": "white",
             "linecolor": "white",
             "minorgridcolor": "white",
             "startlinecolor": "#2a3f5f"
            },
            "type": "carpet"
           }
          ],
          "choropleth": [
           {
            "colorbar": {
             "outlinewidth": 0,
             "ticks": ""
            },
            "type": "choropleth"
           }
          ],
          "contour": [
           {
            "colorbar": {
             "outlinewidth": 0,
             "ticks": ""
            },
            "colorscale": [
             [
              0,
              "#0d0887"
             ],
             [
              0.1111111111111111,
              "#46039f"
             ],
             [
              0.2222222222222222,
              "#7201a8"
             ],
             [
              0.3333333333333333,
              "#9c179e"
             ],
             [
              0.4444444444444444,
              "#bd3786"
             ],
             [
              0.5555555555555556,
              "#d8576b"
             ],
             [
              0.6666666666666666,
              "#ed7953"
             ],
             [
              0.7777777777777778,
              "#fb9f3a"
             ],
             [
              0.8888888888888888,
              "#fdca26"
             ],
             [
              1,
              "#f0f921"
             ]
            ],
            "type": "contour"
           }
          ],
          "contourcarpet": [
           {
            "colorbar": {
             "outlinewidth": 0,
             "ticks": ""
            },
            "type": "contourcarpet"
           }
          ],
          "heatmap": [
           {
            "colorbar": {
             "outlinewidth": 0,
             "ticks": ""
            },
            "colorscale": [
             [
              0,
              "#0d0887"
             ],
             [
              0.1111111111111111,
              "#46039f"
             ],
             [
              0.2222222222222222,
              "#7201a8"
             ],
             [
              0.3333333333333333,
              "#9c179e"
             ],
             [
              0.4444444444444444,
              "#bd3786"
             ],
             [
              0.5555555555555556,
              "#d8576b"
             ],
             [
              0.6666666666666666,
              "#ed7953"
             ],
             [
              0.7777777777777778,
              "#fb9f3a"
             ],
             [
              0.8888888888888888,
              "#fdca26"
             ],
             [
              1,
              "#f0f921"
             ]
            ],
            "type": "heatmap"
           }
          ],
          "histogram": [
           {
            "marker": {
             "pattern": {
              "fillmode": "overlay",
              "size": 10,
              "solidity": 0.2
             }
            },
            "type": "histogram"
           }
          ],
          "histogram2d": [
           {
            "colorbar": {
             "outlinewidth": 0,
             "ticks": ""
            },
            "colorscale": [
             [
              0,
              "#0d0887"
             ],
             [
              0.1111111111111111,
              "#46039f"
             ],
             [
              0.2222222222222222,
              "#7201a8"
             ],
             [
              0.3333333333333333,
              "#9c179e"
             ],
             [
              0.4444444444444444,
              "#bd3786"
             ],
             [
              0.5555555555555556,
              "#d8576b"
             ],
             [
              0.6666666666666666,
              "#ed7953"
             ],
             [
              0.7777777777777778,
              "#fb9f3a"
             ],
             [
              0.8888888888888888,
              "#fdca26"
             ],
             [
              1,
              "#f0f921"
             ]
            ],
            "type": "histogram2d"
           }
          ],
          "histogram2dcontour": [
           {
            "colorbar": {
             "outlinewidth": 0,
             "ticks": ""
            },
            "colorscale": [
             [
              0,
              "#0d0887"
             ],
             [
              0.1111111111111111,
              "#46039f"
             ],
             [
              0.2222222222222222,
              "#7201a8"
             ],
             [
              0.3333333333333333,
              "#9c179e"
             ],
             [
              0.4444444444444444,
              "#bd3786"
             ],
             [
              0.5555555555555556,
              "#d8576b"
             ],
             [
              0.6666666666666666,
              "#ed7953"
             ],
             [
              0.7777777777777778,
              "#fb9f3a"
             ],
             [
              0.8888888888888888,
              "#fdca26"
             ],
             [
              1,
              "#f0f921"
             ]
            ],
            "type": "histogram2dcontour"
           }
          ],
          "mesh3d": [
           {
            "colorbar": {
             "outlinewidth": 0,
             "ticks": ""
            },
            "type": "mesh3d"
           }
          ],
          "parcoords": [
           {
            "line": {
             "colorbar": {
              "outlinewidth": 0,
              "ticks": ""
             }
            },
            "type": "parcoords"
           }
          ],
          "pie": [
           {
            "automargin": true,
            "type": "pie"
           }
          ],
          "scatter": [
           {
            "fillpattern": {
             "fillmode": "overlay",
             "size": 10,
             "solidity": 0.2
            },
            "type": "scatter"
           }
          ],
          "scatter3d": [
           {
            "line": {
             "colorbar": {
              "outlinewidth": 0,
              "ticks": ""
             }
            },
            "marker": {
             "colorbar": {
              "outlinewidth": 0,
              "ticks": ""
             }
            },
            "type": "scatter3d"
           }
          ],
          "scattercarpet": [
           {
            "marker": {
             "colorbar": {
              "outlinewidth": 0,
              "ticks": ""
             }
            },
            "type": "scattercarpet"
           }
          ],
          "scattergeo": [
           {
            "marker": {
             "colorbar": {
              "outlinewidth": 0,
              "ticks": ""
             }
            },
            "type": "scattergeo"
           }
          ],
          "scattergl": [
           {
            "marker": {
             "colorbar": {
              "outlinewidth": 0,
              "ticks": ""
             }
            },
            "type": "scattergl"
           }
          ],
          "scattermap": [
           {
            "marker": {
             "colorbar": {
              "outlinewidth": 0,
              "ticks": ""
             }
            },
            "type": "scattermap"
           }
          ],
          "scattermapbox": [
           {
            "marker": {
             "colorbar": {
              "outlinewidth": 0,
              "ticks": ""
             }
            },
            "type": "scattermapbox"
           }
          ],
          "scatterpolar": [
           {
            "marker": {
             "colorbar": {
              "outlinewidth": 0,
              "ticks": ""
             }
            },
            "type": "scatterpolar"
           }
          ],
          "scatterpolargl": [
           {
            "marker": {
             "colorbar": {
              "outlinewidth": 0,
              "ticks": ""
             }
            },
            "type": "scatterpolargl"
           }
          ],
          "scatterternary": [
           {
            "marker": {
             "colorbar": {
              "outlinewidth": 0,
              "ticks": ""
             }
            },
            "type": "scatterternary"
           }
          ],
          "surface": [
           {
            "colorbar": {
             "outlinewidth": 0,
             "ticks": ""
            },
            "colorscale": [
             [
              0,
              "#0d0887"
             ],
             [
              0.1111111111111111,
              "#46039f"
             ],
             [
              0.2222222222222222,
              "#7201a8"
             ],
             [
              0.3333333333333333,
              "#9c179e"
             ],
             [
              0.4444444444444444,
              "#bd3786"
             ],
             [
              0.5555555555555556,
              "#d8576b"
             ],
             [
              0.6666666666666666,
              "#ed7953"
             ],
             [
              0.7777777777777778,
              "#fb9f3a"
             ],
             [
              0.8888888888888888,
              "#fdca26"
             ],
             [
              1,
              "#f0f921"
             ]
            ],
            "type": "surface"
           }
          ],
          "table": [
           {
            "cells": {
             "fill": {
              "color": "#EBF0F8"
             },
             "line": {
              "color": "white"
             }
            },
            "header": {
             "fill": {
              "color": "#C8D4E3"
             },
             "line": {
              "color": "white"
             }
            },
            "type": "table"
           }
          ]
         },
         "layout": {
          "annotationdefaults": {
           "arrowcolor": "#2a3f5f",
           "arrowhead": 0,
           "arrowwidth": 1
          },
          "autotypenumbers": "strict",
          "coloraxis": {
           "colorbar": {
            "outlinewidth": 0,
            "ticks": ""
           }
          },
          "colorscale": {
           "diverging": [
            [
             0,
             "#8e0152"
            ],
            [
             0.1,
             "#c51b7d"
            ],
            [
             0.2,
             "#de77ae"
            ],
            [
             0.3,
             "#f1b6da"
            ],
            [
             0.4,
             "#fde0ef"
            ],
            [
             0.5,
             "#f7f7f7"
            ],
            [
             0.6,
             "#e6f5d0"
            ],
            [
             0.7,
             "#b8e186"
            ],
            [
             0.8,
             "#7fbc41"
            ],
            [
             0.9,
             "#4d9221"
            ],
            [
             1,
             "#276419"
            ]
           ],
           "sequential": [
            [
             0,
             "#0d0887"
            ],
            [
             0.1111111111111111,
             "#46039f"
            ],
            [
             0.2222222222222222,
             "#7201a8"
            ],
            [
             0.3333333333333333,
             "#9c179e"
            ],
            [
             0.4444444444444444,
             "#bd3786"
            ],
            [
             0.5555555555555556,
             "#d8576b"
            ],
            [
             0.6666666666666666,
             "#ed7953"
            ],
            [
             0.7777777777777778,
             "#fb9f3a"
            ],
            [
             0.8888888888888888,
             "#fdca26"
            ],
            [
             1,
             "#f0f921"
            ]
           ],
           "sequentialminus": [
            [
             0,
             "#0d0887"
            ],
            [
             0.1111111111111111,
             "#46039f"
            ],
            [
             0.2222222222222222,
             "#7201a8"
            ],
            [
             0.3333333333333333,
             "#9c179e"
            ],
            [
             0.4444444444444444,
             "#bd3786"
            ],
            [
             0.5555555555555556,
             "#d8576b"
            ],
            [
             0.6666666666666666,
             "#ed7953"
            ],
            [
             0.7777777777777778,
             "#fb9f3a"
            ],
            [
             0.8888888888888888,
             "#fdca26"
            ],
            [
             1,
             "#f0f921"
            ]
           ]
          },
          "colorway": [
           "#636efa",
           "#EF553B",
           "#00cc96",
           "#ab63fa",
           "#FFA15A",
           "#19d3f3",
           "#FF6692",
           "#B6E880",
           "#FF97FF",
           "#FECB52"
          ],
          "font": {
           "color": "#2a3f5f"
          },
          "geo": {
           "bgcolor": "white",
           "lakecolor": "white",
           "landcolor": "#E5ECF6",
           "showlakes": true,
           "showland": true,
           "subunitcolor": "white"
          },
          "hoverlabel": {
           "align": "left"
          },
          "hovermode": "closest",
          "mapbox": {
           "style": "light"
          },
          "paper_bgcolor": "white",
          "plot_bgcolor": "#E5ECF6",
          "polar": {
           "angularaxis": {
            "gridcolor": "white",
            "linecolor": "white",
            "ticks": ""
           },
           "bgcolor": "#E5ECF6",
           "radialaxis": {
            "gridcolor": "white",
            "linecolor": "white",
            "ticks": ""
           }
          },
          "scene": {
           "xaxis": {
            "backgroundcolor": "#E5ECF6",
            "gridcolor": "white",
            "gridwidth": 2,
            "linecolor": "white",
            "showbackground": true,
            "ticks": "",
            "zerolinecolor": "white"
           },
           "yaxis": {
            "backgroundcolor": "#E5ECF6",
            "gridcolor": "white",
            "gridwidth": 2,
            "linecolor": "white",
            "showbackground": true,
            "ticks": "",
            "zerolinecolor": "white"
           },
           "zaxis": {
            "backgroundcolor": "#E5ECF6",
            "gridcolor": "white",
            "gridwidth": 2,
            "linecolor": "white",
            "showbackground": true,
            "ticks": "",
            "zerolinecolor": "white"
           }
          },
          "shapedefaults": {
           "line": {
            "color": "#2a3f5f"
           }
          },
          "ternary": {
           "aaxis": {
            "gridcolor": "white",
            "linecolor": "white",
            "ticks": ""
           },
           "baxis": {
            "gridcolor": "white",
            "linecolor": "white",
            "ticks": ""
           },
           "bgcolor": "#E5ECF6",
           "caxis": {
            "gridcolor": "white",
            "linecolor": "white",
            "ticks": ""
           }
          },
          "title": {
           "x": 0.05
          },
          "xaxis": {
           "automargin": true,
           "gridcolor": "white",
           "linecolor": "white",
           "ticks": "",
           "title": {
            "standoff": 15
           },
           "zerolinecolor": "white",
           "zerolinewidth": 2
          },
          "yaxis": {
           "automargin": true,
           "gridcolor": "white",
           "linecolor": "white",
           "ticks": "",
           "title": {
            "standoff": 15
           },
           "zerolinecolor": "white",
           "zerolinewidth": 2
          }
         }
        },
        "title": {
         "text": "rte · roberta-large · LORA Rank vs Accuracy @ epoch 5"
        },
        "xaxis": {
         "anchor": "y",
         "domain": [
          0,
          1
         ],
         "title": {
          "text": "rank"
         }
        },
        "yaxis": {
         "anchor": "x",
         "domain": [
          0,
          1
         ],
         "title": {
          "text": "accuracy"
         }
        }
       }
      }
     },
     "metadata": {},
     "output_type": "display_data"
    }
   ],
   "source": [
    "# === Config ===\n",
    "ROOT = \"./glue_results_final\"\n",
    "TASK = \"rte\"\n",
    "MODEL = \"roberta-large\"        # \"roberta-base\" or \"roberta-large\"\n",
    "METHOD_TO_SHOW = \"lora\"     # \"lora\" or \"rslora\"\n",
    "\n",
    "\n",
    "def parse_rank(name: str):\n",
    "    m = re.search(r\"_r(\\d+)_\", name)\n",
    "    return int(m.group(1)) if m else None\n",
    "\n",
    "def read_eval(csv_path: Path):\n",
    "    try:\n",
    "        df = pd.read_csv(csv_path)\n",
    "    except Exception:\n",
    "        return None\n",
    "    if \"eval_accuracy\" in df.columns and \"accuracy\" not in df.columns:\n",
    "        df = df.rename(columns={\"eval_accuracy\":\"accuracy\"})\n",
    "    if \"epoch\" not in df.columns:\n",
    "        df = df.reset_index().rename(columns={\"index\":\"epoch\"})\n",
    "        df[\"epoch\"] = df[\"epoch\"] + 1\n",
    "    df = df[df[\"epoch\"].astype(float).between(1,5)].sort_values(\"epoch\")\n",
    "    return df\n",
    "\n",
    "def epoch5_accuracy(df):\n",
    "    row = df[df[\"epoch\"].astype(float) == 5.0]\n",
    "    if not row.empty:\n",
    "        return float(row[\"accuracy\"].iloc[-1])\n",
    "    return float(df[\"accuracy\"].iloc[-1]) if not df.empty else None\n",
    "\n",
    "def load_points(root, task, model, method):\n",
    "    base = Path(root)/task/model\n",
    "    rows = []\n",
    "\n",
    "    # full fine-tuning\n",
    "    mdir = base/\"full_finetuning\"\n",
    "    if mdir.exists():\n",
    "        for run in mdir.iterdir():\n",
    "            if run.is_dir() and run.name.endswith(\"_best_accuracy\"):\n",
    "                df = read_eval(run/\"eval_per_epoch.csv\")\n",
    "                if df is not None and \"accuracy\" in df.columns:\n",
    "                    acc = epoch5_accuracy(df)\n",
    "                    if acc is not None:\n",
    "                        rows.append({\"method\":\"full_finetuning\",\"rank\":None,\"run_name\":run.name,\"accuracy\":acc})\n",
    "\n",
    "    # chosen method (lora or rslora)\n",
    "    mdir = base/method\n",
    "    if mdir.exists():\n",
    "        for run in mdir.iterdir():\n",
    "            if run.is_dir() and run.name.endswith(\"_best_accuracy\"):\n",
    "                rk = parse_rank(run.name)\n",
    "                df = read_eval(run/\"eval_per_epoch.csv\")\n",
    "                if rk is not None and df is not None and \"accuracy\" in df.columns:\n",
    "                    acc = epoch5_accuracy(df)\n",
    "                    if acc is not None:\n",
    "                        rows.append({\"method\":method,\"rank\":rk,\"run_name\":run.name,\"accuracy\":acc})\n",
    "    return pd.DataFrame(rows)\n",
    "\n",
    "# ---- build figure (dynamic axes) ----\n",
    "df = load_points(ROOT, TASK, MODEL, METHOD_TO_SHOW)\n",
    "if df.empty:\n",
    "    raise SystemExit(\"No runs found.\")\n",
    "\n",
    "meth_df = df[df[\"method\"]==METHOD_TO_SHOW].dropna(subset=[\"rank\"]).sort_values(\"rank\")\n",
    "if meth_df.empty:\n",
    "    raise SystemExit(f\"No {METHOD_TO_SHOW} ranks found.\")\n",
    "\n",
    "# dynamic ranks list for THIS model/method\n",
    "ranks = meth_df[\"rank\"].astype(int).tolist()\n",
    "xmin, xmax = min(ranks), max(ranks)\n",
    "\n",
    "# full-FT baseline\n",
    "ft_acc = df.loc[df[\"method\"]==\"full_finetuning\",\"accuracy\"].mean()\n",
    "\n",
    "# color per method\n",
    "method_color = {\"lora\":\"red\", \"rslora\":\"green\"}\n",
    "line_color = method_color[METHOD_TO_SHOW]\n",
    "title_method = \"LoRA\" if METHOD_TO_SHOW==\"lora\" else \"RSLoRA\"\n",
    "\n",
    "# Separate LoRA and full_ft\n",
    "lora_df = df[df[\"method\"]==METHOD_TO_SHOW].sort_values(\"rank\")\n",
    "ft_acc = df.loc[df[\"method\"]==\"full_finetuning\",\"accuracy\"].mean()\n",
    "\n",
    "# Plot\n",
    "fig = px.scatter(\n",
    "    lora_df, x=\"rank\", y=\"accuracy\",\n",
    "    color=\"method\", symbol=\"method\",\n",
    "    color_discrete_map={METHOD_TO_SHOW:\"red\"},\n",
    "    # hover_data=[\"run_name\"],\n",
    "    title=f\"{TASK} · {MODEL} · {METHOD_TO_SHOW.upper()} Rank vs Accuracy @ epoch 5\",\n",
    "    labels={\"rank\":\"LoRA rank\", \"accuracy\":\"accuracy\"}\n",
    ")\n",
    "\n",
    "# Add trend line for LoRA\n",
    "fig.add_trace(go.Scatter(\n",
    "    x=lora_df[\"rank\"], y=lora_df[\"accuracy\"],\n",
    "    mode=\"lines\", name=f\"{METHOD_TO_SHOW} (trend)\",\n",
    "    line=dict(color=\"red\", width=2),\n",
    "    hoverinfo=\"skip\",\n",
    "    showlegend=False\n",
    "))\n",
    "\n",
    "# Add horizontal line for full fine-tuning\n",
    "fig.add_trace(go.Scatter(\n",
    "    x=[min(ranks), max(ranks)],\n",
    "    y=[ft_acc, ft_acc],\n",
    "    mode=\"lines\",\n",
    "    name=\"full_finetuning\",   # legend label\n",
    "    line=dict(color=\"black\", dash=\"dot\", width=2),\n",
    "    hovertemplate=\"method=full_finetuning<br>accuracy=%{y:.3f}<extra></extra>\",\n",
    "\n",
    "))\n",
    "\n",
    "\n",
    "fig.update_layout(\n",
    "    xaxis_title=\"rank\",\n",
    "    yaxis_title=\"accuracy\",\n",
    "    legend_title_text=\"Method\",\n",
    ")\n",
    "\n",
    "fig\n"
   ]
  },
  {
   "cell_type": "code",
   "execution_count": 70,
   "id": "0d0a9f29",
   "metadata": {},
   "outputs": [
    {
     "data": {
      "application/vnd.plotly.v1+json": {
       "config": {
        "plotlyServerURL": "https://plot.ly"
       },
       "data": [
        {
         "hovertemplate": "method=lora<br>LoRA rank=%{x}<br>accuracy=%{y}<extra></extra>",
         "legendgroup": "lora",
         "marker": {
          "color": "red",
          "symbol": "circle"
         },
         "mode": "markers",
         "name": "lora",
         "orientation": "v",
         "showlegend": true,
         "type": "scatter",
         "x": {
          "bdata": "AAAAAAAA8D8AAAAAAAAQQAAAAAAAACBAAAAAAAAAMEAAAAAAAABAQAAAAAAAAFBAAAAAAAAAYEAAAAAAAABwQAAAAAAAAIBAAAAAAAAAkEA=",
          "dtype": "f8"
         },
         "xaxis": "x",
         "y": {
          "bdata": "lmaNiwWS6j8SPIMqCmHrPxcLJLVMOeo/E/88RuQl6z8XCyS1TDnqP5MdYDh3Q+s/FML2Yb7q6j+U4BlUUQjrPxWFsH2Yr+o/JXgGVRTC5j8=",
          "dtype": "f8"
         },
         "yaxis": "y"
        },
        {
         "hoverinfo": "skip",
         "line": {
          "color": "red",
          "width": 2
         },
         "mode": "lines",
         "showlegend": false,
         "type": "scatter",
         "x": {
          "bdata": "AAAAAAAA8D8AAAAAAAAQQAAAAAAAACBAAAAAAAAAMEAAAAAAAABAQAAAAAAAAFBAAAAAAAAAYEAAAAAAAABwQAAAAAAAAIBAAAAAAAAAkEA=",
          "dtype": "f8"
         },
         "y": {
          "bdata": "lmaNiwWS6j8SPIMqCmHrPxcLJLVMOeo/E/88RuQl6z8XCyS1TDnqP5MdYDh3Q+s/FML2Yb7q6j+U4BlUUQjrPxWFsH2Yr+o/JXgGVRTC5j8=",
          "dtype": "f8"
         }
        },
        {
         "hovertemplate": "method=full_finetuning<br>accuracy=%{y:.3f}<extra></extra>",
         "line": {
          "color": "black",
          "dash": "dot",
          "width": 2
         },
         "mode": "lines",
         "name": "full_finetuning",
         "type": "scatter",
         "x": [
          1,
          1024
         ],
         "y": [
          0.8194945848375451,
          0.8194945848375451
         ]
        }
       ],
       "layout": {
        "legend": {
         "title": {
          "text": "Method"
         },
         "tracegroupgap": 0
        },
        "margin": {
         "b": 60,
         "l": 60,
         "r": 20,
         "t": 60
        },
        "template": {
         "data": {
          "bar": [
           {
            "error_x": {
             "color": "#2a3f5f"
            },
            "error_y": {
             "color": "#2a3f5f"
            },
            "marker": {
             "line": {
              "color": "#E5ECF6",
              "width": 0.5
             },
             "pattern": {
              "fillmode": "overlay",
              "size": 10,
              "solidity": 0.2
             }
            },
            "type": "bar"
           }
          ],
          "barpolar": [
           {
            "marker": {
             "line": {
              "color": "#E5ECF6",
              "width": 0.5
             },
             "pattern": {
              "fillmode": "overlay",
              "size": 10,
              "solidity": 0.2
             }
            },
            "type": "barpolar"
           }
          ],
          "carpet": [
           {
            "aaxis": {
             "endlinecolor": "#2a3f5f",
             "gridcolor": "white",
             "linecolor": "white",
             "minorgridcolor": "white",
             "startlinecolor": "#2a3f5f"
            },
            "baxis": {
             "endlinecolor": "#2a3f5f",
             "gridcolor": "white",
             "linecolor": "white",
             "minorgridcolor": "white",
             "startlinecolor": "#2a3f5f"
            },
            "type": "carpet"
           }
          ],
          "choropleth": [
           {
            "colorbar": {
             "outlinewidth": 0,
             "ticks": ""
            },
            "type": "choropleth"
           }
          ],
          "contour": [
           {
            "colorbar": {
             "outlinewidth": 0,
             "ticks": ""
            },
            "colorscale": [
             [
              0,
              "#0d0887"
             ],
             [
              0.1111111111111111,
              "#46039f"
             ],
             [
              0.2222222222222222,
              "#7201a8"
             ],
             [
              0.3333333333333333,
              "#9c179e"
             ],
             [
              0.4444444444444444,
              "#bd3786"
             ],
             [
              0.5555555555555556,
              "#d8576b"
             ],
             [
              0.6666666666666666,
              "#ed7953"
             ],
             [
              0.7777777777777778,
              "#fb9f3a"
             ],
             [
              0.8888888888888888,
              "#fdca26"
             ],
             [
              1,
              "#f0f921"
             ]
            ],
            "type": "contour"
           }
          ],
          "contourcarpet": [
           {
            "colorbar": {
             "outlinewidth": 0,
             "ticks": ""
            },
            "type": "contourcarpet"
           }
          ],
          "heatmap": [
           {
            "colorbar": {
             "outlinewidth": 0,
             "ticks": ""
            },
            "colorscale": [
             [
              0,
              "#0d0887"
             ],
             [
              0.1111111111111111,
              "#46039f"
             ],
             [
              0.2222222222222222,
              "#7201a8"
             ],
             [
              0.3333333333333333,
              "#9c179e"
             ],
             [
              0.4444444444444444,
              "#bd3786"
             ],
             [
              0.5555555555555556,
              "#d8576b"
             ],
             [
              0.6666666666666666,
              "#ed7953"
             ],
             [
              0.7777777777777778,
              "#fb9f3a"
             ],
             [
              0.8888888888888888,
              "#fdca26"
             ],
             [
              1,
              "#f0f921"
             ]
            ],
            "type": "heatmap"
           }
          ],
          "histogram": [
           {
            "marker": {
             "pattern": {
              "fillmode": "overlay",
              "size": 10,
              "solidity": 0.2
             }
            },
            "type": "histogram"
           }
          ],
          "histogram2d": [
           {
            "colorbar": {
             "outlinewidth": 0,
             "ticks": ""
            },
            "colorscale": [
             [
              0,
              "#0d0887"
             ],
             [
              0.1111111111111111,
              "#46039f"
             ],
             [
              0.2222222222222222,
              "#7201a8"
             ],
             [
              0.3333333333333333,
              "#9c179e"
             ],
             [
              0.4444444444444444,
              "#bd3786"
             ],
             [
              0.5555555555555556,
              "#d8576b"
             ],
             [
              0.6666666666666666,
              "#ed7953"
             ],
             [
              0.7777777777777778,
              "#fb9f3a"
             ],
             [
              0.8888888888888888,
              "#fdca26"
             ],
             [
              1,
              "#f0f921"
             ]
            ],
            "type": "histogram2d"
           }
          ],
          "histogram2dcontour": [
           {
            "colorbar": {
             "outlinewidth": 0,
             "ticks": ""
            },
            "colorscale": [
             [
              0,
              "#0d0887"
             ],
             [
              0.1111111111111111,
              "#46039f"
             ],
             [
              0.2222222222222222,
              "#7201a8"
             ],
             [
              0.3333333333333333,
              "#9c179e"
             ],
             [
              0.4444444444444444,
              "#bd3786"
             ],
             [
              0.5555555555555556,
              "#d8576b"
             ],
             [
              0.6666666666666666,
              "#ed7953"
             ],
             [
              0.7777777777777778,
              "#fb9f3a"
             ],
             [
              0.8888888888888888,
              "#fdca26"
             ],
             [
              1,
              "#f0f921"
             ]
            ],
            "type": "histogram2dcontour"
           }
          ],
          "mesh3d": [
           {
            "colorbar": {
             "outlinewidth": 0,
             "ticks": ""
            },
            "type": "mesh3d"
           }
          ],
          "parcoords": [
           {
            "line": {
             "colorbar": {
              "outlinewidth": 0,
              "ticks": ""
             }
            },
            "type": "parcoords"
           }
          ],
          "pie": [
           {
            "automargin": true,
            "type": "pie"
           }
          ],
          "scatter": [
           {
            "fillpattern": {
             "fillmode": "overlay",
             "size": 10,
             "solidity": 0.2
            },
            "type": "scatter"
           }
          ],
          "scatter3d": [
           {
            "line": {
             "colorbar": {
              "outlinewidth": 0,
              "ticks": ""
             }
            },
            "marker": {
             "colorbar": {
              "outlinewidth": 0,
              "ticks": ""
             }
            },
            "type": "scatter3d"
           }
          ],
          "scattercarpet": [
           {
            "marker": {
             "colorbar": {
              "outlinewidth": 0,
              "ticks": ""
             }
            },
            "type": "scattercarpet"
           }
          ],
          "scattergeo": [
           {
            "marker": {
             "colorbar": {
              "outlinewidth": 0,
              "ticks": ""
             }
            },
            "type": "scattergeo"
           }
          ],
          "scattergl": [
           {
            "marker": {
             "colorbar": {
              "outlinewidth": 0,
              "ticks": ""
             }
            },
            "type": "scattergl"
           }
          ],
          "scattermap": [
           {
            "marker": {
             "colorbar": {
              "outlinewidth": 0,
              "ticks": ""
             }
            },
            "type": "scattermap"
           }
          ],
          "scattermapbox": [
           {
            "marker": {
             "colorbar": {
              "outlinewidth": 0,
              "ticks": ""
             }
            },
            "type": "scattermapbox"
           }
          ],
          "scatterpolar": [
           {
            "marker": {
             "colorbar": {
              "outlinewidth": 0,
              "ticks": ""
             }
            },
            "type": "scatterpolar"
           }
          ],
          "scatterpolargl": [
           {
            "marker": {
             "colorbar": {
              "outlinewidth": 0,
              "ticks": ""
             }
            },
            "type": "scatterpolargl"
           }
          ],
          "scatterternary": [
           {
            "marker": {
             "colorbar": {
              "outlinewidth": 0,
              "ticks": ""
             }
            },
            "type": "scatterternary"
           }
          ],
          "surface": [
           {
            "colorbar": {
             "outlinewidth": 0,
             "ticks": ""
            },
            "colorscale": [
             [
              0,
              "#0d0887"
             ],
             [
              0.1111111111111111,
              "#46039f"
             ],
             [
              0.2222222222222222,
              "#7201a8"
             ],
             [
              0.3333333333333333,
              "#9c179e"
             ],
             [
              0.4444444444444444,
              "#bd3786"
             ],
             [
              0.5555555555555556,
              "#d8576b"
             ],
             [
              0.6666666666666666,
              "#ed7953"
             ],
             [
              0.7777777777777778,
              "#fb9f3a"
             ],
             [
              0.8888888888888888,
              "#fdca26"
             ],
             [
              1,
              "#f0f921"
             ]
            ],
            "type": "surface"
           }
          ],
          "table": [
           {
            "cells": {
             "fill": {
              "color": "#EBF0F8"
             },
             "line": {
              "color": "white"
             }
            },
            "header": {
             "fill": {
              "color": "#C8D4E3"
             },
             "line": {
              "color": "white"
             }
            },
            "type": "table"
           }
          ]
         },
         "layout": {
          "annotationdefaults": {
           "arrowcolor": "#2a3f5f",
           "arrowhead": 0,
           "arrowwidth": 1
          },
          "autotypenumbers": "strict",
          "coloraxis": {
           "colorbar": {
            "outlinewidth": 0,
            "ticks": ""
           }
          },
          "colorscale": {
           "diverging": [
            [
             0,
             "#8e0152"
            ],
            [
             0.1,
             "#c51b7d"
            ],
            [
             0.2,
             "#de77ae"
            ],
            [
             0.3,
             "#f1b6da"
            ],
            [
             0.4,
             "#fde0ef"
            ],
            [
             0.5,
             "#f7f7f7"
            ],
            [
             0.6,
             "#e6f5d0"
            ],
            [
             0.7,
             "#b8e186"
            ],
            [
             0.8,
             "#7fbc41"
            ],
            [
             0.9,
             "#4d9221"
            ],
            [
             1,
             "#276419"
            ]
           ],
           "sequential": [
            [
             0,
             "#0d0887"
            ],
            [
             0.1111111111111111,
             "#46039f"
            ],
            [
             0.2222222222222222,
             "#7201a8"
            ],
            [
             0.3333333333333333,
             "#9c179e"
            ],
            [
             0.4444444444444444,
             "#bd3786"
            ],
            [
             0.5555555555555556,
             "#d8576b"
            ],
            [
             0.6666666666666666,
             "#ed7953"
            ],
            [
             0.7777777777777778,
             "#fb9f3a"
            ],
            [
             0.8888888888888888,
             "#fdca26"
            ],
            [
             1,
             "#f0f921"
            ]
           ],
           "sequentialminus": [
            [
             0,
             "#0d0887"
            ],
            [
             0.1111111111111111,
             "#46039f"
            ],
            [
             0.2222222222222222,
             "#7201a8"
            ],
            [
             0.3333333333333333,
             "#9c179e"
            ],
            [
             0.4444444444444444,
             "#bd3786"
            ],
            [
             0.5555555555555556,
             "#d8576b"
            ],
            [
             0.6666666666666666,
             "#ed7953"
            ],
            [
             0.7777777777777778,
             "#fb9f3a"
            ],
            [
             0.8888888888888888,
             "#fdca26"
            ],
            [
             1,
             "#f0f921"
            ]
           ]
          },
          "colorway": [
           "#636efa",
           "#EF553B",
           "#00cc96",
           "#ab63fa",
           "#FFA15A",
           "#19d3f3",
           "#FF6692",
           "#B6E880",
           "#FF97FF",
           "#FECB52"
          ],
          "font": {
           "color": "#2a3f5f"
          },
          "geo": {
           "bgcolor": "white",
           "lakecolor": "white",
           "landcolor": "#E5ECF6",
           "showlakes": true,
           "showland": true,
           "subunitcolor": "white"
          },
          "hoverlabel": {
           "align": "left"
          },
          "hovermode": "closest",
          "mapbox": {
           "style": "light"
          },
          "paper_bgcolor": "white",
          "plot_bgcolor": "#E5ECF6",
          "polar": {
           "angularaxis": {
            "gridcolor": "white",
            "linecolor": "white",
            "ticks": ""
           },
           "bgcolor": "#E5ECF6",
           "radialaxis": {
            "gridcolor": "white",
            "linecolor": "white",
            "ticks": ""
           }
          },
          "scene": {
           "xaxis": {
            "backgroundcolor": "#E5ECF6",
            "gridcolor": "white",
            "gridwidth": 2,
            "linecolor": "white",
            "showbackground": true,
            "ticks": "",
            "zerolinecolor": "white"
           },
           "yaxis": {
            "backgroundcolor": "#E5ECF6",
            "gridcolor": "white",
            "gridwidth": 2,
            "linecolor": "white",
            "showbackground": true,
            "ticks": "",
            "zerolinecolor": "white"
           },
           "zaxis": {
            "backgroundcolor": "#E5ECF6",
            "gridcolor": "white",
            "gridwidth": 2,
            "linecolor": "white",
            "showbackground": true,
            "ticks": "",
            "zerolinecolor": "white"
           }
          },
          "shapedefaults": {
           "line": {
            "color": "#2a3f5f"
           }
          },
          "ternary": {
           "aaxis": {
            "gridcolor": "white",
            "linecolor": "white",
            "ticks": ""
           },
           "baxis": {
            "gridcolor": "white",
            "linecolor": "white",
            "ticks": ""
           },
           "bgcolor": "#E5ECF6",
           "caxis": {
            "gridcolor": "white",
            "linecolor": "white",
            "ticks": ""
           }
          },
          "title": {
           "x": 0.05
          },
          "xaxis": {
           "automargin": true,
           "gridcolor": "white",
           "linecolor": "white",
           "ticks": "",
           "title": {
            "standoff": 15
           },
           "zerolinecolor": "white",
           "zerolinewidth": 2
          },
          "yaxis": {
           "automargin": true,
           "gridcolor": "white",
           "linecolor": "white",
           "ticks": "",
           "title": {
            "standoff": 15
           },
           "zerolinecolor": "white",
           "zerolinewidth": 2
          }
         }
        },
        "title": {
         "text": "rte · roberta-large · LoRA Rank vs Accuracy @ Epoch 5"
        },
        "xaxis": {
         "anchor": "y",
         "domain": [
          0,
          1
         ],
         "title": {
          "text": "LoRA rank"
         }
        },
        "yaxis": {
         "anchor": "x",
         "domain": [
          0,
          1
         ],
         "title": {
          "text": "accuracy"
         }
        }
       }
      }
     },
     "metadata": {},
     "output_type": "display_data"
    }
   ],
   "source": [
    "# === Config ===\n",
    "ROOT = \"./glue_results_final\"\n",
    "TASK = \"rte\"\n",
    "MODEL = \"roberta-large\"        # \"roberta-base\" or \"roberta-large\"\n",
    "METHOD_TO_SHOW = \"lora\"     # \"lora\" or \"rslora\"\n",
    "\n",
    "# === Code ===\n",
    "from pathlib import Path\n",
    "import re\n",
    "import pandas as pd\n",
    "import plotly.express as px\n",
    "import plotly.graph_objects as go\n",
    "\n",
    "def parse_rank(name: str):\n",
    "    m = re.search(r\"_r(\\d+)_\", name)\n",
    "    return int(m.group(1)) if m else None\n",
    "\n",
    "def read_eval(csv_path: Path):\n",
    "    try:\n",
    "        df = pd.read_csv(csv_path)\n",
    "    except Exception:\n",
    "        return None\n",
    "    if \"eval_accuracy\" in df.columns and \"accuracy\" not in df.columns:\n",
    "        df = df.rename(columns={\"eval_accuracy\":\"accuracy\"})\n",
    "    if \"epoch\" not in df.columns:\n",
    "        df = df.reset_index().rename(columns={\"index\":\"epoch\"})\n",
    "        df[\"epoch\"] = df[\"epoch\"] + 1\n",
    "    df = df[df[\"epoch\"].astype(float).between(1,5)].sort_values(\"epoch\")\n",
    "    return df\n",
    "\n",
    "def epoch5_accuracy(df):\n",
    "    row = df[df[\"epoch\"].astype(float) == 5.0]\n",
    "    if not row.empty:\n",
    "        return float(row[\"accuracy\"].iloc[-1])\n",
    "    return float(df[\"accuracy\"].iloc[-1]) if not df.empty else None\n",
    "\n",
    "def load_points(root, task, model, method):\n",
    "    base = Path(root)/task/model\n",
    "    rows = []\n",
    "\n",
    "    # full fine-tuning\n",
    "    mdir = base/\"full_finetuning\"\n",
    "    if mdir.exists():\n",
    "        for run in mdir.iterdir():\n",
    "            if run.is_dir() and run.name.endswith(\"_best_accuracy\"):\n",
    "                df = read_eval(run/\"eval_per_epoch.csv\")\n",
    "                if df is not None and \"accuracy\" in df.columns:\n",
    "                    acc = epoch5_accuracy(df)\n",
    "                    if acc is not None:\n",
    "                        rows.append({\"method\":\"full_finetuning\",\"rank\":None,\"run_name\":run.name,\"accuracy\":acc})\n",
    "\n",
    "    # chosen method (lora or rslora)\n",
    "    mdir = base/method\n",
    "    if mdir.exists():\n",
    "        for run in mdir.iterdir():\n",
    "            if run.is_dir() and run.name.endswith(\"_best_accuracy\"):\n",
    "                rk = parse_rank(run.name)\n",
    "                df = read_eval(run/\"eval_per_epoch.csv\")\n",
    "                if rk is not None and df is not None and \"accuracy\" in df.columns:\n",
    "                    acc = epoch5_accuracy(df)\n",
    "                    if acc is not None:\n",
    "                        rows.append({\"method\":method,\"rank\":rk,\"run_name\":run.name,\"accuracy\":acc})\n",
    "    return pd.DataFrame(rows)\n",
    "\n",
    "# ---- build figure (dynamic axes) ----\n",
    "df = load_points(ROOT, TASK, MODEL, METHOD_TO_SHOW)\n",
    "if df.empty:\n",
    "    raise SystemExit(\"No runs found.\")\n",
    "\n",
    "meth_df = df[df[\"method\"]==METHOD_TO_SHOW].dropna(subset=[\"rank\"]).sort_values(\"rank\")\n",
    "if meth_df.empty:\n",
    "    raise SystemExit(f\"No {METHOD_TO_SHOW} ranks found.\")\n",
    "\n",
    "# dynamic ranks list for THIS model/method\n",
    "ranks = meth_df[\"rank\"].astype(int).tolist()\n",
    "xmin, xmax = min(ranks), max(ranks)\n",
    "\n",
    "# full-FT baseline\n",
    "ft_acc = df.loc[df[\"method\"]==\"full_finetuning\",\"accuracy\"].mean()\n",
    "\n",
    "# color per method\n",
    "method_color = {\"lora\":\"red\", \"rslora\":\"green\"}\n",
    "line_color = method_color[METHOD_TO_SHOW]\n",
    "title_method = \"LoRA\" if METHOD_TO_SHOW==\"lora\" else \"RSLoRA\"\n",
    "\n",
    "# points\n",
    "fig = px.scatter(\n",
    "    meth_df, x=\"rank\", y=\"accuracy\",\n",
    "    color=\"method\", symbol=\"method\",\n",
    "    color_discrete_map={METHOD_TO_SHOW: line_color},\n",
    "    hover_data=[],  # keep hover clean\n",
    "    title=f\"{TASK} · {MODEL} · {title_method} Rank vs Accuracy @ Epoch 5\",\n",
    "    labels={\"rank\":f\"{title_method} rank\", \"accuracy\":\"accuracy\"}\n",
    ")\n",
    "\n",
    "# trend line (no legend)\n",
    "fig.add_trace(go.Scatter(\n",
    "    x=meth_df[\"rank\"], y=meth_df[\"accuracy\"],\n",
    "    mode=\"lines\",\n",
    "    line=dict(color=line_color, width=2),\n",
    "    hoverinfo=\"skip\",\n",
    "    showlegend=False\n",
    "))\n",
    "\n",
    "# full-FT as proper legend trace\n",
    "if pd.notna(ft_acc):\n",
    "    fig.add_trace(go.Scatter(\n",
    "        x=[xmin, xmax],\n",
    "        y=[ft_acc, ft_acc],\n",
    "        mode=\"lines\",\n",
    "        name=\"full_finetuning\",\n",
    "        line=dict(color=\"black\", dash=\"dot\", width=2),\n",
    "        hovertemplate=\"method=full_finetuning<br>accuracy=%{y:.3f}<extra></extra>\",\n",
    "    ))\n",
    "\n",
    "\n",
    "fig.update_layout(\n",
    "    xaxis_title=f\"{title_method} rank\",\n",
    "    yaxis_title=\"accuracy\",\n",
    "    legend_title_text=\"Method\",\n",
    "    margin=dict(l=60, r=20, t=60, b=60),\n",
    ")\n",
    "\n",
    "fig\n"
   ]
  },
  {
   "cell_type": "code",
   "execution_count": 71,
   "id": "90fa763c",
   "metadata": {},
   "outputs": [
    {
     "data": {
      "text/html": [
       "<div>\n",
       "<style scoped>\n",
       "    .dataframe tbody tr th:only-of-type {\n",
       "        vertical-align: middle;\n",
       "    }\n",
       "\n",
       "    .dataframe tbody tr th {\n",
       "        vertical-align: top;\n",
       "    }\n",
       "\n",
       "    .dataframe thead th {\n",
       "        text-align: right;\n",
       "    }\n",
       "</style>\n",
       "<table border=\"1\" class=\"dataframe\">\n",
       "  <thead>\n",
       "    <tr style=\"text-align: right;\">\n",
       "      <th></th>\n",
       "      <th>method</th>\n",
       "      <th>rank</th>\n",
       "      <th>run_name</th>\n",
       "      <th>accuracy</th>\n",
       "    </tr>\n",
       "  </thead>\n",
       "  <tbody>\n",
       "    <tr>\n",
       "      <th>0</th>\n",
       "      <td>full_finetuning</td>\n",
       "      <td>NaN</td>\n",
       "      <td>full_finetuning_lr1e-05_best_accuracy</td>\n",
       "      <td>0.819495</td>\n",
       "    </tr>\n",
       "    <tr>\n",
       "      <th>1</th>\n",
       "      <td>lora</td>\n",
       "      <td>1.0</td>\n",
       "      <td>lora_r1_alpha1_lr0.001_best_accuracy</td>\n",
       "      <td>0.830325</td>\n",
       "    </tr>\n",
       "    <tr>\n",
       "      <th>2</th>\n",
       "      <td>lora</td>\n",
       "      <td>16.0</td>\n",
       "      <td>lora_r16_alpha16_lr0.00031622776601683794_best...</td>\n",
       "      <td>0.848375</td>\n",
       "    </tr>\n",
       "    <tr>\n",
       "      <th>3</th>\n",
       "      <td>lora</td>\n",
       "      <td>32.0</td>\n",
       "      <td>lora_r32_alpha32_lr0.0001_best_accuracy</td>\n",
       "      <td>0.819495</td>\n",
       "    </tr>\n",
       "    <tr>\n",
       "      <th>4</th>\n",
       "      <td>lora</td>\n",
       "      <td>8.0</td>\n",
       "      <td>lora_r8_alpha8_lr0.00031622776601683794_best_a...</td>\n",
       "      <td>0.819495</td>\n",
       "    </tr>\n",
       "    <tr>\n",
       "      <th>5</th>\n",
       "      <td>lora</td>\n",
       "      <td>1024.0</td>\n",
       "      <td>lora_r1024_alpha1024_lr1.77827941e-05_best_acc...</td>\n",
       "      <td>0.711191</td>\n",
       "    </tr>\n",
       "    <tr>\n",
       "      <th>6</th>\n",
       "      <td>lora</td>\n",
       "      <td>128.0</td>\n",
       "      <td>lora_r128_alpha128_lr5.623413251903491e-05_bes...</td>\n",
       "      <td>0.841155</td>\n",
       "    </tr>\n",
       "    <tr>\n",
       "      <th>7</th>\n",
       "      <td>lora</td>\n",
       "      <td>4.0</td>\n",
       "      <td>lora_r4_alpha4_lr0.001_best_accuracy</td>\n",
       "      <td>0.855596</td>\n",
       "    </tr>\n",
       "    <tr>\n",
       "      <th>8</th>\n",
       "      <td>lora</td>\n",
       "      <td>64.0</td>\n",
       "      <td>lora_r64_alpha64_lr0.00031622776601683794_best...</td>\n",
       "      <td>0.851986</td>\n",
       "    </tr>\n",
       "    <tr>\n",
       "      <th>9</th>\n",
       "      <td>lora</td>\n",
       "      <td>256.0</td>\n",
       "      <td>lora_r256_alpha256_lr3.1622776601683795e-05_be...</td>\n",
       "      <td>0.844765</td>\n",
       "    </tr>\n",
       "    <tr>\n",
       "      <th>10</th>\n",
       "      <td>lora</td>\n",
       "      <td>512.0</td>\n",
       "      <td>lora_r512_alpha512_lr1.778279410038923e-05_bes...</td>\n",
       "      <td>0.833935</td>\n",
       "    </tr>\n",
       "  </tbody>\n",
       "</table>\n",
       "</div>"
      ],
      "text/plain": [
       "             method    rank  \\\n",
       "0   full_finetuning     NaN   \n",
       "1              lora     1.0   \n",
       "2              lora    16.0   \n",
       "3              lora    32.0   \n",
       "4              lora     8.0   \n",
       "5              lora  1024.0   \n",
       "6              lora   128.0   \n",
       "7              lora     4.0   \n",
       "8              lora    64.0   \n",
       "9              lora   256.0   \n",
       "10             lora   512.0   \n",
       "\n",
       "                                             run_name  accuracy  \n",
       "0               full_finetuning_lr1e-05_best_accuracy  0.819495  \n",
       "1                lora_r1_alpha1_lr0.001_best_accuracy  0.830325  \n",
       "2   lora_r16_alpha16_lr0.00031622776601683794_best...  0.848375  \n",
       "3             lora_r32_alpha32_lr0.0001_best_accuracy  0.819495  \n",
       "4   lora_r8_alpha8_lr0.00031622776601683794_best_a...  0.819495  \n",
       "5   lora_r1024_alpha1024_lr1.77827941e-05_best_acc...  0.711191  \n",
       "6   lora_r128_alpha128_lr5.623413251903491e-05_bes...  0.841155  \n",
       "7                lora_r4_alpha4_lr0.001_best_accuracy  0.855596  \n",
       "8   lora_r64_alpha64_lr0.00031622776601683794_best...  0.851986  \n",
       "9   lora_r256_alpha256_lr3.1622776601683795e-05_be...  0.844765  \n",
       "10  lora_r512_alpha512_lr1.778279410038923e-05_bes...  0.833935  "
      ]
     },
     "execution_count": 71,
     "metadata": {},
     "output_type": "execute_result"
    }
   ],
   "source": [
    "df"
   ]
  },
  {
   "cell_type": "code",
   "execution_count": null,
   "id": "c736d621",
   "metadata": {},
   "outputs": [
    {
     "data": {
      "text/html": [
       "<div>\n",
       "<style scoped>\n",
       "    .dataframe tbody tr th:only-of-type {\n",
       "        vertical-align: middle;\n",
       "    }\n",
       "\n",
       "    .dataframe tbody tr th {\n",
       "        vertical-align: top;\n",
       "    }\n",
       "\n",
       "    .dataframe thead th {\n",
       "        text-align: right;\n",
       "    }\n",
       "</style>\n",
       "<table border=\"1\" class=\"dataframe\">\n",
       "  <thead>\n",
       "    <tr style=\"text-align: right;\">\n",
       "      <th></th>\n",
       "      <th>task</th>\n",
       "      <th>model</th>\n",
       "      <th>method</th>\n",
       "      <th>rank</th>\n",
       "      <th>run_name</th>\n",
       "      <th>epoch</th>\n",
       "      <th>eval_loss</th>\n",
       "      <th>eval_accuracy</th>\n",
       "      <th>eval_runtime</th>\n",
       "      <th>eval_samples_per_second</th>\n",
       "      <th>eval_steps_per_second</th>\n",
       "      <th>eval_csv</th>\n",
       "      <th>train_loss</th>\n",
       "      <th>train_csv</th>\n",
       "      <th>eval_csv</th>\n",
       "      <th>train_csv</th>\n",
       "    </tr>\n",
       "  </thead>\n",
       "  <tbody>\n",
       "    <tr>\n",
       "      <th>0</th>\n",
       "      <td>rte</td>\n",
       "      <td>roberta-large</td>\n",
       "      <td>full_finetuning</td>\n",
       "      <td>NaN</td>\n",
       "      <td>full_finetuning_lr1e-05_best_accuracy</td>\n",
       "      <td>1.0</td>\n",
       "      <td>0.698951</td>\n",
       "      <td>0.476534</td>\n",
       "      <td>0.2235</td>\n",
       "      <td>1239.479</td>\n",
       "      <td>22.373</td>\n",
       "      <td>glue_results_final/rte/roberta-large/full_fine...</td>\n",
       "      <td>0.7147</td>\n",
       "      <td>glue_results_final/rte/roberta-large/full_fine...</td>\n",
       "      <td>glue_results_final/rte/roberta-large/full_fine...</td>\n",
       "      <td>glue_results_final/rte/roberta-large/full_fine...</td>\n",
       "    </tr>\n",
       "    <tr>\n",
       "      <th>1</th>\n",
       "      <td>rte</td>\n",
       "      <td>roberta-large</td>\n",
       "      <td>full_finetuning</td>\n",
       "      <td>NaN</td>\n",
       "      <td>full_finetuning_lr1e-05_best_accuracy</td>\n",
       "      <td>2.0</td>\n",
       "      <td>0.545070</td>\n",
       "      <td>0.740072</td>\n",
       "      <td>0.2315</td>\n",
       "      <td>1196.702</td>\n",
       "      <td>21.601</td>\n",
       "      <td>glue_results_final/rte/roberta-large/full_fine...</td>\n",
       "      <td>0.6438</td>\n",
       "      <td>glue_results_final/rte/roberta-large/full_fine...</td>\n",
       "      <td>glue_results_final/rte/roberta-large/full_fine...</td>\n",
       "      <td>glue_results_final/rte/roberta-large/full_fine...</td>\n",
       "    </tr>\n",
       "    <tr>\n",
       "      <th>2</th>\n",
       "      <td>rte</td>\n",
       "      <td>roberta-large</td>\n",
       "      <td>full_finetuning</td>\n",
       "      <td>NaN</td>\n",
       "      <td>full_finetuning_lr1e-05_best_accuracy</td>\n",
       "      <td>3.0</td>\n",
       "      <td>0.420702</td>\n",
       "      <td>0.805054</td>\n",
       "      <td>0.2358</td>\n",
       "      <td>1174.666</td>\n",
       "      <td>21.203</td>\n",
       "      <td>glue_results_final/rte/roberta-large/full_fine...</td>\n",
       "      <td>0.4443</td>\n",
       "      <td>glue_results_final/rte/roberta-large/full_fine...</td>\n",
       "      <td>glue_results_final/rte/roberta-large/full_fine...</td>\n",
       "      <td>glue_results_final/rte/roberta-large/full_fine...</td>\n",
       "    </tr>\n",
       "    <tr>\n",
       "      <th>3</th>\n",
       "      <td>rte</td>\n",
       "      <td>roberta-large</td>\n",
       "      <td>full_finetuning</td>\n",
       "      <td>NaN</td>\n",
       "      <td>full_finetuning_lr1e-05_best_accuracy</td>\n",
       "      <td>4.0</td>\n",
       "      <td>0.413439</td>\n",
       "      <td>0.833935</td>\n",
       "      <td>0.2260</td>\n",
       "      <td>1225.847</td>\n",
       "      <td>22.127</td>\n",
       "      <td>glue_results_final/rte/roberta-large/full_fine...</td>\n",
       "      <td>0.2840</td>\n",
       "      <td>glue_results_final/rte/roberta-large/full_fine...</td>\n",
       "      <td>glue_results_final/rte/roberta-large/full_fine...</td>\n",
       "      <td>glue_results_final/rte/roberta-large/full_fine...</td>\n",
       "    </tr>\n",
       "    <tr>\n",
       "      <th>4</th>\n",
       "      <td>rte</td>\n",
       "      <td>roberta-large</td>\n",
       "      <td>full_finetuning</td>\n",
       "      <td>NaN</td>\n",
       "      <td>full_finetuning_lr1e-05_best_accuracy</td>\n",
       "      <td>5.0</td>\n",
       "      <td>0.515210</td>\n",
       "      <td>0.819495</td>\n",
       "      <td>0.2385</td>\n",
       "      <td>1161.564</td>\n",
       "      <td>20.967</td>\n",
       "      <td>glue_results_final/rte/roberta-large/full_fine...</td>\n",
       "      <td>0.1889</td>\n",
       "      <td>glue_results_final/rte/roberta-large/full_fine...</td>\n",
       "      <td>glue_results_final/rte/roberta-large/full_fine...</td>\n",
       "      <td>glue_results_final/rte/roberta-large/full_fine...</td>\n",
       "    </tr>\n",
       "    <tr>\n",
       "      <th>...</th>\n",
       "      <td>...</td>\n",
       "      <td>...</td>\n",
       "      <td>...</td>\n",
       "      <td>...</td>\n",
       "      <td>...</td>\n",
       "      <td>...</td>\n",
       "      <td>...</td>\n",
       "      <td>...</td>\n",
       "      <td>...</td>\n",
       "      <td>...</td>\n",
       "      <td>...</td>\n",
       "      <td>...</td>\n",
       "      <td>...</td>\n",
       "      <td>...</td>\n",
       "      <td>...</td>\n",
       "      <td>...</td>\n",
       "    </tr>\n",
       "    <tr>\n",
       "      <th>55</th>\n",
       "      <td>rte</td>\n",
       "      <td>roberta-large</td>\n",
       "      <td>rslora</td>\n",
       "      <td>1024.0</td>\n",
       "      <td>rslora_r1024_alpha1024_lr0.0001_best_accuracy</td>\n",
       "      <td>1.0</td>\n",
       "      <td>0.691954</td>\n",
       "      <td>0.527076</td>\n",
       "      <td>1.5799</td>\n",
       "      <td>175.323</td>\n",
       "      <td>3.165</td>\n",
       "      <td>glue_results_final/rte/roberta-large/rslora/rs...</td>\n",
       "      <td>0.7561</td>\n",
       "      <td>glue_results_final/rte/roberta-large/rslora/rs...</td>\n",
       "      <td>glue_results_final/rte/roberta-large/rslora/rs...</td>\n",
       "      <td>glue_results_final/rte/roberta-large/rslora/rs...</td>\n",
       "    </tr>\n",
       "    <tr>\n",
       "      <th>56</th>\n",
       "      <td>rte</td>\n",
       "      <td>roberta-large</td>\n",
       "      <td>rslora</td>\n",
       "      <td>1024.0</td>\n",
       "      <td>rslora_r1024_alpha1024_lr0.0001_best_accuracy</td>\n",
       "      <td>2.0</td>\n",
       "      <td>0.693571</td>\n",
       "      <td>0.472924</td>\n",
       "      <td>1.6385</td>\n",
       "      <td>169.055</td>\n",
       "      <td>3.052</td>\n",
       "      <td>glue_results_final/rte/roberta-large/rslora/rs...</td>\n",
       "      <td>0.7087</td>\n",
       "      <td>glue_results_final/rte/roberta-large/rslora/rs...</td>\n",
       "      <td>glue_results_final/rte/roberta-large/rslora/rs...</td>\n",
       "      <td>glue_results_final/rte/roberta-large/rslora/rs...</td>\n",
       "    </tr>\n",
       "    <tr>\n",
       "      <th>57</th>\n",
       "      <td>rte</td>\n",
       "      <td>roberta-large</td>\n",
       "      <td>rslora</td>\n",
       "      <td>1024.0</td>\n",
       "      <td>rslora_r1024_alpha1024_lr0.0001_best_accuracy</td>\n",
       "      <td>3.0</td>\n",
       "      <td>0.692899</td>\n",
       "      <td>0.527076</td>\n",
       "      <td>1.5998</td>\n",
       "      <td>173.142</td>\n",
       "      <td>3.125</td>\n",
       "      <td>glue_results_final/rte/roberta-large/rslora/rs...</td>\n",
       "      <td>0.7140</td>\n",
       "      <td>glue_results_final/rte/roberta-large/rslora/rs...</td>\n",
       "      <td>glue_results_final/rte/roberta-large/rslora/rs...</td>\n",
       "      <td>glue_results_final/rte/roberta-large/rslora/rs...</td>\n",
       "    </tr>\n",
       "    <tr>\n",
       "      <th>58</th>\n",
       "      <td>rte</td>\n",
       "      <td>roberta-large</td>\n",
       "      <td>rslora</td>\n",
       "      <td>1024.0</td>\n",
       "      <td>rslora_r1024_alpha1024_lr0.0001_best_accuracy</td>\n",
       "      <td>4.0</td>\n",
       "      <td>0.707320</td>\n",
       "      <td>0.472924</td>\n",
       "      <td>1.7121</td>\n",
       "      <td>161.794</td>\n",
       "      <td>2.920</td>\n",
       "      <td>glue_results_final/rte/roberta-large/rslora/rs...</td>\n",
       "      <td>0.7076</td>\n",
       "      <td>glue_results_final/rte/roberta-large/rslora/rs...</td>\n",
       "      <td>glue_results_final/rte/roberta-large/rslora/rs...</td>\n",
       "      <td>glue_results_final/rte/roberta-large/rslora/rs...</td>\n",
       "    </tr>\n",
       "    <tr>\n",
       "      <th>59</th>\n",
       "      <td>rte</td>\n",
       "      <td>roberta-large</td>\n",
       "      <td>rslora</td>\n",
       "      <td>1024.0</td>\n",
       "      <td>rslora_r1024_alpha1024_lr0.0001_best_accuracy</td>\n",
       "      <td>5.0</td>\n",
       "      <td>0.692083</td>\n",
       "      <td>0.527076</td>\n",
       "      <td>1.6173</td>\n",
       "      <td>171.269</td>\n",
       "      <td>3.092</td>\n",
       "      <td>glue_results_final/rte/roberta-large/rslora/rs...</td>\n",
       "      <td>0.7021</td>\n",
       "      <td>glue_results_final/rte/roberta-large/rslora/rs...</td>\n",
       "      <td>glue_results_final/rte/roberta-large/rslora/rs...</td>\n",
       "      <td>glue_results_final/rte/roberta-large/rslora/rs...</td>\n",
       "    </tr>\n",
       "  </tbody>\n",
       "</table>\n",
       "<p>105 rows × 16 columns</p>\n",
       "</div>"
      ],
      "text/plain": [
       "   task          model           method    rank  \\\n",
       "0   rte  roberta-large  full_finetuning     NaN   \n",
       "1   rte  roberta-large  full_finetuning     NaN   \n",
       "2   rte  roberta-large  full_finetuning     NaN   \n",
       "3   rte  roberta-large  full_finetuning     NaN   \n",
       "4   rte  roberta-large  full_finetuning     NaN   \n",
       "..  ...            ...              ...     ...   \n",
       "55  rte  roberta-large           rslora  1024.0   \n",
       "56  rte  roberta-large           rslora  1024.0   \n",
       "57  rte  roberta-large           rslora  1024.0   \n",
       "58  rte  roberta-large           rslora  1024.0   \n",
       "59  rte  roberta-large           rslora  1024.0   \n",
       "\n",
       "                                         run_name  epoch  eval_loss  \\\n",
       "0           full_finetuning_lr1e-05_best_accuracy    1.0   0.698951   \n",
       "1           full_finetuning_lr1e-05_best_accuracy    2.0   0.545070   \n",
       "2           full_finetuning_lr1e-05_best_accuracy    3.0   0.420702   \n",
       "3           full_finetuning_lr1e-05_best_accuracy    4.0   0.413439   \n",
       "4           full_finetuning_lr1e-05_best_accuracy    5.0   0.515210   \n",
       "..                                            ...    ...        ...   \n",
       "55  rslora_r1024_alpha1024_lr0.0001_best_accuracy    1.0   0.691954   \n",
       "56  rslora_r1024_alpha1024_lr0.0001_best_accuracy    2.0   0.693571   \n",
       "57  rslora_r1024_alpha1024_lr0.0001_best_accuracy    3.0   0.692899   \n",
       "58  rslora_r1024_alpha1024_lr0.0001_best_accuracy    4.0   0.707320   \n",
       "59  rslora_r1024_alpha1024_lr0.0001_best_accuracy    5.0   0.692083   \n",
       "\n",
       "    eval_accuracy  eval_runtime  eval_samples_per_second  \\\n",
       "0        0.476534        0.2235                 1239.479   \n",
       "1        0.740072        0.2315                 1196.702   \n",
       "2        0.805054        0.2358                 1174.666   \n",
       "3        0.833935        0.2260                 1225.847   \n",
       "4        0.819495        0.2385                 1161.564   \n",
       "..            ...           ...                      ...   \n",
       "55       0.527076        1.5799                  175.323   \n",
       "56       0.472924        1.6385                  169.055   \n",
       "57       0.527076        1.5998                  173.142   \n",
       "58       0.472924        1.7121                  161.794   \n",
       "59       0.527076        1.6173                  171.269   \n",
       "\n",
       "    eval_steps_per_second                                           eval_csv  \\\n",
       "0                  22.373  glue_results_final/rte/roberta-large/full_fine...   \n",
       "1                  21.601  glue_results_final/rte/roberta-large/full_fine...   \n",
       "2                  21.203  glue_results_final/rte/roberta-large/full_fine...   \n",
       "3                  22.127  glue_results_final/rte/roberta-large/full_fine...   \n",
       "4                  20.967  glue_results_final/rte/roberta-large/full_fine...   \n",
       "..                    ...                                                ...   \n",
       "55                  3.165  glue_results_final/rte/roberta-large/rslora/rs...   \n",
       "56                  3.052  glue_results_final/rte/roberta-large/rslora/rs...   \n",
       "57                  3.125  glue_results_final/rte/roberta-large/rslora/rs...   \n",
       "58                  2.920  glue_results_final/rte/roberta-large/rslora/rs...   \n",
       "59                  3.092  glue_results_final/rte/roberta-large/rslora/rs...   \n",
       "\n",
       "    train_loss                                          train_csv  \\\n",
       "0       0.7147  glue_results_final/rte/roberta-large/full_fine...   \n",
       "1       0.6438  glue_results_final/rte/roberta-large/full_fine...   \n",
       "2       0.4443  glue_results_final/rte/roberta-large/full_fine...   \n",
       "3       0.2840  glue_results_final/rte/roberta-large/full_fine...   \n",
       "4       0.1889  glue_results_final/rte/roberta-large/full_fine...   \n",
       "..         ...                                                ...   \n",
       "55      0.7561  glue_results_final/rte/roberta-large/rslora/rs...   \n",
       "56      0.7087  glue_results_final/rte/roberta-large/rslora/rs...   \n",
       "57      0.7140  glue_results_final/rte/roberta-large/rslora/rs...   \n",
       "58      0.7076  glue_results_final/rte/roberta-large/rslora/rs...   \n",
       "59      0.7021  glue_results_final/rte/roberta-large/rslora/rs...   \n",
       "\n",
       "                                             eval_csv  \\\n",
       "0   glue_results_final/rte/roberta-large/full_fine...   \n",
       "1   glue_results_final/rte/roberta-large/full_fine...   \n",
       "2   glue_results_final/rte/roberta-large/full_fine...   \n",
       "3   glue_results_final/rte/roberta-large/full_fine...   \n",
       "4   glue_results_final/rte/roberta-large/full_fine...   \n",
       "..                                                ...   \n",
       "55  glue_results_final/rte/roberta-large/rslora/rs...   \n",
       "56  glue_results_final/rte/roberta-large/rslora/rs...   \n",
       "57  glue_results_final/rte/roberta-large/rslora/rs...   \n",
       "58  glue_results_final/rte/roberta-large/rslora/rs...   \n",
       "59  glue_results_final/rte/roberta-large/rslora/rs...   \n",
       "\n",
       "                                            train_csv  \n",
       "0   glue_results_final/rte/roberta-large/full_fine...  \n",
       "1   glue_results_final/rte/roberta-large/full_fine...  \n",
       "2   glue_results_final/rte/roberta-large/full_fine...  \n",
       "3   glue_results_final/rte/roberta-large/full_fine...  \n",
       "4   glue_results_final/rte/roberta-large/full_fine...  \n",
       "..                                                ...  \n",
       "55  glue_results_final/rte/roberta-large/rslora/rs...  \n",
       "56  glue_results_final/rte/roberta-large/rslora/rs...  \n",
       "57  glue_results_final/rte/roberta-large/rslora/rs...  \n",
       "58  glue_results_final/rte/roberta-large/rslora/rs...  \n",
       "59  glue_results_final/rte/roberta-large/rslora/rs...  \n",
       "\n",
       "[105 rows x 16 columns]"
      ]
     },
     "execution_count": 72,
     "metadata": {},
     "output_type": "execute_result"
    }
   ],
   "source": [
    "# === Config ===\n",
    "ROOT  = \"./glue_results_final\"\n",
    "TASK  = \"rte\"                 # e.g., \"rte\", \"mrpc\", \"cola\"\n",
    "MODEL = \"roberta-large\"       # \"roberta-base\" or \"roberta-large\"\n",
    "\n",
    "# === Code ===\n",
    "\n",
    "\n",
    "METHODS = (\"full_finetuning\", \"lora\", \"rslora\")\n",
    "\n",
    "def parse_rank(run_name: str) -> int | None:\n",
    "    m = re.search(r\"_r(\\d+)_\", run_name)\n",
    "    return int(m.group(1)) if m else None\n",
    "\n",
    "def read_eval(csv_path: Path) -> pd.DataFrame | None:\n",
    "    \"\"\"Load eval_per_epoch.csv and normalize columns to eval_* names.\"\"\"\n",
    "    if not csv_path.exists():\n",
    "        return None\n",
    "    try:\n",
    "        df = pd.read_csv(csv_path)\n",
    "    except Exception:\n",
    "        return None\n",
    "\n",
    "    # Normalize common column names\n",
    "    ren = {}\n",
    "    if \"epoch\" not in df.columns:\n",
    "        df = df.reset_index().rename(columns={\"index\": \"epoch\"})\n",
    "        df[\"epoch\"] = df[\"epoch\"] + 1\n",
    "\n",
    "    # map eval_loss / loss -> eval_loss\n",
    "    if \"eval_loss\" in df.columns:\n",
    "        ren[\"eval_loss\"] = \"eval_loss\"\n",
    "    elif \"loss\" in df.columns:\n",
    "        ren[\"loss\"] = \"eval_loss\"\n",
    "\n",
    "    # map eval_accuracy / accuracy -> eval_accuracy\n",
    "    if \"eval_accuracy\" in df.columns:\n",
    "        ren[\"eval_accuracy\"] = \"eval_accuracy\"\n",
    "    elif \"accuracy\" in df.columns:\n",
    "        ren[\"accuracy\"] = \"eval_accuracy\"\n",
    "\n",
    "    # optional speed/runtime fields\n",
    "    if \"runtime\" in df.columns:               ren[\"runtime\"] = \"eval_runtime\"\n",
    "    if \"samples_per_second\" in df.columns:    ren[\"samples_per_second\"] = \"eval_samples_per_second\"\n",
    "    if \"steps_per_second\" in df.columns:      ren[\"steps_per_second\"] = \"eval_steps_per_second\"\n",
    "\n",
    "    if ren:\n",
    "        df = df.rename(columns=ren)\n",
    "\n",
    "    # keep only relevant columns + epoch\n",
    "    keep = [c for c in df.columns if c.startswith(\"eval_\")] + [\"epoch\"]\n",
    "    df = df[keep].copy()\n",
    "    return df.sort_values(\"epoch\")\n",
    "\n",
    "def read_train(csv_path: Path) -> pd.DataFrame | None:\n",
    "    \"\"\"Load train_per_epoch.csv and normalize columns to train_* names.\"\"\"\n",
    "    if not csv_path.exists():\n",
    "        return None\n",
    "    try:\n",
    "        df = pd.read_csv(csv_path)\n",
    "    except Exception:\n",
    "        return None\n",
    "\n",
    "    if \"epoch\" not in df.columns:\n",
    "        df = df.reset_index().rename(columns={\"index\": \"epoch\"})\n",
    "        df[\"epoch\"] = df[\"epoch\"] + 1\n",
    "\n",
    "    # map train_loss / loss -> train_loss\n",
    "    ren = {}\n",
    "    if \"train_loss\" in df.columns:\n",
    "        ren[\"train_loss\"] = \"train_loss\"\n",
    "    elif \"loss\" in df.columns:\n",
    "        ren[\"loss\"] = \"train_loss\"\n",
    "\n",
    "    # optional train_* speed/runtime fields (if present)\n",
    "    for raw, std in [\n",
    "        (\"runtime\", \"train_runtime\"),\n",
    "        (\"samples_per_second\", \"train_samples_per_second\"),\n",
    "        (\"steps_per_second\", \"train_steps_per_second\"),\n",
    "        (\"train_runtime\", \"train_runtime\"),\n",
    "        (\"train_samples_per_second\", \"train_samples_per_second\"),\n",
    "        (\"train_steps_per_second\", \"train_steps_per_second\"),\n",
    "    ]:\n",
    "        if raw in df.columns and std not in ren:\n",
    "            ren[raw] = std\n",
    "\n",
    "    if ren:\n",
    "        df = df.rename(columns=ren)\n",
    "\n",
    "    keep = [c for c in df.columns if c.startswith(\"train_\")] + [\"epoch\"]\n",
    "    df = df[keep].copy()\n",
    "    return df.sort_values(\"epoch\")\n",
    "\n",
    "def collect_metrics_df(root: str, task: str, model: str) -> pd.DataFrame:\n",
    "    \"\"\"\n",
    "    Build a long DataFrame with all epochs for all *_best_accuracy runs of the model.\n",
    "    Columns:\n",
    "      task, model, method, rank, run_name, epoch,\n",
    "      eval_loss, eval_accuracy, eval_runtime, eval_samples_per_second, eval_steps_per_second,\n",
    "      train_loss, train_runtime, train_samples_per_second, train_steps_per_second\n",
    "    Missing fields are left as NaN.\n",
    "    \"\"\"\n",
    "    base = Path(root) / task / model\n",
    "    rows = []\n",
    "\n",
    "    for method in METHODS:\n",
    "        mdir = base / method\n",
    "        if not mdir.exists():\n",
    "            continue\n",
    "\n",
    "        for run in sorted(p for p in mdir.iterdir() if p.is_dir() and p.name.endswith(\"_best_accuracy\")):\n",
    "            rank = parse_rank(run.name) if method != \"full_finetuning\" else None\n",
    "\n",
    "            eval_df = read_eval(run / \"eval_per_epoch.csv\")\n",
    "            train_df = read_train(run / \"train_per_epoch.csv\")\n",
    "\n",
    "            # Merge on epoch (outer to keep whatever exists)\n",
    "            if eval_df is not None and train_df is not None:\n",
    "                merged = pd.merge(eval_df, train_df, on=\"epoch\", how=\"outer\", sort=True)\n",
    "            elif eval_df is not None:\n",
    "                merged = eval_df.copy()\n",
    "            elif train_df is not None:\n",
    "                merged = train_df.copy()\n",
    "            else:\n",
    "                # nothing to record for this run\n",
    "                continue\n",
    "\n",
    "            merged[\"task\"] = task\n",
    "            merged[\"model\"] = model\n",
    "            merged[\"method\"] = method\n",
    "            merged[\"rank\"] = rank\n",
    "            merged[\"run_name\"] = run.name\n",
    "            # Optional: paths for traceability\n",
    "            merged[\"eval_csv\"] = str(run / \"eval_per_epoch.csv\") if (run / \"eval_per_epoch.csv\").exists() else None\n",
    "            merged[\"train_csv\"] = str(run / \"train_per_epoch.csv\") if (run / \"train_per_epoch.csv\").exists() else None\n",
    "\n",
    "            # Numeric coercion\n",
    "            for col in [\"epoch\",\"eval_loss\",\"eval_accuracy\",\"eval_runtime\",\n",
    "                        \"eval_samples_per_second\",\"eval_steps_per_second\",\n",
    "                        \"train_loss\",\"train_runtime\",\"train_samples_per_second\",\"train_steps_per_second\",\"rank\"]:\n",
    "                if col in merged.columns:\n",
    "                    merged[col] = pd.to_numeric(merged[col], errors=\"coerce\")\n",
    "\n",
    "            rows.append(merged)\n",
    "\n",
    "    if not rows:\n",
    "        return pd.DataFrame(columns=[\n",
    "            \"task\",\"model\",\"method\",\"rank\",\"run_name\",\"epoch\",\n",
    "            \"eval_loss\",\"eval_accuracy\",\"eval_runtime\",\"eval_samples_per_second\",\"eval_steps_per_second\",\n",
    "            \"train_loss\",\"train_runtime\",\"train_samples_per_second\",\"train_steps_per_second\",\n",
    "            \"eval_csv\",\"train_csv\"\n",
    "        ])\n",
    "\n",
    "    df_all = pd.concat(rows, ignore_index=True).sort_values([\"method\",\"rank\",\"epoch\"], na_position=\"first\")\n",
    "    # Reorder columns nicely\n",
    "    front = [\"task\",\"model\",\"method\",\"rank\",\"run_name\",\"epoch\"]\n",
    "    eval_cols = [c for c in df_all.columns if c.startswith(\"eval_\")]\n",
    "    train_cols = [c for c in df_all.columns if c.startswith(\"train_\")]\n",
    "    path_cols = [\"eval_csv\",\"train_csv\"] if {\"eval_csv\",\"train_csv\"} <= set(df_all.columns) else []\n",
    "    df_all = df_all[front + eval_cols + train_cols + path_cols]\n",
    "    return df_all\n",
    "\n",
    "# Build it\n",
    "df_all = collect_metrics_df(ROOT, TASK, MODEL)\n",
    "df_all\n",
    "# Optional: save\n",
    "# df_all.to_csv(f\"{TASK}_{MODEL}_metrics_all_epochs.csv\", index=False)\n"
   ]
  },
  {
   "cell_type": "code",
   "execution_count": 90,
   "id": "c6716f69",
   "metadata": {},
   "outputs": [
    {
     "name": "stdout",
     "output_type": "stream",
     "text": [
      "Third epoch summary:\n"
     ]
    },
    {
     "data": {
      "text/html": [
       "<div>\n",
       "<style scoped>\n",
       "    .dataframe tbody tr th:only-of-type {\n",
       "        vertical-align: middle;\n",
       "    }\n",
       "\n",
       "    .dataframe tbody tr th {\n",
       "        vertical-align: top;\n",
       "    }\n",
       "\n",
       "    .dataframe thead th {\n",
       "        text-align: right;\n",
       "    }\n",
       "</style>\n",
       "<table border=\"1\" class=\"dataframe\">\n",
       "  <thead>\n",
       "    <tr style=\"text-align: right;\">\n",
       "      <th></th>\n",
       "      <th>method</th>\n",
       "      <th>rank</th>\n",
       "      <th>epoch</th>\n",
       "      <th>eval_loss</th>\n",
       "      <th>eval_accuracy</th>\n",
       "      <th>train_loss</th>\n",
       "    </tr>\n",
       "  </thead>\n",
       "  <tbody>\n",
       "    <tr>\n",
       "      <th>2</th>\n",
       "      <td>full_finetuning</td>\n",
       "      <td>NaN</td>\n",
       "      <td>3.0</td>\n",
       "      <td>0.420702</td>\n",
       "      <td>0.805054</td>\n",
       "      <td>0.4443</td>\n",
       "    </tr>\n",
       "    <tr>\n",
       "      <th>17</th>\n",
       "      <td>lora</td>\n",
       "      <td>16.0</td>\n",
       "      <td>3.0</td>\n",
       "      <td>0.394365</td>\n",
       "      <td>0.844765</td>\n",
       "      <td>0.4471</td>\n",
       "    </tr>\n",
       "    <tr>\n",
       "      <th>27</th>\n",
       "      <td>lora</td>\n",
       "      <td>256.0</td>\n",
       "      <td>3.0</td>\n",
       "      <td>0.396537</td>\n",
       "      <td>0.830325</td>\n",
       "      <td>0.4248</td>\n",
       "    </tr>\n",
       "    <tr>\n",
       "      <th>52</th>\n",
       "      <td>lora</td>\n",
       "      <td>8.0</td>\n",
       "      <td>3.0</td>\n",
       "      <td>0.407923</td>\n",
       "      <td>0.848375</td>\n",
       "      <td>0.4717</td>\n",
       "    </tr>\n",
       "    <tr>\n",
       "      <th>12</th>\n",
       "      <td>lora</td>\n",
       "      <td>128.0</td>\n",
       "      <td>3.0</td>\n",
       "      <td>0.417348</td>\n",
       "      <td>0.826715</td>\n",
       "      <td>0.4227</td>\n",
       "    </tr>\n",
       "    <tr>\n",
       "      <th>42</th>\n",
       "      <td>lora</td>\n",
       "      <td>512.0</td>\n",
       "      <td>3.0</td>\n",
       "      <td>0.433891</td>\n",
       "      <td>0.819495</td>\n",
       "      <td>0.4055</td>\n",
       "    </tr>\n",
       "    <tr>\n",
       "      <th>22</th>\n",
       "      <td>lora</td>\n",
       "      <td>1.0</td>\n",
       "      <td>3.0</td>\n",
       "      <td>0.438385</td>\n",
       "      <td>0.812274</td>\n",
       "      <td>0.5236</td>\n",
       "    </tr>\n",
       "    <tr>\n",
       "      <th>37</th>\n",
       "      <td>lora</td>\n",
       "      <td>4.0</td>\n",
       "      <td>3.0</td>\n",
       "      <td>0.448264</td>\n",
       "      <td>0.826715</td>\n",
       "      <td>0.4085</td>\n",
       "    </tr>\n",
       "    <tr>\n",
       "      <th>47</th>\n",
       "      <td>lora</td>\n",
       "      <td>64.0</td>\n",
       "      <td>3.0</td>\n",
       "      <td>0.487885</td>\n",
       "      <td>0.826715</td>\n",
       "      <td>0.3603</td>\n",
       "    </tr>\n",
       "    <tr>\n",
       "      <th>32</th>\n",
       "      <td>lora</td>\n",
       "      <td>32.0</td>\n",
       "      <td>3.0</td>\n",
       "      <td>0.506719</td>\n",
       "      <td>0.765343</td>\n",
       "      <td>0.5982</td>\n",
       "    </tr>\n",
       "    <tr>\n",
       "      <th>7</th>\n",
       "      <td>lora</td>\n",
       "      <td>1024.0</td>\n",
       "      <td>3.0</td>\n",
       "      <td>0.652584</td>\n",
       "      <td>0.649819</td>\n",
       "      <td>0.6834</td>\n",
       "    </tr>\n",
       "    <tr>\n",
       "      <th>72</th>\n",
       "      <td>rslora</td>\n",
       "      <td>1.0</td>\n",
       "      <td>3.0</td>\n",
       "      <td>0.438385</td>\n",
       "      <td>0.812274</td>\n",
       "      <td>0.5236</td>\n",
       "    </tr>\n",
       "    <tr>\n",
       "      <th>87</th>\n",
       "      <td>rslora</td>\n",
       "      <td>4.0</td>\n",
       "      <td>3.0</td>\n",
       "      <td>0.452205</td>\n",
       "      <td>0.844765</td>\n",
       "      <td>0.3471</td>\n",
       "    </tr>\n",
       "    <tr>\n",
       "      <th>97</th>\n",
       "      <td>rslora</td>\n",
       "      <td>64.0</td>\n",
       "      <td>3.0</td>\n",
       "      <td>0.454816</td>\n",
       "      <td>0.808664</td>\n",
       "      <td>0.4521</td>\n",
       "    </tr>\n",
       "    <tr>\n",
       "      <th>67</th>\n",
       "      <td>rslora</td>\n",
       "      <td>16.0</td>\n",
       "      <td>3.0</td>\n",
       "      <td>0.473349</td>\n",
       "      <td>0.797834</td>\n",
       "      <td>0.5034</td>\n",
       "    </tr>\n",
       "    <tr>\n",
       "      <th>62</th>\n",
       "      <td>rslora</td>\n",
       "      <td>128.0</td>\n",
       "      <td>3.0</td>\n",
       "      <td>0.482240</td>\n",
       "      <td>0.758123</td>\n",
       "      <td>0.5156</td>\n",
       "    </tr>\n",
       "    <tr>\n",
       "      <th>82</th>\n",
       "      <td>rslora</td>\n",
       "      <td>32.0</td>\n",
       "      <td>3.0</td>\n",
       "      <td>0.483699</td>\n",
       "      <td>0.844765</td>\n",
       "      <td>0.3542</td>\n",
       "    </tr>\n",
       "    <tr>\n",
       "      <th>102</th>\n",
       "      <td>rslora</td>\n",
       "      <td>8.0</td>\n",
       "      <td>3.0</td>\n",
       "      <td>0.520095</td>\n",
       "      <td>0.812274</td>\n",
       "      <td>0.4154</td>\n",
       "    </tr>\n",
       "    <tr>\n",
       "      <th>92</th>\n",
       "      <td>rslora</td>\n",
       "      <td>512.0</td>\n",
       "      <td>3.0</td>\n",
       "      <td>0.691935</td>\n",
       "      <td>0.527076</td>\n",
       "      <td>0.7189</td>\n",
       "    </tr>\n",
       "    <tr>\n",
       "      <th>77</th>\n",
       "      <td>rslora</td>\n",
       "      <td>256.0</td>\n",
       "      <td>3.0</td>\n",
       "      <td>0.692118</td>\n",
       "      <td>0.527076</td>\n",
       "      <td>0.7239</td>\n",
       "    </tr>\n",
       "    <tr>\n",
       "      <th>57</th>\n",
       "      <td>rslora</td>\n",
       "      <td>1024.0</td>\n",
       "      <td>3.0</td>\n",
       "      <td>0.692899</td>\n",
       "      <td>0.527076</td>\n",
       "      <td>0.7140</td>\n",
       "    </tr>\n",
       "  </tbody>\n",
       "</table>\n",
       "</div>"
      ],
      "text/plain": [
       "              method    rank  epoch  eval_loss  eval_accuracy  train_loss\n",
       "2    full_finetuning     NaN    3.0   0.420702       0.805054      0.4443\n",
       "17              lora    16.0    3.0   0.394365       0.844765      0.4471\n",
       "27              lora   256.0    3.0   0.396537       0.830325      0.4248\n",
       "52              lora     8.0    3.0   0.407923       0.848375      0.4717\n",
       "12              lora   128.0    3.0   0.417348       0.826715      0.4227\n",
       "42              lora   512.0    3.0   0.433891       0.819495      0.4055\n",
       "22              lora     1.0    3.0   0.438385       0.812274      0.5236\n",
       "37              lora     4.0    3.0   0.448264       0.826715      0.4085\n",
       "47              lora    64.0    3.0   0.487885       0.826715      0.3603\n",
       "32              lora    32.0    3.0   0.506719       0.765343      0.5982\n",
       "7               lora  1024.0    3.0   0.652584       0.649819      0.6834\n",
       "72            rslora     1.0    3.0   0.438385       0.812274      0.5236\n",
       "87            rslora     4.0    3.0   0.452205       0.844765      0.3471\n",
       "97            rslora    64.0    3.0   0.454816       0.808664      0.4521\n",
       "67            rslora    16.0    3.0   0.473349       0.797834      0.5034\n",
       "62            rslora   128.0    3.0   0.482240       0.758123      0.5156\n",
       "82            rslora    32.0    3.0   0.483699       0.844765      0.3542\n",
       "102           rslora     8.0    3.0   0.520095       0.812274      0.4154\n",
       "92            rslora   512.0    3.0   0.691935       0.527076      0.7189\n",
       "77            rslora   256.0    3.0   0.692118       0.527076      0.7239\n",
       "57            rslora  1024.0    3.0   0.692899       0.527076      0.7140"
      ]
     },
     "metadata": {},
     "output_type": "display_data"
    }
   ],
   "source": [
    "# === EDA Step 1: summaries from df_all ===\n",
    "\n",
    "third_epoch = (\n",
    "    df_all.sort_values(\"epoch\")\n",
    "          .groupby(\"run_name\", as_index=False)\n",
    "          .nth(2)\n",
    ")\n",
    "# 2) specifically epoch 5 per run (if present)\n",
    "epoch5 = (\n",
    "    df_all[df_all[\"epoch\"] == 3]\n",
    "    .copy()\n",
    ")\n",
    "\n",
    "# quick glance\n",
    "print(\"Third epoch summary:\")\n",
    "display(third_epoch[[\"method\",\"rank\",\"epoch\",\"eval_loss\",\"eval_accuracy\",\"train_loss\"]].sort_values([\"method\", \"eval_loss\"], ascending=[True,True]))\n",
    "\n",
    "# print(\"Epoch 5 summary:\")\n",
    "# display(epoch5[[\"method\",\"rank\",\"epoch\",\"eval_loss\",\"eval_accuracy\",\"train_loss\"]].head())\n"
   ]
  },
  {
   "cell_type": "code",
   "execution_count": null,
   "id": "89680ee7",
   "metadata": {},
   "outputs": [],
   "source": [
    "# 1) first epoch per run\n",
    "third_epoch = (\n",
    "    df_all.sort_values(\"epoch\")\n",
    "          .groupby(\"run_name\", as_index=False)\n",
    "          .nth(2)\n",
    ")"
   ]
  },
  {
   "cell_type": "code",
   "execution_count": 87,
   "id": "5d3ae288",
   "metadata": {},
   "outputs": [
    {
     "data": {
      "text/html": [
       "<div>\n",
       "<style scoped>\n",
       "    .dataframe tbody tr th:only-of-type {\n",
       "        vertical-align: middle;\n",
       "    }\n",
       "\n",
       "    .dataframe tbody tr th {\n",
       "        vertical-align: top;\n",
       "    }\n",
       "\n",
       "    .dataframe thead th {\n",
       "        text-align: right;\n",
       "    }\n",
       "</style>\n",
       "<table border=\"1\" class=\"dataframe\">\n",
       "  <thead>\n",
       "    <tr style=\"text-align: right;\">\n",
       "      <th></th>\n",
       "      <th>task</th>\n",
       "      <th>model</th>\n",
       "      <th>method</th>\n",
       "      <th>rank</th>\n",
       "      <th>run_name</th>\n",
       "      <th>epoch</th>\n",
       "      <th>eval_loss</th>\n",
       "      <th>eval_accuracy</th>\n",
       "      <th>eval_runtime</th>\n",
       "      <th>eval_samples_per_second</th>\n",
       "      <th>eval_steps_per_second</th>\n",
       "      <th>eval_csv</th>\n",
       "      <th>train_loss</th>\n",
       "      <th>train_csv</th>\n",
       "      <th>eval_csv</th>\n",
       "      <th>train_csv</th>\n",
       "    </tr>\n",
       "  </thead>\n",
       "  <tbody>\n",
       "    <tr>\n",
       "      <th>8</th>\n",
       "      <td>rte</td>\n",
       "      <td>roberta-large</td>\n",
       "      <td>lora</td>\n",
       "      <td>1024.0</td>\n",
       "      <td>lora_r1024_alpha1024_lr1.77827941e-05_best_acc...</td>\n",
       "      <td>4.0</td>\n",
       "      <td>0.604435</td>\n",
       "      <td>0.646209</td>\n",
       "      <td>13.1558</td>\n",
       "      <td>21.055</td>\n",
       "      <td>0.076</td>\n",
       "      <td>glue_results_final/rte/roberta-large/lora/lora...</td>\n",
       "      <td>0.6451</td>\n",
       "      <td>glue_results_final/rte/roberta-large/lora/lora...</td>\n",
       "      <td>glue_results_final/rte/roberta-large/lora/lora...</td>\n",
       "      <td>glue_results_final/rte/roberta-large/lora/lora...</td>\n",
       "    </tr>\n",
       "    <tr>\n",
       "      <th>58</th>\n",
       "      <td>rte</td>\n",
       "      <td>roberta-large</td>\n",
       "      <td>rslora</td>\n",
       "      <td>1024.0</td>\n",
       "      <td>rslora_r1024_alpha1024_lr0.0001_best_accuracy</td>\n",
       "      <td>4.0</td>\n",
       "      <td>0.707320</td>\n",
       "      <td>0.472924</td>\n",
       "      <td>1.7121</td>\n",
       "      <td>161.794</td>\n",
       "      <td>2.920</td>\n",
       "      <td>glue_results_final/rte/roberta-large/rslora/rs...</td>\n",
       "      <td>0.7076</td>\n",
       "      <td>glue_results_final/rte/roberta-large/rslora/rs...</td>\n",
       "      <td>glue_results_final/rte/roberta-large/rslora/rs...</td>\n",
       "      <td>glue_results_final/rte/roberta-large/rslora/rs...</td>\n",
       "    </tr>\n",
       "    <tr>\n",
       "      <th>18</th>\n",
       "      <td>rte</td>\n",
       "      <td>roberta-large</td>\n",
       "      <td>lora</td>\n",
       "      <td>16.0</td>\n",
       "      <td>lora_r16_alpha16_lr0.00031622776601683794_best...</td>\n",
       "      <td>4.0</td>\n",
       "      <td>0.407530</td>\n",
       "      <td>0.859206</td>\n",
       "      <td>0.4465</td>\n",
       "      <td>620.370</td>\n",
       "      <td>11.198</td>\n",
       "      <td>glue_results_final/rte/roberta-large/lora/lora...</td>\n",
       "      <td>0.2900</td>\n",
       "      <td>glue_results_final/rte/roberta-large/lora/lora...</td>\n",
       "      <td>glue_results_final/rte/roberta-large/lora/lora...</td>\n",
       "      <td>glue_results_final/rte/roberta-large/lora/lora...</td>\n",
       "    </tr>\n",
       "    <tr>\n",
       "      <th>98</th>\n",
       "      <td>rte</td>\n",
       "      <td>roberta-large</td>\n",
       "      <td>rslora</td>\n",
       "      <td>64.0</td>\n",
       "      <td>rslora_r64_alpha64_lr1.77827941e-05_best_accuracy</td>\n",
       "      <td>4.0</td>\n",
       "      <td>0.447371</td>\n",
       "      <td>0.844765</td>\n",
       "      <td>0.9770</td>\n",
       "      <td>283.515</td>\n",
       "      <td>5.118</td>\n",
       "      <td>glue_results_final/rte/roberta-large/rslora/rs...</td>\n",
       "      <td>0.3116</td>\n",
       "      <td>glue_results_final/rte/roberta-large/rslora/rs...</td>\n",
       "      <td>glue_results_final/rte/roberta-large/rslora/rs...</td>\n",
       "      <td>glue_results_final/rte/roberta-large/rslora/rs...</td>\n",
       "    </tr>\n",
       "    <tr>\n",
       "      <th>38</th>\n",
       "      <td>rte</td>\n",
       "      <td>roberta-large</td>\n",
       "      <td>lora</td>\n",
       "      <td>4.0</td>\n",
       "      <td>lora_r4_alpha4_lr0.001_best_accuracy</td>\n",
       "      <td>4.0</td>\n",
       "      <td>0.475128</td>\n",
       "      <td>0.859206</td>\n",
       "      <td>0.4436</td>\n",
       "      <td>624.399</td>\n",
       "      <td>11.271</td>\n",
       "      <td>glue_results_final/rte/roberta-large/lora/lora...</td>\n",
       "      <td>0.2431</td>\n",
       "      <td>glue_results_final/rte/roberta-large/lora/lora...</td>\n",
       "      <td>glue_results_final/rte/roberta-large/lora/lora...</td>\n",
       "      <td>glue_results_final/rte/roberta-large/lora/lora...</td>\n",
       "    </tr>\n",
       "    <tr>\n",
       "      <th>63</th>\n",
       "      <td>rte</td>\n",
       "      <td>roberta-large</td>\n",
       "      <td>rslora</td>\n",
       "      <td>128.0</td>\n",
       "      <td>rslora_r128_alpha128_lr1.77827941e-05_best_acc...</td>\n",
       "      <td>4.0</td>\n",
       "      <td>0.388970</td>\n",
       "      <td>0.855596</td>\n",
       "      <td>1.0021</td>\n",
       "      <td>276.424</td>\n",
       "      <td>4.990</td>\n",
       "      <td>glue_results_final/rte/roberta-large/rslora/rs...</td>\n",
       "      <td>0.3582</td>\n",
       "      <td>glue_results_final/rte/roberta-large/rslora/rs...</td>\n",
       "      <td>glue_results_final/rte/roberta-large/rslora/rs...</td>\n",
       "      <td>glue_results_final/rte/roberta-large/rslora/rs...</td>\n",
       "    </tr>\n",
       "    <tr>\n",
       "      <th>78</th>\n",
       "      <td>rte</td>\n",
       "      <td>roberta-large</td>\n",
       "      <td>rslora</td>\n",
       "      <td>256.0</td>\n",
       "      <td>rslora_r256_alpha256_lr0.00031622776601683794_...</td>\n",
       "      <td>4.0</td>\n",
       "      <td>0.703742</td>\n",
       "      <td>0.472924</td>\n",
       "      <td>0.4684</td>\n",
       "      <td>591.383</td>\n",
       "      <td>10.675</td>\n",
       "      <td>glue_results_final/rte/roberta-large/rslora/rs...</td>\n",
       "      <td>0.7057</td>\n",
       "      <td>glue_results_final/rte/roberta-large/rslora/rs...</td>\n",
       "      <td>glue_results_final/rte/roberta-large/rslora/rs...</td>\n",
       "      <td>glue_results_final/rte/roberta-large/rslora/rs...</td>\n",
       "    </tr>\n",
       "    <tr>\n",
       "      <th>23</th>\n",
       "      <td>rte</td>\n",
       "      <td>roberta-large</td>\n",
       "      <td>lora</td>\n",
       "      <td>1.0</td>\n",
       "      <td>lora_r1_alpha1_lr0.001_best_accuracy</td>\n",
       "      <td>4.0</td>\n",
       "      <td>0.454148</td>\n",
       "      <td>0.830325</td>\n",
       "      <td>0.4372</td>\n",
       "      <td>633.563</td>\n",
       "      <td>11.436</td>\n",
       "      <td>glue_results_final/rte/roberta-large/lora/lora...</td>\n",
       "      <td>0.3779</td>\n",
       "      <td>glue_results_final/rte/roberta-large/lora/lora...</td>\n",
       "      <td>glue_results_final/rte/roberta-large/lora/lora...</td>\n",
       "      <td>glue_results_final/rte/roberta-large/lora/lora...</td>\n",
       "    </tr>\n",
       "    <tr>\n",
       "      <th>93</th>\n",
       "      <td>rte</td>\n",
       "      <td>roberta-large</td>\n",
       "      <td>rslora</td>\n",
       "      <td>512.0</td>\n",
       "      <td>rslora_r512_alpha512_lr0.0001_best_accuracy</td>\n",
       "      <td>4.0</td>\n",
       "      <td>0.708001</td>\n",
       "      <td>0.472924</td>\n",
       "      <td>0.5314</td>\n",
       "      <td>521.288</td>\n",
       "      <td>9.410</td>\n",
       "      <td>glue_results_final/rte/roberta-large/rslora/rs...</td>\n",
       "      <td>0.7058</td>\n",
       "      <td>glue_results_final/rte/roberta-large/rslora/rs...</td>\n",
       "      <td>glue_results_final/rte/roberta-large/rslora/rs...</td>\n",
       "      <td>glue_results_final/rte/roberta-large/rslora/rs...</td>\n",
       "    </tr>\n",
       "    <tr>\n",
       "      <th>3</th>\n",
       "      <td>rte</td>\n",
       "      <td>roberta-large</td>\n",
       "      <td>full_finetuning</td>\n",
       "      <td>NaN</td>\n",
       "      <td>full_finetuning_lr1e-05_best_accuracy</td>\n",
       "      <td>4.0</td>\n",
       "      <td>0.413439</td>\n",
       "      <td>0.833935</td>\n",
       "      <td>0.2260</td>\n",
       "      <td>1225.847</td>\n",
       "      <td>22.127</td>\n",
       "      <td>glue_results_final/rte/roberta-large/full_fine...</td>\n",
       "      <td>0.2840</td>\n",
       "      <td>glue_results_final/rte/roberta-large/full_fine...</td>\n",
       "      <td>glue_results_final/rte/roberta-large/full_fine...</td>\n",
       "      <td>glue_results_final/rte/roberta-large/full_fine...</td>\n",
       "    </tr>\n",
       "    <tr>\n",
       "      <th>53</th>\n",
       "      <td>rte</td>\n",
       "      <td>roberta-large</td>\n",
       "      <td>lora</td>\n",
       "      <td>8.0</td>\n",
       "      <td>lora_r8_alpha8_lr0.00031622776601683794_best_a...</td>\n",
       "      <td>4.0</td>\n",
       "      <td>0.469643</td>\n",
       "      <td>0.833935</td>\n",
       "      <td>0.4441</td>\n",
       "      <td>623.733</td>\n",
       "      <td>11.259</td>\n",
       "      <td>glue_results_final/rte/roberta-large/lora/lora...</td>\n",
       "      <td>0.3142</td>\n",
       "      <td>glue_results_final/rte/roberta-large/lora/lora...</td>\n",
       "      <td>glue_results_final/rte/roberta-large/lora/lora...</td>\n",
       "      <td>glue_results_final/rte/roberta-large/lora/lora...</td>\n",
       "    </tr>\n",
       "    <tr>\n",
       "      <th>33</th>\n",
       "      <td>rte</td>\n",
       "      <td>roberta-large</td>\n",
       "      <td>lora</td>\n",
       "      <td>32.0</td>\n",
       "      <td>lora_r32_alpha32_lr0.0001_best_accuracy</td>\n",
       "      <td>4.0</td>\n",
       "      <td>0.400736</td>\n",
       "      <td>0.819495</td>\n",
       "      <td>0.4505</td>\n",
       "      <td>614.937</td>\n",
       "      <td>11.100</td>\n",
       "      <td>glue_results_final/rte/roberta-large/lora/lora...</td>\n",
       "      <td>0.4267</td>\n",
       "      <td>glue_results_final/rte/roberta-large/lora/lora...</td>\n",
       "      <td>glue_results_final/rte/roberta-large/lora/lora...</td>\n",
       "      <td>glue_results_final/rte/roberta-large/lora/lora...</td>\n",
       "    </tr>\n",
       "    <tr>\n",
       "      <th>83</th>\n",
       "      <td>rte</td>\n",
       "      <td>roberta-large</td>\n",
       "      <td>rslora</td>\n",
       "      <td>32.0</td>\n",
       "      <td>rslora_r32_alpha32_lr0.0001_best_accuracy</td>\n",
       "      <td>4.0</td>\n",
       "      <td>0.611270</td>\n",
       "      <td>0.844765</td>\n",
       "      <td>0.4474</td>\n",
       "      <td>619.151</td>\n",
       "      <td>11.176</td>\n",
       "      <td>glue_results_final/rte/roberta-large/rslora/rs...</td>\n",
       "      <td>0.1904</td>\n",
       "      <td>glue_results_final/rte/roberta-large/rslora/rs...</td>\n",
       "      <td>glue_results_final/rte/roberta-large/rslora/rs...</td>\n",
       "      <td>glue_results_final/rte/roberta-large/rslora/rs...</td>\n",
       "    </tr>\n",
       "    <tr>\n",
       "      <th>43</th>\n",
       "      <td>rte</td>\n",
       "      <td>roberta-large</td>\n",
       "      <td>lora</td>\n",
       "      <td>512.0</td>\n",
       "      <td>lora_r512_alpha512_lr1.778279410038923e-05_bes...</td>\n",
       "      <td>4.0</td>\n",
       "      <td>0.445640</td>\n",
       "      <td>0.830325</td>\n",
       "      <td>0.5471</td>\n",
       "      <td>506.334</td>\n",
       "      <td>9.140</td>\n",
       "      <td>glue_results_final/rte/roberta-large/lora/lora...</td>\n",
       "      <td>0.2933</td>\n",
       "      <td>glue_results_final/rte/roberta-large/lora/lora...</td>\n",
       "      <td>glue_results_final/rte/roberta-large/lora/lora...</td>\n",
       "      <td>glue_results_final/rte/roberta-large/lora/lora...</td>\n",
       "    </tr>\n",
       "    <tr>\n",
       "      <th>13</th>\n",
       "      <td>rte</td>\n",
       "      <td>roberta-large</td>\n",
       "      <td>lora</td>\n",
       "      <td>128.0</td>\n",
       "      <td>lora_r128_alpha128_lr5.623413251903491e-05_bes...</td>\n",
       "      <td>4.0</td>\n",
       "      <td>0.434100</td>\n",
       "      <td>0.826715</td>\n",
       "      <td>0.4548</td>\n",
       "      <td>609.049</td>\n",
       "      <td>10.994</td>\n",
       "      <td>glue_results_final/rte/roberta-large/lora/lora...</td>\n",
       "      <td>0.2752</td>\n",
       "      <td>glue_results_final/rte/roberta-large/lora/lora...</td>\n",
       "      <td>glue_results_final/rte/roberta-large/lora/lora...</td>\n",
       "      <td>glue_results_final/rte/roberta-large/lora/lora...</td>\n",
       "    </tr>\n",
       "    <tr>\n",
       "      <th>73</th>\n",
       "      <td>rte</td>\n",
       "      <td>roberta-large</td>\n",
       "      <td>rslora</td>\n",
       "      <td>1.0</td>\n",
       "      <td>rslora_r1_alpha1_lr0.001_best_accuracy</td>\n",
       "      <td>4.0</td>\n",
       "      <td>0.454148</td>\n",
       "      <td>0.830325</td>\n",
       "      <td>0.4430</td>\n",
       "      <td>625.326</td>\n",
       "      <td>11.287</td>\n",
       "      <td>glue_results_final/rte/roberta-large/rslora/rs...</td>\n",
       "      <td>0.3779</td>\n",
       "      <td>glue_results_final/rte/roberta-large/rslora/rs...</td>\n",
       "      <td>glue_results_final/rte/roberta-large/rslora/rs...</td>\n",
       "      <td>glue_results_final/rte/roberta-large/rslora/rs...</td>\n",
       "    </tr>\n",
       "    <tr>\n",
       "      <th>88</th>\n",
       "      <td>rte</td>\n",
       "      <td>roberta-large</td>\n",
       "      <td>rslora</td>\n",
       "      <td>4.0</td>\n",
       "      <td>rslora_r4_alpha4_lr0.001_best_accuracy</td>\n",
       "      <td>4.0</td>\n",
       "      <td>0.469121</td>\n",
       "      <td>0.844765</td>\n",
       "      <td>0.4443</td>\n",
       "      <td>623.483</td>\n",
       "      <td>11.254</td>\n",
       "      <td>glue_results_final/rte/roberta-large/rslora/rs...</td>\n",
       "      <td>0.1860</td>\n",
       "      <td>glue_results_final/rte/roberta-large/rslora/rs...</td>\n",
       "      <td>glue_results_final/rte/roberta-large/rslora/rs...</td>\n",
       "      <td>glue_results_final/rte/roberta-large/rslora/rs...</td>\n",
       "    </tr>\n",
       "    <tr>\n",
       "      <th>103</th>\n",
       "      <td>rte</td>\n",
       "      <td>roberta-large</td>\n",
       "      <td>rslora</td>\n",
       "      <td>8.0</td>\n",
       "      <td>rslora_r8_alpha8_lr0.00031622776601683794_best...</td>\n",
       "      <td>4.0</td>\n",
       "      <td>0.544548</td>\n",
       "      <td>0.823105</td>\n",
       "      <td>0.4485</td>\n",
       "      <td>617.649</td>\n",
       "      <td>11.149</td>\n",
       "      <td>glue_results_final/rte/roberta-large/rslora/rs...</td>\n",
       "      <td>0.2477</td>\n",
       "      <td>glue_results_final/rte/roberta-large/rslora/rs...</td>\n",
       "      <td>glue_results_final/rte/roberta-large/rslora/rs...</td>\n",
       "      <td>glue_results_final/rte/roberta-large/rslora/rs...</td>\n",
       "    </tr>\n",
       "    <tr>\n",
       "      <th>28</th>\n",
       "      <td>rte</td>\n",
       "      <td>roberta-large</td>\n",
       "      <td>lora</td>\n",
       "      <td>256.0</td>\n",
       "      <td>lora_r256_alpha256_lr3.1622776601683795e-05_be...</td>\n",
       "      <td>4.0</td>\n",
       "      <td>0.456336</td>\n",
       "      <td>0.837545</td>\n",
       "      <td>0.4828</td>\n",
       "      <td>573.706</td>\n",
       "      <td>10.356</td>\n",
       "      <td>glue_results_final/rte/roberta-large/lora/lora...</td>\n",
       "      <td>0.2823</td>\n",
       "      <td>glue_results_final/rte/roberta-large/lora/lora...</td>\n",
       "      <td>glue_results_final/rte/roberta-large/lora/lora...</td>\n",
       "      <td>glue_results_final/rte/roberta-large/lora/lora...</td>\n",
       "    </tr>\n",
       "    <tr>\n",
       "      <th>48</th>\n",
       "      <td>rte</td>\n",
       "      <td>roberta-large</td>\n",
       "      <td>lora</td>\n",
       "      <td>64.0</td>\n",
       "      <td>lora_r64_alpha64_lr0.00031622776601683794_best...</td>\n",
       "      <td>4.0</td>\n",
       "      <td>0.535044</td>\n",
       "      <td>0.844765</td>\n",
       "      <td>0.4496</td>\n",
       "      <td>616.060</td>\n",
       "      <td>11.120</td>\n",
       "      <td>glue_results_final/rte/roberta-large/lora/lora...</td>\n",
       "      <td>0.2045</td>\n",
       "      <td>glue_results_final/rte/roberta-large/lora/lora...</td>\n",
       "      <td>glue_results_final/rte/roberta-large/lora/lora...</td>\n",
       "      <td>glue_results_final/rte/roberta-large/lora/lora...</td>\n",
       "    </tr>\n",
       "    <tr>\n",
       "      <th>68</th>\n",
       "      <td>rte</td>\n",
       "      <td>roberta-large</td>\n",
       "      <td>rslora</td>\n",
       "      <td>16.0</td>\n",
       "      <td>rslora_r16_alpha16_lr0.0001_best_accuracy</td>\n",
       "      <td>4.0</td>\n",
       "      <td>0.393663</td>\n",
       "      <td>0.855596</td>\n",
       "      <td>0.4455</td>\n",
       "      <td>621.775</td>\n",
       "      <td>11.223</td>\n",
       "      <td>glue_results_final/rte/roberta-large/rslora/rs...</td>\n",
       "      <td>0.3394</td>\n",
       "      <td>glue_results_final/rte/roberta-large/rslora/rs...</td>\n",
       "      <td>glue_results_final/rte/roberta-large/rslora/rs...</td>\n",
       "      <td>glue_results_final/rte/roberta-large/rslora/rs...</td>\n",
       "    </tr>\n",
       "  </tbody>\n",
       "</table>\n",
       "</div>"
      ],
      "text/plain": [
       "    task          model           method    rank  \\\n",
       "8    rte  roberta-large             lora  1024.0   \n",
       "58   rte  roberta-large           rslora  1024.0   \n",
       "18   rte  roberta-large             lora    16.0   \n",
       "98   rte  roberta-large           rslora    64.0   \n",
       "38   rte  roberta-large             lora     4.0   \n",
       "63   rte  roberta-large           rslora   128.0   \n",
       "78   rte  roberta-large           rslora   256.0   \n",
       "23   rte  roberta-large             lora     1.0   \n",
       "93   rte  roberta-large           rslora   512.0   \n",
       "3    rte  roberta-large  full_finetuning     NaN   \n",
       "53   rte  roberta-large             lora     8.0   \n",
       "33   rte  roberta-large             lora    32.0   \n",
       "83   rte  roberta-large           rslora    32.0   \n",
       "43   rte  roberta-large             lora   512.0   \n",
       "13   rte  roberta-large             lora   128.0   \n",
       "73   rte  roberta-large           rslora     1.0   \n",
       "88   rte  roberta-large           rslora     4.0   \n",
       "103  rte  roberta-large           rslora     8.0   \n",
       "28   rte  roberta-large             lora   256.0   \n",
       "48   rte  roberta-large             lora    64.0   \n",
       "68   rte  roberta-large           rslora    16.0   \n",
       "\n",
       "                                              run_name  epoch  eval_loss  \\\n",
       "8    lora_r1024_alpha1024_lr1.77827941e-05_best_acc...    4.0   0.604435   \n",
       "58       rslora_r1024_alpha1024_lr0.0001_best_accuracy    4.0   0.707320   \n",
       "18   lora_r16_alpha16_lr0.00031622776601683794_best...    4.0   0.407530   \n",
       "98   rslora_r64_alpha64_lr1.77827941e-05_best_accuracy    4.0   0.447371   \n",
       "38                lora_r4_alpha4_lr0.001_best_accuracy    4.0   0.475128   \n",
       "63   rslora_r128_alpha128_lr1.77827941e-05_best_acc...    4.0   0.388970   \n",
       "78   rslora_r256_alpha256_lr0.00031622776601683794_...    4.0   0.703742   \n",
       "23                lora_r1_alpha1_lr0.001_best_accuracy    4.0   0.454148   \n",
       "93         rslora_r512_alpha512_lr0.0001_best_accuracy    4.0   0.708001   \n",
       "3                full_finetuning_lr1e-05_best_accuracy    4.0   0.413439   \n",
       "53   lora_r8_alpha8_lr0.00031622776601683794_best_a...    4.0   0.469643   \n",
       "33             lora_r32_alpha32_lr0.0001_best_accuracy    4.0   0.400736   \n",
       "83           rslora_r32_alpha32_lr0.0001_best_accuracy    4.0   0.611270   \n",
       "43   lora_r512_alpha512_lr1.778279410038923e-05_bes...    4.0   0.445640   \n",
       "13   lora_r128_alpha128_lr5.623413251903491e-05_bes...    4.0   0.434100   \n",
       "73              rslora_r1_alpha1_lr0.001_best_accuracy    4.0   0.454148   \n",
       "88              rslora_r4_alpha4_lr0.001_best_accuracy    4.0   0.469121   \n",
       "103  rslora_r8_alpha8_lr0.00031622776601683794_best...    4.0   0.544548   \n",
       "28   lora_r256_alpha256_lr3.1622776601683795e-05_be...    4.0   0.456336   \n",
       "48   lora_r64_alpha64_lr0.00031622776601683794_best...    4.0   0.535044   \n",
       "68           rslora_r16_alpha16_lr0.0001_best_accuracy    4.0   0.393663   \n",
       "\n",
       "     eval_accuracy  eval_runtime  eval_samples_per_second  \\\n",
       "8         0.646209       13.1558                   21.055   \n",
       "58        0.472924        1.7121                  161.794   \n",
       "18        0.859206        0.4465                  620.370   \n",
       "98        0.844765        0.9770                  283.515   \n",
       "38        0.859206        0.4436                  624.399   \n",
       "63        0.855596        1.0021                  276.424   \n",
       "78        0.472924        0.4684                  591.383   \n",
       "23        0.830325        0.4372                  633.563   \n",
       "93        0.472924        0.5314                  521.288   \n",
       "3         0.833935        0.2260                 1225.847   \n",
       "53        0.833935        0.4441                  623.733   \n",
       "33        0.819495        0.4505                  614.937   \n",
       "83        0.844765        0.4474                  619.151   \n",
       "43        0.830325        0.5471                  506.334   \n",
       "13        0.826715        0.4548                  609.049   \n",
       "73        0.830325        0.4430                  625.326   \n",
       "88        0.844765        0.4443                  623.483   \n",
       "103       0.823105        0.4485                  617.649   \n",
       "28        0.837545        0.4828                  573.706   \n",
       "48        0.844765        0.4496                  616.060   \n",
       "68        0.855596        0.4455                  621.775   \n",
       "\n",
       "     eval_steps_per_second                                           eval_csv  \\\n",
       "8                    0.076  glue_results_final/rte/roberta-large/lora/lora...   \n",
       "58                   2.920  glue_results_final/rte/roberta-large/rslora/rs...   \n",
       "18                  11.198  glue_results_final/rte/roberta-large/lora/lora...   \n",
       "98                   5.118  glue_results_final/rte/roberta-large/rslora/rs...   \n",
       "38                  11.271  glue_results_final/rte/roberta-large/lora/lora...   \n",
       "63                   4.990  glue_results_final/rte/roberta-large/rslora/rs...   \n",
       "78                  10.675  glue_results_final/rte/roberta-large/rslora/rs...   \n",
       "23                  11.436  glue_results_final/rte/roberta-large/lora/lora...   \n",
       "93                   9.410  glue_results_final/rte/roberta-large/rslora/rs...   \n",
       "3                   22.127  glue_results_final/rte/roberta-large/full_fine...   \n",
       "53                  11.259  glue_results_final/rte/roberta-large/lora/lora...   \n",
       "33                  11.100  glue_results_final/rte/roberta-large/lora/lora...   \n",
       "83                  11.176  glue_results_final/rte/roberta-large/rslora/rs...   \n",
       "43                   9.140  glue_results_final/rte/roberta-large/lora/lora...   \n",
       "13                  10.994  glue_results_final/rte/roberta-large/lora/lora...   \n",
       "73                  11.287  glue_results_final/rte/roberta-large/rslora/rs...   \n",
       "88                  11.254  glue_results_final/rte/roberta-large/rslora/rs...   \n",
       "103                 11.149  glue_results_final/rte/roberta-large/rslora/rs...   \n",
       "28                  10.356  glue_results_final/rte/roberta-large/lora/lora...   \n",
       "48                  11.120  glue_results_final/rte/roberta-large/lora/lora...   \n",
       "68                  11.223  glue_results_final/rte/roberta-large/rslora/rs...   \n",
       "\n",
       "     train_loss                                          train_csv  \\\n",
       "8        0.6451  glue_results_final/rte/roberta-large/lora/lora...   \n",
       "58       0.7076  glue_results_final/rte/roberta-large/rslora/rs...   \n",
       "18       0.2900  glue_results_final/rte/roberta-large/lora/lora...   \n",
       "98       0.3116  glue_results_final/rte/roberta-large/rslora/rs...   \n",
       "38       0.2431  glue_results_final/rte/roberta-large/lora/lora...   \n",
       "63       0.3582  glue_results_final/rte/roberta-large/rslora/rs...   \n",
       "78       0.7057  glue_results_final/rte/roberta-large/rslora/rs...   \n",
       "23       0.3779  glue_results_final/rte/roberta-large/lora/lora...   \n",
       "93       0.7058  glue_results_final/rte/roberta-large/rslora/rs...   \n",
       "3        0.2840  glue_results_final/rte/roberta-large/full_fine...   \n",
       "53       0.3142  glue_results_final/rte/roberta-large/lora/lora...   \n",
       "33       0.4267  glue_results_final/rte/roberta-large/lora/lora...   \n",
       "83       0.1904  glue_results_final/rte/roberta-large/rslora/rs...   \n",
       "43       0.2933  glue_results_final/rte/roberta-large/lora/lora...   \n",
       "13       0.2752  glue_results_final/rte/roberta-large/lora/lora...   \n",
       "73       0.3779  glue_results_final/rte/roberta-large/rslora/rs...   \n",
       "88       0.1860  glue_results_final/rte/roberta-large/rslora/rs...   \n",
       "103      0.2477  glue_results_final/rte/roberta-large/rslora/rs...   \n",
       "28       0.2823  glue_results_final/rte/roberta-large/lora/lora...   \n",
       "48       0.2045  glue_results_final/rte/roberta-large/lora/lora...   \n",
       "68       0.3394  glue_results_final/rte/roberta-large/rslora/rs...   \n",
       "\n",
       "                                              eval_csv  \\\n",
       "8    glue_results_final/rte/roberta-large/lora/lora...   \n",
       "58   glue_results_final/rte/roberta-large/rslora/rs...   \n",
       "18   glue_results_final/rte/roberta-large/lora/lora...   \n",
       "98   glue_results_final/rte/roberta-large/rslora/rs...   \n",
       "38   glue_results_final/rte/roberta-large/lora/lora...   \n",
       "63   glue_results_final/rte/roberta-large/rslora/rs...   \n",
       "78   glue_results_final/rte/roberta-large/rslora/rs...   \n",
       "23   glue_results_final/rte/roberta-large/lora/lora...   \n",
       "93   glue_results_final/rte/roberta-large/rslora/rs...   \n",
       "3    glue_results_final/rte/roberta-large/full_fine...   \n",
       "53   glue_results_final/rte/roberta-large/lora/lora...   \n",
       "33   glue_results_final/rte/roberta-large/lora/lora...   \n",
       "83   glue_results_final/rte/roberta-large/rslora/rs...   \n",
       "43   glue_results_final/rte/roberta-large/lora/lora...   \n",
       "13   glue_results_final/rte/roberta-large/lora/lora...   \n",
       "73   glue_results_final/rte/roberta-large/rslora/rs...   \n",
       "88   glue_results_final/rte/roberta-large/rslora/rs...   \n",
       "103  glue_results_final/rte/roberta-large/rslora/rs...   \n",
       "28   glue_results_final/rte/roberta-large/lora/lora...   \n",
       "48   glue_results_final/rte/roberta-large/lora/lora...   \n",
       "68   glue_results_final/rte/roberta-large/rslora/rs...   \n",
       "\n",
       "                                             train_csv  \n",
       "8    glue_results_final/rte/roberta-large/lora/lora...  \n",
       "58   glue_results_final/rte/roberta-large/rslora/rs...  \n",
       "18   glue_results_final/rte/roberta-large/lora/lora...  \n",
       "98   glue_results_final/rte/roberta-large/rslora/rs...  \n",
       "38   glue_results_final/rte/roberta-large/lora/lora...  \n",
       "63   glue_results_final/rte/roberta-large/rslora/rs...  \n",
       "78   glue_results_final/rte/roberta-large/rslora/rs...  \n",
       "23   glue_results_final/rte/roberta-large/lora/lora...  \n",
       "93   glue_results_final/rte/roberta-large/rslora/rs...  \n",
       "3    glue_results_final/rte/roberta-large/full_fine...  \n",
       "53   glue_results_final/rte/roberta-large/lora/lora...  \n",
       "33   glue_results_final/rte/roberta-large/lora/lora...  \n",
       "83   glue_results_final/rte/roberta-large/rslora/rs...  \n",
       "43   glue_results_final/rte/roberta-large/lora/lora...  \n",
       "13   glue_results_final/rte/roberta-large/lora/lora...  \n",
       "73   glue_results_final/rte/roberta-large/rslora/rs...  \n",
       "88   glue_results_final/rte/roberta-large/rslora/rs...  \n",
       "103  glue_results_final/rte/roberta-large/rslora/rs...  \n",
       "28   glue_results_final/rte/roberta-large/lora/lora...  \n",
       "48   glue_results_final/rte/roberta-large/lora/lora...  \n",
       "68   glue_results_final/rte/roberta-large/rslora/rs...  "
      ]
     },
     "execution_count": 87,
     "metadata": {},
     "output_type": "execute_result"
    }
   ],
   "source": [
    "third_epoch"
   ]
  },
  {
   "cell_type": "code",
   "execution_count": null,
   "id": "f014f47d",
   "metadata": {},
   "outputs": [],
   "source": []
  }
 ],
 "metadata": {
  "kernelspec": {
   "display_name": "Python 3 (ipykernel)",
   "language": "python",
   "name": "python3"
  }
 },
 "nbformat": 4,
 "nbformat_minor": 5
}
